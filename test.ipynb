{
 "cells": [
  {
   "cell_type": "code",
   "execution_count": 1,
   "outputs": [],
   "source": [
    "from utils import get_datasets\n",
    "import pandas as pd\n",
    "import numpy as np\n",
    "import matplotlib.pyplot as plt"
   ],
   "metadata": {
    "collapsed": false,
    "pycharm": {
     "name": "#%%\n"
    }
   }
  },
  {
   "cell_type": "code",
   "execution_count": null,
   "outputs": [],
   "source": [
    "seeds = [42, 27, 14, 924, 80]"
   ],
   "metadata": {
    "collapsed": false,
    "pycharm": {
     "name": "#%%\n"
    }
   }
  },
  {
   "cell_type": "code",
   "execution_count": 2,
   "metadata": {
    "collapsed": true,
    "pycharm": {
     "name": "#%%\n"
    }
   },
   "outputs": [],
   "source": [
    "window_size = 30\n",
    "opp_dataset = get_datasets('opportunity', sliding_window=True, validation=True, window_size=window_size, step=10, pretraining=True)"
   ]
  },
  {
   "cell_type": "code",
   "execution_count": 3,
   "outputs": [
    {
     "name": "stdout",
     "output_type": "stream",
     "text": [
      "(7184, 224, 30)\n",
      "(7184, 224, 30)\n"
     ]
    }
   ],
   "source": [
    "train = opp_dataset['training_set']\n",
    "print(train.data['inputs'].shape)\n",
    "print(train.data['inputs'].shape)"
   ],
   "metadata": {
    "collapsed": false,
    "pycharm": {
     "name": "#%%\n"
    }
   }
  },
  {
   "cell_type": "code",
   "execution_count": 4,
   "outputs": [
    {
     "name": "stdout",
     "output_type": "stream",
     "text": [
      "5\n"
     ]
    }
   ],
   "source": [
    "print(train.num_classes)"
   ],
   "metadata": {
    "collapsed": false,
    "pycharm": {
     "name": "#%%\n"
    }
   }
  },
  {
   "cell_type": "code",
   "execution_count": null,
   "outputs": [],
   "source": [
    "val = opp_dataset['validation_set']\n",
    "print(val.data['inputs'].shape)"
   ],
   "metadata": {
    "collapsed": false,
    "pycharm": {
     "name": "#%%\n"
    }
   }
  },
  {
   "cell_type": "code",
   "execution_count": null,
   "outputs": [],
   "source": [
    "test = opp_dataset['testing_set']\n",
    "print(test.data['inputs'].shape)"
   ],
   "metadata": {
    "collapsed": false,
    "pycharm": {
     "name": "#%%\n"
    }
   }
  },
  {
   "cell_type": "code",
   "execution_count": 47,
   "outputs": [
    {
     "name": "stdout",
     "output_type": "stream",
     "text": [
      "[[0. 0. 0. ... 0. 0. 0.]\n",
      " [0. 0. 0. ... 0. 0. 0.]\n",
      " [0. 0. 0. ... 0. 0. 0.]\n",
      " ...\n",
      " [0. 0. 0. ... 0. 0. 0.]\n",
      " [0. 0. 0. ... 0. 0. 0.]\n",
      " [0. 0. 0. ... 0. 0. 0.]]\n",
      "(10, 224)\n"
     ]
    }
   ],
   "source": [
    "ones = np.zeros([10, 113])\n",
    "result = np.pad(array=ones, pad_width=([(0, 0), (0, 111)]), mode='constant', constant_values=0)\n",
    "print(result)\n",
    "print(result.shape)"
   ],
   "metadata": {
    "collapsed": false,
    "pycharm": {
     "name": "#%%\n"
    }
   }
  },
  {
   "cell_type": "code",
   "execution_count": 29,
   "outputs": [
    {
     "ename": "TypeError",
     "evalue": "img should be PIL Image. Got <class 'numpy.ndarray'>",
     "output_type": "error",
     "traceback": [
      "\u001B[1;31m---------------------------------------------------------------------------\u001B[0m",
      "\u001B[1;31mTypeError\u001B[0m                                 Traceback (most recent call last)",
      "Input \u001B[1;32mIn [29]\u001B[0m, in \u001B[0;36m<cell line: 8>\u001B[1;34m()\u001B[0m\n\u001B[0;32m      1\u001B[0m \u001B[38;5;28;01mimport\u001B[39;00m \u001B[38;5;21;01mtorchvision\u001B[39;00m\u001B[38;5;21;01m.\u001B[39;00m\u001B[38;5;21;01mtransforms\u001B[39;00m \u001B[38;5;28;01mas\u001B[39;00m \u001B[38;5;21;01mT\u001B[39;00m\n\u001B[0;32m      3\u001B[0m preprocess \u001B[38;5;241m=\u001B[39m T\u001B[38;5;241m.\u001B[39mCompose([\n\u001B[0;32m      4\u001B[0m    T\u001B[38;5;241m.\u001B[39mResize(\u001B[38;5;241m256\u001B[39m),\n\u001B[0;32m      5\u001B[0m    T\u001B[38;5;241m.\u001B[39mToTensor(),\n\u001B[0;32m      6\u001B[0m ])\n\u001B[1;32m----> 8\u001B[0m j \u001B[38;5;241m=\u001B[39m \u001B[43mpreprocess\u001B[49m\u001B[43m(\u001B[49m\u001B[43mtrain\u001B[49m\u001B[38;5;241;43m.\u001B[39;49m\u001B[43mdata\u001B[49m\u001B[43m[\u001B[49m\u001B[38;5;124;43m'\u001B[39;49m\u001B[38;5;124;43minputs\u001B[39;49m\u001B[38;5;124;43m'\u001B[39;49m\u001B[43m]\u001B[49m\u001B[43m)\u001B[49m\n\u001B[0;32m      9\u001B[0m j\u001B[38;5;241m.\u001B[39mshape\n",
      "File \u001B[1;32mD:\\Work\\School\\Research Project\\MLPMixer\\lib\\site-packages\\torchvision\\transforms\\transforms.py:95\u001B[0m, in \u001B[0;36mCompose.__call__\u001B[1;34m(self, img)\u001B[0m\n\u001B[0;32m     93\u001B[0m \u001B[38;5;28;01mdef\u001B[39;00m \u001B[38;5;21m__call__\u001B[39m(\u001B[38;5;28mself\u001B[39m, img):\n\u001B[0;32m     94\u001B[0m     \u001B[38;5;28;01mfor\u001B[39;00m t \u001B[38;5;129;01min\u001B[39;00m \u001B[38;5;28mself\u001B[39m\u001B[38;5;241m.\u001B[39mtransforms:\n\u001B[1;32m---> 95\u001B[0m         img \u001B[38;5;241m=\u001B[39m \u001B[43mt\u001B[49m\u001B[43m(\u001B[49m\u001B[43mimg\u001B[49m\u001B[43m)\u001B[49m\n\u001B[0;32m     96\u001B[0m     \u001B[38;5;28;01mreturn\u001B[39;00m img\n",
      "File \u001B[1;32mD:\\Work\\School\\Research Project\\MLPMixer\\lib\\site-packages\\torch\\nn\\modules\\module.py:1110\u001B[0m, in \u001B[0;36mModule._call_impl\u001B[1;34m(self, *input, **kwargs)\u001B[0m\n\u001B[0;32m   1106\u001B[0m \u001B[38;5;66;03m# If we don't have any hooks, we want to skip the rest of the logic in\u001B[39;00m\n\u001B[0;32m   1107\u001B[0m \u001B[38;5;66;03m# this function, and just call forward.\u001B[39;00m\n\u001B[0;32m   1108\u001B[0m \u001B[38;5;28;01mif\u001B[39;00m \u001B[38;5;129;01mnot\u001B[39;00m (\u001B[38;5;28mself\u001B[39m\u001B[38;5;241m.\u001B[39m_backward_hooks \u001B[38;5;129;01mor\u001B[39;00m \u001B[38;5;28mself\u001B[39m\u001B[38;5;241m.\u001B[39m_forward_hooks \u001B[38;5;129;01mor\u001B[39;00m \u001B[38;5;28mself\u001B[39m\u001B[38;5;241m.\u001B[39m_forward_pre_hooks \u001B[38;5;129;01mor\u001B[39;00m _global_backward_hooks\n\u001B[0;32m   1109\u001B[0m         \u001B[38;5;129;01mor\u001B[39;00m _global_forward_hooks \u001B[38;5;129;01mor\u001B[39;00m _global_forward_pre_hooks):\n\u001B[1;32m-> 1110\u001B[0m     \u001B[38;5;28;01mreturn\u001B[39;00m forward_call(\u001B[38;5;241m*\u001B[39m\u001B[38;5;28minput\u001B[39m, \u001B[38;5;241m*\u001B[39m\u001B[38;5;241m*\u001B[39mkwargs)\n\u001B[0;32m   1111\u001B[0m \u001B[38;5;66;03m# Do not call functions when jit is used\u001B[39;00m\n\u001B[0;32m   1112\u001B[0m full_backward_hooks, non_full_backward_hooks \u001B[38;5;241m=\u001B[39m [], []\n",
      "File \u001B[1;32mD:\\Work\\School\\Research Project\\MLPMixer\\lib\\site-packages\\torchvision\\transforms\\transforms.py:349\u001B[0m, in \u001B[0;36mResize.forward\u001B[1;34m(self, img)\u001B[0m\n\u001B[0;32m    341\u001B[0m \u001B[38;5;28;01mdef\u001B[39;00m \u001B[38;5;21mforward\u001B[39m(\u001B[38;5;28mself\u001B[39m, img):\n\u001B[0;32m    342\u001B[0m     \u001B[38;5;124;03m\"\"\"\u001B[39;00m\n\u001B[0;32m    343\u001B[0m \u001B[38;5;124;03m    Args:\u001B[39;00m\n\u001B[0;32m    344\u001B[0m \u001B[38;5;124;03m        img (PIL Image or Tensor): Image to be scaled.\u001B[39;00m\n\u001B[1;32m   (...)\u001B[0m\n\u001B[0;32m    347\u001B[0m \u001B[38;5;124;03m        PIL Image or Tensor: Rescaled image.\u001B[39;00m\n\u001B[0;32m    348\u001B[0m \u001B[38;5;124;03m    \"\"\"\u001B[39;00m\n\u001B[1;32m--> 349\u001B[0m     \u001B[38;5;28;01mreturn\u001B[39;00m \u001B[43mF\u001B[49m\u001B[38;5;241;43m.\u001B[39;49m\u001B[43mresize\u001B[49m\u001B[43m(\u001B[49m\u001B[43mimg\u001B[49m\u001B[43m,\u001B[49m\u001B[43m \u001B[49m\u001B[38;5;28;43mself\u001B[39;49m\u001B[38;5;241;43m.\u001B[39;49m\u001B[43msize\u001B[49m\u001B[43m,\u001B[49m\u001B[43m \u001B[49m\u001B[38;5;28;43mself\u001B[39;49m\u001B[38;5;241;43m.\u001B[39;49m\u001B[43minterpolation\u001B[49m\u001B[43m,\u001B[49m\u001B[43m \u001B[49m\u001B[38;5;28;43mself\u001B[39;49m\u001B[38;5;241;43m.\u001B[39;49m\u001B[43mmax_size\u001B[49m\u001B[43m,\u001B[49m\u001B[43m \u001B[49m\u001B[38;5;28;43mself\u001B[39;49m\u001B[38;5;241;43m.\u001B[39;49m\u001B[43mantialias\u001B[49m\u001B[43m)\u001B[49m\n",
      "File \u001B[1;32mD:\\Work\\School\\Research Project\\MLPMixer\\lib\\site-packages\\torchvision\\transforms\\functional.py:436\u001B[0m, in \u001B[0;36mresize\u001B[1;34m(img, size, interpolation, max_size, antialias)\u001B[0m\n\u001B[0;32m    434\u001B[0m         warnings\u001B[38;5;241m.\u001B[39mwarn(\u001B[38;5;124m\"\u001B[39m\u001B[38;5;124mAnti-alias option is always applied for PIL Image input. Argument antialias is ignored.\u001B[39m\u001B[38;5;124m\"\u001B[39m)\n\u001B[0;32m    435\u001B[0m     pil_interpolation \u001B[38;5;241m=\u001B[39m pil_modes_mapping[interpolation]\n\u001B[1;32m--> 436\u001B[0m     \u001B[38;5;28;01mreturn\u001B[39;00m \u001B[43mF_pil\u001B[49m\u001B[38;5;241;43m.\u001B[39;49m\u001B[43mresize\u001B[49m\u001B[43m(\u001B[49m\u001B[43mimg\u001B[49m\u001B[43m,\u001B[49m\u001B[43m \u001B[49m\u001B[43msize\u001B[49m\u001B[38;5;241;43m=\u001B[39;49m\u001B[43msize\u001B[49m\u001B[43m,\u001B[49m\u001B[43m \u001B[49m\u001B[43minterpolation\u001B[49m\u001B[38;5;241;43m=\u001B[39;49m\u001B[43mpil_interpolation\u001B[49m\u001B[43m,\u001B[49m\u001B[43m \u001B[49m\u001B[43mmax_size\u001B[49m\u001B[38;5;241;43m=\u001B[39;49m\u001B[43mmax_size\u001B[49m\u001B[43m)\u001B[49m\n\u001B[0;32m    438\u001B[0m \u001B[38;5;28;01mreturn\u001B[39;00m F_t\u001B[38;5;241m.\u001B[39mresize(img, size\u001B[38;5;241m=\u001B[39msize, interpolation\u001B[38;5;241m=\u001B[39minterpolation\u001B[38;5;241m.\u001B[39mvalue, max_size\u001B[38;5;241m=\u001B[39mmax_size, antialias\u001B[38;5;241m=\u001B[39mantialias)\n",
      "File \u001B[1;32mD:\\Work\\School\\Research Project\\MLPMixer\\lib\\site-packages\\torchvision\\transforms\\functional_pil.py:233\u001B[0m, in \u001B[0;36mresize\u001B[1;34m(img, size, interpolation, max_size)\u001B[0m\n\u001B[0;32m    224\u001B[0m \u001B[38;5;129m@torch\u001B[39m\u001B[38;5;241m.\u001B[39mjit\u001B[38;5;241m.\u001B[39munused\n\u001B[0;32m    225\u001B[0m \u001B[38;5;28;01mdef\u001B[39;00m \u001B[38;5;21mresize\u001B[39m(\n\u001B[0;32m    226\u001B[0m     img: Image\u001B[38;5;241m.\u001B[39mImage,\n\u001B[1;32m   (...)\u001B[0m\n\u001B[0;32m    229\u001B[0m     max_size: Optional[\u001B[38;5;28mint\u001B[39m] \u001B[38;5;241m=\u001B[39m \u001B[38;5;28;01mNone\u001B[39;00m,\n\u001B[0;32m    230\u001B[0m ) \u001B[38;5;241m-\u001B[39m\u001B[38;5;241m>\u001B[39m Image\u001B[38;5;241m.\u001B[39mImage:\n\u001B[0;32m    232\u001B[0m     \u001B[38;5;28;01mif\u001B[39;00m \u001B[38;5;129;01mnot\u001B[39;00m _is_pil_image(img):\n\u001B[1;32m--> 233\u001B[0m         \u001B[38;5;28;01mraise\u001B[39;00m \u001B[38;5;167;01mTypeError\u001B[39;00m(\u001B[38;5;124mf\u001B[39m\u001B[38;5;124m\"\u001B[39m\u001B[38;5;124mimg should be PIL Image. Got \u001B[39m\u001B[38;5;132;01m{\u001B[39;00m\u001B[38;5;28mtype\u001B[39m(img)\u001B[38;5;132;01m}\u001B[39;00m\u001B[38;5;124m\"\u001B[39m)\n\u001B[0;32m    234\u001B[0m     \u001B[38;5;28;01mif\u001B[39;00m \u001B[38;5;129;01mnot\u001B[39;00m (\u001B[38;5;28misinstance\u001B[39m(size, \u001B[38;5;28mint\u001B[39m) \u001B[38;5;129;01mor\u001B[39;00m (\u001B[38;5;28misinstance\u001B[39m(size, Sequence) \u001B[38;5;129;01mand\u001B[39;00m \u001B[38;5;28mlen\u001B[39m(size) \u001B[38;5;129;01min\u001B[39;00m (\u001B[38;5;241m1\u001B[39m, \u001B[38;5;241m2\u001B[39m))):\n\u001B[0;32m    235\u001B[0m         \u001B[38;5;28;01mraise\u001B[39;00m \u001B[38;5;167;01mTypeError\u001B[39;00m(\u001B[38;5;124mf\u001B[39m\u001B[38;5;124m\"\u001B[39m\u001B[38;5;124mGot inappropriate size arg: \u001B[39m\u001B[38;5;132;01m{\u001B[39;00msize\u001B[38;5;132;01m}\u001B[39;00m\u001B[38;5;124m\"\u001B[39m)\n",
      "\u001B[1;31mTypeError\u001B[0m: img should be PIL Image. Got <class 'numpy.ndarray'>"
     ]
    }
   ],
   "source": [
    "import torchvision.transforms as T\n",
    "\n",
    "preprocess = T.Compose([\n",
    "   T.Resize(256),\n",
    "   T.ToTensor(),\n",
    "])\n",
    "\n",
    "j = preprocess(train.data['inputs'])\n",
    "j.shape"
   ],
   "metadata": {
    "collapsed": false,
    "pycharm": {
     "name": "#%%\n"
    }
   }
  },
  {
   "cell_type": "code",
   "execution_count": 229,
   "outputs": [
    {
     "name": "stdout",
     "output_type": "stream",
     "text": [
      "(10, 224)\n"
     ]
    }
   ],
   "source": [
    "series = train.data['inputs'][0:10, 0]\n",
    "print(series.shape)"
   ],
   "metadata": {
    "collapsed": false,
    "pycharm": {
     "name": "#%%\n"
    }
   }
  },
  {
   "cell_type": "code",
   "execution_count": 8,
   "outputs": [
    {
     "data": {
      "text/plain": "<BarContainer object of 5 artists>"
     },
     "execution_count": 8,
     "metadata": {},
     "output_type": "execute_result"
    },
    {
     "data": {
      "text/plain": "<Figure size 432x288 with 1 Axes>",
      "image/png": "[encoded data removed]"
     },
     "metadata": {
      "needs_background": "light"
     },
     "output_type": "display_data"
    }
   ],
   "source": [
    "count = np.array(np.unique(train.data['targets'], return_counts=True))\n",
    "plt.bar(count[0], count[1])"
   ],
   "metadata": {
    "collapsed": false,
    "pycharm": {
     "name": "#%%\n"
    }
   }
  },
  {
   "cell_type": "code",
   "execution_count": 200,
   "outputs": [],
   "source": [
    "from models import MLPMixer\n",
    "import torch\n",
    "\n",
    "# model = MLPMixer.MlpMixer(image_height=113, image_width=window_size,\n",
    "#                           patch_size=16, token_dim=128, channel_dim=1024,\n",
    "#                           patch_dim=256, num_classes=train.num_classes(),\n",
    "#                           num_blocks=12)\n",
    "\n",
    "model = MLPMixer.MlpMixer(image_height=224, image_width=224,\n",
    "                          patch_size=16, token_dim=384, channel_dim=3072,\n",
    "                          patch_dim=768, num_classes=5,\n",
    "                          num_blocks=12)\n",
    "\n",
    "model = model.cuda()"
   ],
   "metadata": {
    "collapsed": false,
    "pycharm": {
     "name": "#%%\n"
    }
   }
  },
  {
   "cell_type": "code",
   "execution_count": 195,
   "outputs": [
    {
     "name": "stdout",
     "output_type": "stream",
     "text": [
      "150\n",
      "['MixerBlock_0/LayerNorm_0/bias', 'MixerBlock_0/LayerNorm_0/scale', 'MixerBlock_0/LayerNorm_1/bias', 'MixerBlock_0/LayerNorm_1/scale', 'MixerBlock_0/channel_mixing/Dense_0/bias', 'MixerBlock_0/channel_mixing/Dense_0/kernel', 'MixerBlock_0/channel_mixing/Dense_1/bias', 'MixerBlock_0/channel_mixing/Dense_1/kernel', 'MixerBlock_0/token_mixing/Dense_0/bias', 'MixerBlock_0/token_mixing/Dense_0/kernel', 'MixerBlock_0/token_mixing/Dense_1/bias', 'MixerBlock_0/token_mixing/Dense_1/kernel', 'MixerBlock_1/LayerNorm_0/bias', 'MixerBlock_1/LayerNorm_0/scale', 'MixerBlock_1/LayerNorm_1/bias', 'MixerBlock_1/LayerNorm_1/scale', 'MixerBlock_1/channel_mixing/Dense_0/bias', 'MixerBlock_1/channel_mixing/Dense_0/kernel', 'MixerBlock_1/channel_mixing/Dense_1/bias', 'MixerBlock_1/channel_mixing/Dense_1/kernel', 'MixerBlock_1/token_mixing/Dense_0/bias', 'MixerBlock_1/token_mixing/Dense_0/kernel', 'MixerBlock_1/token_mixing/Dense_1/bias', 'MixerBlock_1/token_mixing/Dense_1/kernel', 'MixerBlock_10/LayerNorm_0/bias', 'MixerBlock_10/LayerNorm_0/scale', 'MixerBlock_10/LayerNorm_1/bias', 'MixerBlock_10/LayerNorm_1/scale', 'MixerBlock_10/channel_mixing/Dense_0/bias', 'MixerBlock_10/channel_mixing/Dense_0/kernel', 'MixerBlock_10/channel_mixing/Dense_1/bias', 'MixerBlock_10/channel_mixing/Dense_1/kernel', 'MixerBlock_10/token_mixing/Dense_0/bias', 'MixerBlock_10/token_mixing/Dense_0/kernel', 'MixerBlock_10/token_mixing/Dense_1/bias', 'MixerBlock_10/token_mixing/Dense_1/kernel', 'MixerBlock_11/LayerNorm_0/bias', 'MixerBlock_11/LayerNorm_0/scale', 'MixerBlock_11/LayerNorm_1/bias', 'MixerBlock_11/LayerNorm_1/scale', 'MixerBlock_11/channel_mixing/Dense_0/bias', 'MixerBlock_11/channel_mixing/Dense_0/kernel', 'MixerBlock_11/channel_mixing/Dense_1/bias', 'MixerBlock_11/channel_mixing/Dense_1/kernel', 'MixerBlock_11/token_mixing/Dense_0/bias', 'MixerBlock_11/token_mixing/Dense_0/kernel', 'MixerBlock_11/token_mixing/Dense_1/bias', 'MixerBlock_11/token_mixing/Dense_1/kernel', 'MixerBlock_2/LayerNorm_0/bias', 'MixerBlock_2/LayerNorm_0/scale', 'MixerBlock_2/LayerNorm_1/bias', 'MixerBlock_2/LayerNorm_1/scale', 'MixerBlock_2/channel_mixing/Dense_0/bias', 'MixerBlock_2/channel_mixing/Dense_0/kernel', 'MixerBlock_2/channel_mixing/Dense_1/bias', 'MixerBlock_2/channel_mixing/Dense_1/kernel', 'MixerBlock_2/token_mixing/Dense_0/bias', 'MixerBlock_2/token_mixing/Dense_0/kernel', 'MixerBlock_2/token_mixing/Dense_1/bias', 'MixerBlock_2/token_mixing/Dense_1/kernel', 'MixerBlock_3/LayerNorm_0/bias', 'MixerBlock_3/LayerNorm_0/scale', 'MixerBlock_3/LayerNorm_1/bias', 'MixerBlock_3/LayerNorm_1/scale', 'MixerBlock_3/channel_mixing/Dense_0/bias', 'MixerBlock_3/channel_mixing/Dense_0/kernel', 'MixerBlock_3/channel_mixing/Dense_1/bias', 'MixerBlock_3/channel_mixing/Dense_1/kernel', 'MixerBlock_3/token_mixing/Dense_0/bias', 'MixerBlock_3/token_mixing/Dense_0/kernel', 'MixerBlock_3/token_mixing/Dense_1/bias', 'MixerBlock_3/token_mixing/Dense_1/kernel', 'MixerBlock_4/LayerNorm_0/bias', 'MixerBlock_4/LayerNorm_0/scale', 'MixerBlock_4/LayerNorm_1/bias', 'MixerBlock_4/LayerNorm_1/scale', 'MixerBlock_4/channel_mixing/Dense_0/bias', 'MixerBlock_4/channel_mixing/Dense_0/kernel', 'MixerBlock_4/channel_mixing/Dense_1/bias', 'MixerBlock_4/channel_mixing/Dense_1/kernel', 'MixerBlock_4/token_mixing/Dense_0/bias', 'MixerBlock_4/token_mixing/Dense_0/kernel', 'MixerBlock_4/token_mixing/Dense_1/bias', 'MixerBlock_4/token_mixing/Dense_1/kernel', 'MixerBlock_5/LayerNorm_0/bias', 'MixerBlock_5/LayerNorm_0/scale', 'MixerBlock_5/LayerNorm_1/bias', 'MixerBlock_5/LayerNorm_1/scale', 'MixerBlock_5/channel_mixing/Dense_0/bias', 'MixerBlock_5/channel_mixing/Dense_0/kernel', 'MixerBlock_5/channel_mixing/Dense_1/bias', 'MixerBlock_5/channel_mixing/Dense_1/kernel', 'MixerBlock_5/token_mixing/Dense_0/bias', 'MixerBlock_5/token_mixing/Dense_0/kernel', 'MixerBlock_5/token_mixing/Dense_1/bias', 'MixerBlock_5/token_mixing/Dense_1/kernel', 'MixerBlock_6/LayerNorm_0/bias', 'MixerBlock_6/LayerNorm_0/scale', 'MixerBlock_6/LayerNorm_1/bias', 'MixerBlock_6/LayerNorm_1/scale', 'MixerBlock_6/channel_mixing/Dense_0/bias', 'MixerBlock_6/channel_mixing/Dense_0/kernel', 'MixerBlock_6/channel_mixing/Dense_1/bias', 'MixerBlock_6/channel_mixing/Dense_1/kernel', 'MixerBlock_6/token_mixing/Dense_0/bias', 'MixerBlock_6/token_mixing/Dense_0/kernel', 'MixerBlock_6/token_mixing/Dense_1/bias', 'MixerBlock_6/token_mixing/Dense_1/kernel', 'MixerBlock_7/LayerNorm_0/bias', 'MixerBlock_7/LayerNorm_0/scale', 'MixerBlock_7/LayerNorm_1/bias', 'MixerBlock_7/LayerNorm_1/scale', 'MixerBlock_7/channel_mixing/Dense_0/bias', 'MixerBlock_7/channel_mixing/Dense_0/kernel', 'MixerBlock_7/channel_mixing/Dense_1/bias', 'MixerBlock_7/channel_mixing/Dense_1/kernel', 'MixerBlock_7/token_mixing/Dense_0/bias', 'MixerBlock_7/token_mixing/Dense_0/kernel', 'MixerBlock_7/token_mixing/Dense_1/bias', 'MixerBlock_7/token_mixing/Dense_1/kernel', 'MixerBlock_8/LayerNorm_0/bias', 'MixerBlock_8/LayerNorm_0/scale', 'MixerBlock_8/LayerNorm_1/bias', 'MixerBlock_8/LayerNorm_1/scale', 'MixerBlock_8/channel_mixing/Dense_0/bias', 'MixerBlock_8/channel_mixing/Dense_0/kernel', 'MixerBlock_8/channel_mixing/Dense_1/bias', 'MixerBlock_8/channel_mixing/Dense_1/kernel', 'MixerBlock_8/token_mixing/Dense_0/bias', 'MixerBlock_8/token_mixing/Dense_0/kernel', 'MixerBlock_8/token_mixing/Dense_1/bias', 'MixerBlock_8/token_mixing/Dense_1/kernel', 'MixerBlock_9/LayerNorm_0/bias', 'MixerBlock_9/LayerNorm_0/scale', 'MixerBlock_9/LayerNorm_1/bias', 'MixerBlock_9/LayerNorm_1/scale', 'MixerBlock_9/channel_mixing/Dense_0/bias', 'MixerBlock_9/channel_mixing/Dense_0/kernel', 'MixerBlock_9/channel_mixing/Dense_1/bias', 'MixerBlock_9/channel_mixing/Dense_1/kernel', 'MixerBlock_9/token_mixing/Dense_0/bias', 'MixerBlock_9/token_mixing/Dense_0/kernel', 'MixerBlock_9/token_mixing/Dense_1/bias', 'MixerBlock_9/token_mixing/Dense_1/kernel', 'head/bias', 'head/kernel', 'pre_head_layer_norm/bias', 'pre_head_layer_norm/scale', 'stem/bias', 'stem/kernel']\n"
     ]
    }
   ],
   "source": [
    "path = \"../weights/imagenet21k_Mixer-B_16.npz\"\n",
    "npz_arr = np.load(path)\n",
    "dict = list(npz_arr.keys())\n",
    "print(len(dict))\n",
    "print(dict)\n"
   ],
   "metadata": {
    "collapsed": false,
    "pycharm": {
     "name": "#%%\n"
    }
   }
  },
  {
   "cell_type": "code",
   "execution_count": 196,
   "outputs": [
    {
     "name": "stdout",
     "output_type": "stream",
     "text": [
      "(768, 3072)\n"
     ]
    }
   ],
   "source": [
    "print(npz_arr['MixerBlock_0/channel_mixing/Dense_0/kernel'].shape)"
   ],
   "metadata": {
    "collapsed": false,
    "pycharm": {
     "name": "#%%\n"
    }
   }
  },
  {
   "cell_type": "code",
   "execution_count": 191,
   "outputs": [
    {
     "name": "stdout",
     "output_type": "stream",
     "text": [
      "MixerBlock_0/token_mixing/Dense_0/kernel\n"
     ]
    }
   ],
   "source": [
    "import os\n",
    "\n",
    "TOKEN_FC_0 = \"token_mixing/Dense_0/\"\n",
    "TOKEN_FC_1 = \"token_mixing/Dense_1/\"\n",
    "CHANNEL_FC_0 = \"channel_mixing/Dense_0/\"\n",
    "CHANNEL_FC_1 = \"channel_mixing/Dense_1/\"\n",
    "PRE_NORM = \"LayerNorm_0/\"\n",
    "POST_NORM = \"LayerNorm_1/\"\n",
    "\n",
    "\n",
    "num_block = 0\n",
    "ROOT = f\"MixerBlock_{num_block}/\"\n",
    "z = os.path.join(ROOT, TOKEN_FC_0, \"kernel\")\n",
    "print(z)"
   ],
   "metadata": {
    "collapsed": false,
    "pycharm": {
     "name": "#%%\n"
    }
   }
  },
  {
   "cell_type": "code",
   "execution_count": 188,
   "outputs": [
    {
     "ename": "KeyError",
     "evalue": "'MixerBlock_0\\token_mixing\\\\Dense_0\\\\kernel is not a file in the archive'",
     "output_type": "error",
     "traceback": [
      "\u001B[1;31m---------------------------------------------------------------------------\u001B[0m",
      "\u001B[1;31mKeyError\u001B[0m                                  Traceback (most recent call last)",
      "Input \u001B[1;32mIn [188]\u001B[0m, in \u001B[0;36m<cell line: 1>\u001B[1;34m()\u001B[0m\n\u001B[1;32m----> 1\u001B[0m \u001B[38;5;28mprint\u001B[39m(\u001B[43mnpz_arr\u001B[49m\u001B[43m[\u001B[49m\u001B[38;5;124;43m'\u001B[39;49m\u001B[38;5;124;43mMixerBlock_0\u001B[39;49m\u001B[38;5;130;43;01m\\t\u001B[39;49;00m\u001B[38;5;124;43moken_mixing\u001B[39;49m\u001B[38;5;124;43m\\\u001B[39;49m\u001B[38;5;124;43mDense_0\u001B[39;49m\u001B[38;5;124;43m\\\u001B[39;49m\u001B[38;5;124;43mkernel\u001B[39;49m\u001B[38;5;124;43m'\u001B[39;49m\u001B[43m]\u001B[49m\u001B[38;5;241m.\u001B[39mshape)\n",
      "File \u001B[1;32mD:\\Work\\School\\Research Project\\MLPMixer\\lib\\site-packages\\numpy\\lib\\npyio.py:249\u001B[0m, in \u001B[0;36mNpzFile.__getitem__\u001B[1;34m(self, key)\u001B[0m\n\u001B[0;32m    247\u001B[0m         \u001B[38;5;28;01mreturn\u001B[39;00m \u001B[38;5;28mself\u001B[39m\u001B[38;5;241m.\u001B[39mzip\u001B[38;5;241m.\u001B[39mread(key)\n\u001B[0;32m    248\u001B[0m \u001B[38;5;28;01melse\u001B[39;00m:\n\u001B[1;32m--> 249\u001B[0m     \u001B[38;5;28;01mraise\u001B[39;00m \u001B[38;5;167;01mKeyError\u001B[39;00m(\u001B[38;5;124m\"\u001B[39m\u001B[38;5;132;01m%s\u001B[39;00m\u001B[38;5;124m is not a file in the archive\u001B[39m\u001B[38;5;124m\"\u001B[39m \u001B[38;5;241m%\u001B[39m key)\n",
      "\u001B[1;31mKeyError\u001B[0m: 'MixerBlock_0\\token_mixing\\\\Dense_0\\\\kernel is not a file in the archive'"
     ]
    }
   ],
   "source": [
    "print(npz_arr['MixerBlock_0\\token_mixing\\Dense_0\\kernel'].shape)"
   ],
   "metadata": {
    "collapsed": false,
    "pycharm": {
     "name": "#%%\n"
    }
   }
  },
  {
   "cell_type": "code",
   "execution_count": 8,
   "outputs": [
    {
     "name": "stdout",
     "output_type": "stream",
     "text": [
      "MixerBlock_0/LayerNorm_0/bias (768,)\n",
      "MixerBlock_0/LayerNorm_0/scale (768,)\n",
      "MixerBlock_0/LayerNorm_1/bias (768,)\n",
      "MixerBlock_0/LayerNorm_1/scale (768,)\n",
      "MixerBlock_0/channel_mixing/Dense_0/bias (3072,)\n",
      "MixerBlock_0/channel_mixing/Dense_0/kernel (768, 3072)\n",
      "MixerBlock_0/channel_mixing/Dense_1/bias (768,)\n",
      "MixerBlock_0/channel_mixing/Dense_1/kernel (3072, 768)\n",
      "MixerBlock_0/token_mixing/Dense_0/bias (384,)\n",
      "MixerBlock_0/token_mixing/Dense_0/kernel (196, 384)\n",
      "MixerBlock_0/token_mixing/Dense_1/bias (196,)\n",
      "MixerBlock_0/token_mixing/Dense_1/kernel (384, 196)\n",
      "MixerBlock_1/LayerNorm_0/bias (768,)\n",
      "MixerBlock_1/LayerNorm_0/scale (768,)\n",
      "MixerBlock_1/LayerNorm_1/bias (768,)\n",
      "MixerBlock_1/LayerNorm_1/scale (768,)\n",
      "MixerBlock_1/channel_mixing/Dense_0/bias (3072,)\n",
      "MixerBlock_1/channel_mixing/Dense_0/kernel (768, 3072)\n",
      "MixerBlock_1/channel_mixing/Dense_1/bias (768,)\n",
      "MixerBlock_1/channel_mixing/Dense_1/kernel (3072, 768)\n",
      "MixerBlock_1/token_mixing/Dense_0/bias (384,)\n",
      "MixerBlock_1/token_mixing/Dense_0/kernel (196, 384)\n",
      "MixerBlock_1/token_mixing/Dense_1/bias (196,)\n",
      "MixerBlock_1/token_mixing/Dense_1/kernel (384, 196)\n",
      "MixerBlock_10/LayerNorm_0/bias (768,)\n",
      "MixerBlock_10/LayerNorm_0/scale (768,)\n",
      "MixerBlock_10/LayerNorm_1/bias (768,)\n",
      "MixerBlock_10/LayerNorm_1/scale (768,)\n",
      "MixerBlock_10/channel_mixing/Dense_0/bias (3072,)\n",
      "MixerBlock_10/channel_mixing/Dense_0/kernel (768, 3072)\n",
      "MixerBlock_10/channel_mixing/Dense_1/bias (768,)\n",
      "MixerBlock_10/channel_mixing/Dense_1/kernel (3072, 768)\n",
      "MixerBlock_10/token_mixing/Dense_0/bias (384,)\n",
      "MixerBlock_10/token_mixing/Dense_0/kernel (196, 384)\n",
      "MixerBlock_10/token_mixing/Dense_1/bias (196,)\n",
      "MixerBlock_10/token_mixing/Dense_1/kernel (384, 196)\n",
      "MixerBlock_11/LayerNorm_0/bias (768,)\n",
      "MixerBlock_11/LayerNorm_0/scale (768,)\n",
      "MixerBlock_11/LayerNorm_1/bias (768,)\n",
      "MixerBlock_11/LayerNorm_1/scale (768,)\n",
      "MixerBlock_11/channel_mixing/Dense_0/bias (3072,)\n",
      "MixerBlock_11/channel_mixing/Dense_0/kernel (768, 3072)\n",
      "MixerBlock_11/channel_mixing/Dense_1/bias (768,)\n",
      "MixerBlock_11/channel_mixing/Dense_1/kernel (3072, 768)\n",
      "MixerBlock_11/token_mixing/Dense_0/bias (384,)\n",
      "MixerBlock_11/token_mixing/Dense_0/kernel (196, 384)\n",
      "MixerBlock_11/token_mixing/Dense_1/bias (196,)\n",
      "MixerBlock_11/token_mixing/Dense_1/kernel (384, 196)\n",
      "MixerBlock_2/LayerNorm_0/bias (768,)\n",
      "MixerBlock_2/LayerNorm_0/scale (768,)\n",
      "MixerBlock_2/LayerNorm_1/bias (768,)\n",
      "MixerBlock_2/LayerNorm_1/scale (768,)\n",
      "MixerBlock_2/channel_mixing/Dense_0/bias (3072,)\n",
      "MixerBlock_2/channel_mixing/Dense_0/kernel (768, 3072)\n",
      "MixerBlock_2/channel_mixing/Dense_1/bias (768,)\n",
      "MixerBlock_2/channel_mixing/Dense_1/kernel (3072, 768)\n",
      "MixerBlock_2/token_mixing/Dense_0/bias (384,)\n",
      "MixerBlock_2/token_mixing/Dense_0/kernel (196, 384)\n",
      "MixerBlock_2/token_mixing/Dense_1/bias (196,)\n",
      "MixerBlock_2/token_mixing/Dense_1/kernel (384, 196)\n",
      "MixerBlock_3/LayerNorm_0/bias (768,)\n",
      "MixerBlock_3/LayerNorm_0/scale (768,)\n",
      "MixerBlock_3/LayerNorm_1/bias (768,)\n",
      "MixerBlock_3/LayerNorm_1/scale (768,)\n",
      "MixerBlock_3/channel_mixing/Dense_0/bias (3072,)\n",
      "MixerBlock_3/channel_mixing/Dense_0/kernel (768, 3072)\n",
      "MixerBlock_3/channel_mixing/Dense_1/bias (768,)\n",
      "MixerBlock_3/channel_mixing/Dense_1/kernel (3072, 768)\n",
      "MixerBlock_3/token_mixing/Dense_0/bias (384,)\n",
      "MixerBlock_3/token_mixing/Dense_0/kernel (196, 384)\n",
      "MixerBlock_3/token_mixing/Dense_1/bias (196,)\n",
      "MixerBlock_3/token_mixing/Dense_1/kernel (384, 196)\n",
      "MixerBlock_4/LayerNorm_0/bias (768,)\n",
      "MixerBlock_4/LayerNorm_0/scale (768,)\n",
      "MixerBlock_4/LayerNorm_1/bias (768,)\n",
      "MixerBlock_4/LayerNorm_1/scale (768,)\n",
      "MixerBlock_4/channel_mixing/Dense_0/bias (3072,)\n",
      "MixerBlock_4/channel_mixing/Dense_0/kernel (768, 3072)\n",
      "MixerBlock_4/channel_mixing/Dense_1/bias (768,)\n",
      "MixerBlock_4/channel_mixing/Dense_1/kernel (3072, 768)\n",
      "MixerBlock_4/token_mixing/Dense_0/bias (384,)\n",
      "MixerBlock_4/token_mixing/Dense_0/kernel (196, 384)\n",
      "MixerBlock_4/token_mixing/Dense_1/bias (196,)\n",
      "MixerBlock_4/token_mixing/Dense_1/kernel (384, 196)\n",
      "MixerBlock_5/LayerNorm_0/bias (768,)\n",
      "MixerBlock_5/LayerNorm_0/scale (768,)\n",
      "MixerBlock_5/LayerNorm_1/bias (768,)\n",
      "MixerBlock_5/LayerNorm_1/scale (768,)\n",
      "MixerBlock_5/channel_mixing/Dense_0/bias (3072,)\n",
      "MixerBlock_5/channel_mixing/Dense_0/kernel (768, 3072)\n",
      "MixerBlock_5/channel_mixing/Dense_1/bias (768,)\n",
      "MixerBlock_5/channel_mixing/Dense_1/kernel (3072, 768)\n",
      "MixerBlock_5/token_mixing/Dense_0/bias (384,)\n",
      "MixerBlock_5/token_mixing/Dense_0/kernel (196, 384)\n",
      "MixerBlock_5/token_mixing/Dense_1/bias (196,)\n",
      "MixerBlock_5/token_mixing/Dense_1/kernel (384, 196)\n",
      "MixerBlock_6/LayerNorm_0/bias (768,)\n",
      "MixerBlock_6/LayerNorm_0/scale (768,)\n",
      "MixerBlock_6/LayerNorm_1/bias (768,)\n",
      "MixerBlock_6/LayerNorm_1/scale (768,)\n",
      "MixerBlock_6/channel_mixing/Dense_0/bias (3072,)\n",
      "MixerBlock_6/channel_mixing/Dense_0/kernel (768, 3072)\n",
      "MixerBlock_6/channel_mixing/Dense_1/bias (768,)\n",
      "MixerBlock_6/channel_mixing/Dense_1/kernel (3072, 768)\n",
      "MixerBlock_6/token_mixing/Dense_0/bias (384,)\n",
      "MixerBlock_6/token_mixing/Dense_0/kernel (196, 384)\n",
      "MixerBlock_6/token_mixing/Dense_1/bias (196,)\n",
      "MixerBlock_6/token_mixing/Dense_1/kernel (384, 196)\n",
      "MixerBlock_7/LayerNorm_0/bias (768,)\n",
      "MixerBlock_7/LayerNorm_0/scale (768,)\n",
      "MixerBlock_7/LayerNorm_1/bias (768,)\n",
      "MixerBlock_7/LayerNorm_1/scale (768,)\n",
      "MixerBlock_7/channel_mixing/Dense_0/bias (3072,)\n",
      "MixerBlock_7/channel_mixing/Dense_0/kernel (768, 3072)\n",
      "MixerBlock_7/channel_mixing/Dense_1/bias (768,)\n",
      "MixerBlock_7/channel_mixing/Dense_1/kernel (3072, 768)\n",
      "MixerBlock_7/token_mixing/Dense_0/bias (384,)\n",
      "MixerBlock_7/token_mixing/Dense_0/kernel (196, 384)\n",
      "MixerBlock_7/token_mixing/Dense_1/bias (196,)\n",
      "MixerBlock_7/token_mixing/Dense_1/kernel (384, 196)\n",
      "MixerBlock_8/LayerNorm_0/bias (768,)\n",
      "MixerBlock_8/LayerNorm_0/scale (768,)\n",
      "MixerBlock_8/LayerNorm_1/bias (768,)\n",
      "MixerBlock_8/LayerNorm_1/scale (768,)\n",
      "MixerBlock_8/channel_mixing/Dense_0/bias (3072,)\n",
      "MixerBlock_8/channel_mixing/Dense_0/kernel (768, 3072)\n",
      "MixerBlock_8/channel_mixing/Dense_1/bias (768,)\n",
      "MixerBlock_8/channel_mixing/Dense_1/kernel (3072, 768)\n",
      "MixerBlock_8/token_mixing/Dense_0/bias (384,)\n",
      "MixerBlock_8/token_mixing/Dense_0/kernel (196, 384)\n",
      "MixerBlock_8/token_mixing/Dense_1/bias (196,)\n",
      "MixerBlock_8/token_mixing/Dense_1/kernel (384, 196)\n",
      "MixerBlock_9/LayerNorm_0/bias (768,)\n",
      "MixerBlock_9/LayerNorm_0/scale (768,)\n",
      "MixerBlock_9/LayerNorm_1/bias (768,)\n",
      "MixerBlock_9/LayerNorm_1/scale (768,)\n",
      "MixerBlock_9/channel_mixing/Dense_0/bias (3072,)\n",
      "MixerBlock_9/channel_mixing/Dense_0/kernel (768, 3072)\n",
      "MixerBlock_9/channel_mixing/Dense_1/bias (768,)\n",
      "MixerBlock_9/channel_mixing/Dense_1/kernel (3072, 768)\n",
      "MixerBlock_9/token_mixing/Dense_0/bias (384,)\n",
      "MixerBlock_9/token_mixing/Dense_0/kernel (196, 384)\n",
      "MixerBlock_9/token_mixing/Dense_1/bias (196,)\n",
      "MixerBlock_9/token_mixing/Dense_1/kernel (384, 196)\n",
      "head/bias (21843,)\n",
      "head/kernel (768, 21843)\n",
      "pre_head_layer_norm/bias (768,)\n",
      "pre_head_layer_norm/scale (768,)\n",
      "stem/bias (768,)\n",
      "stem/kernel (16, 16, 3, 768)\n"
     ]
    }
   ],
   "source": [
    "for i in dict:\n",
    "    print(i, npz_arr[i].shape)"
   ],
   "metadata": {
    "collapsed": false,
    "pycharm": {
     "name": "#%%\n"
    }
   }
  },
  {
   "cell_type": "code",
   "execution_count": 197,
   "outputs": [],
   "source": [
    "np_dict = {\n",
    "    'patch_embedding.weight' : torch.from_numpy(npz_arr['stem/kernel']).transpose(0,3).transpose(1,2),\n",
    "    'patch_embedding.bias' : torch.from_numpy(npz_arr['stem/bias']),\n",
    "\n",
    "    'MixerBlock.0.LayerNorm_0.weight' : torch.from_numpy(npz_arr['MixerBlock_0/LayerNorm_0/scale']),\n",
    "    'MixerBlock.0.LayerNorm_0.bias' : torch.from_numpy(npz_arr['MixerBlock_0/LayerNorm_0/bias']),\n",
    "    'MixerBlock.0.LayerNorm_1.weight' : torch.from_numpy(npz_arr['MixerBlock_0/LayerNorm_1/scale']),\n",
    "    'MixerBlock.0.LayerNorm_1.bias' : torch.from_numpy(npz_arr['MixerBlock_0/LayerNorm_1/bias']),\n",
    "    'MixerBlock.0.token_mixing.Dense_0.weight' : torch.from_numpy(npz_arr['MixerBlock_0/token_mixing/Dense_0/kernel'].T),\n",
    "    'MixerBlock.0.token_mixing.Dense_0.bias' : torch.from_numpy(npz_arr['MixerBlock_0/token_mixing/Dense_0/bias']),\n",
    "    'MixerBlock.0.token_mixing.Dense_1.weight' : torch.from_numpy(npz_arr['MixerBlock_0/token_mixing/Dense_1/kernel'].T),\n",
    "    'MixerBlock.0.token_mixing.Dense_1.bias' : torch.from_numpy(npz_arr['MixerBlock_0/token_mixing/Dense_1/bias']),\n",
    "    'MixerBlock.0.channel_mixing.Dense_0.weight' : torch.from_numpy(npz_arr['MixerBlock_0/channel_mixing/Dense_0/kernel'].T),\n",
    "    'MixerBlock.0.channel_mixing.Dense_0.bias' : torch.from_numpy(npz_arr['MixerBlock_0/channel_mixing/Dense_0/bias']),\n",
    "    'MixerBlock.0.channel_mixing.Dense_1.weight' : torch.from_numpy(npz_arr['MixerBlock_0/channel_mixing/Dense_1/kernel'].T),\n",
    "    'MixerBlock.0.channel_mixing.Dense_1.bias' : torch.from_numpy(npz_arr['MixerBlock_0/channel_mixing/Dense_1/bias']),\n",
    "\n",
    "    'MixerBlock.1.LayerNorm_0.weight' : torch.from_numpy(npz_arr['MixerBlock_1/LayerNorm_0/scale']),\n",
    "    'MixerBlock.1.LayerNorm_0.bias' : torch.from_numpy(npz_arr['MixerBlock_1/LayerNorm_0/bias']),\n",
    "    'MixerBlock.1.LayerNorm_1.weight' : torch.from_numpy(npz_arr['MixerBlock_1/LayerNorm_1/scale']),\n",
    "    'MixerBlock.1.LayerNorm_1.bias' : torch.from_numpy(npz_arr['MixerBlock_1/LayerNorm_1/bias']),\n",
    "    'MixerBlock.1.token_mixing.Dense_0.weight' : torch.from_numpy(npz_arr['MixerBlock_1/token_mixing/Dense_0/kernel'].T),\n",
    "    'MixerBlock.1.token_mixing.Dense_0.bias' : torch.from_numpy(npz_arr['MixerBlock_1/token_mixing/Dense_0/bias']),\n",
    "    'MixerBlock.1.token_mixing.Dense_1.weight' : torch.from_numpy(npz_arr['MixerBlock_1/token_mixing/Dense_1/kernel'].T),\n",
    "    'MixerBlock.1.token_mixing.Dense_1.bias' : torch.from_numpy(npz_arr['MixerBlock_1/token_mixing/Dense_1/bias']),\n",
    "    'MixerBlock.1.channel_mixing.Dense_0.weight' : torch.from_numpy(npz_arr['MixerBlock_1/channel_mixing/Dense_0/kernel'].T),\n",
    "    'MixerBlock.1.channel_mixing.Dense_0.bias' : torch.from_numpy(npz_arr['MixerBlock_1/channel_mixing/Dense_0/bias']),\n",
    "    'MixerBlock.1.channel_mixing.Dense_1.weight' : torch.from_numpy(npz_arr['MixerBlock_1/channel_mixing/Dense_1/kernel'].T),\n",
    "    'MixerBlock.1.channel_mixing.Dense_1.bias' : torch.from_numpy(npz_arr['MixerBlock_1/channel_mixing/Dense_1/bias']),\n",
    "    \n",
    "    'MixerBlock.2.LayerNorm_0.weight' : torch.from_numpy(npz_arr['MixerBlock_2/LayerNorm_0/scale']),\n",
    "    'MixerBlock.2.LayerNorm_0.bias' : torch.from_numpy(npz_arr['MixerBlock_2/LayerNorm_0/bias']),\n",
    "    'MixerBlock.2.LayerNorm_1.weight' : torch.from_numpy(npz_arr['MixerBlock_2/LayerNorm_1/scale']),\n",
    "    'MixerBlock.2.LayerNorm_1.bias' : torch.from_numpy(npz_arr['MixerBlock_2/LayerNorm_1/bias']),\n",
    "    'MixerBlock.2.token_mixing.Dense_0.weight' : torch.from_numpy(npz_arr['MixerBlock_2/token_mixing/Dense_0/kernel'].T),\n",
    "    'MixerBlock.2.token_mixing.Dense_0.bias' : torch.from_numpy(npz_arr['MixerBlock_2/token_mixing/Dense_0/bias']),\n",
    "    'MixerBlock.2.token_mixing.Dense_1.weight' : torch.from_numpy(npz_arr['MixerBlock_2/token_mixing/Dense_1/kernel'].T),\n",
    "    'MixerBlock.2.token_mixing.Dense_1.bias' : torch.from_numpy(npz_arr['MixerBlock_2/token_mixing/Dense_1/bias']),\n",
    "    'MixerBlock.2.channel_mixing.Dense_0.weight' : torch.from_numpy(npz_arr['MixerBlock_2/channel_mixing/Dense_0/kernel'].T),\n",
    "    'MixerBlock.2.channel_mixing.Dense_0.bias' : torch.from_numpy(npz_arr['MixerBlock_2/channel_mixing/Dense_0/bias']),\n",
    "    'MixerBlock.2.channel_mixing.Dense_1.weight' : torch.from_numpy(npz_arr['MixerBlock_2/channel_mixing/Dense_1/kernel'].T),\n",
    "    'MixerBlock.2.channel_mixing.Dense_1.bias' : torch.from_numpy(npz_arr['MixerBlock_2/channel_mixing/Dense_1/bias']),\n",
    "    \n",
    "    'MixerBlock.3.LayerNorm_0.weight' : torch.from_numpy(npz_arr['MixerBlock_3/LayerNorm_0/scale']),\n",
    "    'MixerBlock.3.LayerNorm_0.bias' : torch.from_numpy(npz_arr['MixerBlock_3/LayerNorm_0/bias']),\n",
    "    'MixerBlock.3.LayerNorm_1.weight' : torch.from_numpy(npz_arr['MixerBlock_3/LayerNorm_1/scale']),\n",
    "    'MixerBlock.3.LayerNorm_1.bias' : torch.from_numpy(npz_arr['MixerBlock_3/LayerNorm_1/bias']),\n",
    "    'MixerBlock.3.token_mixing.Dense_0.weight' : torch.from_numpy(npz_arr['MixerBlock_3/token_mixing/Dense_0/kernel'].T),\n",
    "    'MixerBlock.3.token_mixing.Dense_0.bias' : torch.from_numpy(npz_arr['MixerBlock_3/token_mixing/Dense_0/bias']),\n",
    "    'MixerBlock.3.token_mixing.Dense_1.weight' : torch.from_numpy(npz_arr['MixerBlock_3/token_mixing/Dense_1/kernel'].T),\n",
    "    'MixerBlock.3.token_mixing.Dense_1.bias' : torch.from_numpy(npz_arr['MixerBlock_3/token_mixing/Dense_1/bias']),\n",
    "    'MixerBlock.3.channel_mixing.Dense_0.weight' : torch.from_numpy(npz_arr['MixerBlock_3/channel_mixing/Dense_0/kernel'].T),\n",
    "    'MixerBlock.3.channel_mixing.Dense_0.bias' : torch.from_numpy(npz_arr['MixerBlock_3/channel_mixing/Dense_0/bias']),\n",
    "    'MixerBlock.3.channel_mixing.Dense_1.weight' : torch.from_numpy(npz_arr['MixerBlock_3/channel_mixing/Dense_1/kernel'].T),\n",
    "    'MixerBlock.3.channel_mixing.Dense_1.bias' : torch.from_numpy(npz_arr['MixerBlock_3/channel_mixing/Dense_1/bias']),\n",
    "    \n",
    "    'MixerBlock.4.LayerNorm_0.weight' : torch.from_numpy(npz_arr['MixerBlock_4/LayerNorm_0/scale']),\n",
    "    'MixerBlock.4.LayerNorm_0.bias' : torch.from_numpy(npz_arr['MixerBlock_4/LayerNorm_0/bias']),\n",
    "    'MixerBlock.4.LayerNorm_1.weight' : torch.from_numpy(npz_arr['MixerBlock_4/LayerNorm_1/scale']),\n",
    "    'MixerBlock.4.LayerNorm_1.bias' : torch.from_numpy(npz_arr['MixerBlock_4/LayerNorm_1/bias']),\n",
    "    'MixerBlock.4.token_mixing.Dense_0.weight' : torch.from_numpy(npz_arr['MixerBlock_4/token_mixing/Dense_0/kernel'].T),\n",
    "    'MixerBlock.4.token_mixing.Dense_0.bias' : torch.from_numpy(npz_arr['MixerBlock_4/token_mixing/Dense_0/bias']),\n",
    "    'MixerBlock.4.token_mixing.Dense_1.weight' : torch.from_numpy(npz_arr['MixerBlock_4/token_mixing/Dense_1/kernel'].T),\n",
    "    'MixerBlock.4.token_mixing.Dense_1.bias' : torch.from_numpy(npz_arr['MixerBlock_4/token_mixing/Dense_1/bias']),\n",
    "    'MixerBlock.4.channel_mixing.Dense_0.weight' : torch.from_numpy(npz_arr['MixerBlock_4/channel_mixing/Dense_0/kernel'].T),\n",
    "    'MixerBlock.4.channel_mixing.Dense_0.bias' : torch.from_numpy(npz_arr['MixerBlock_4/channel_mixing/Dense_0/bias']),\n",
    "    'MixerBlock.4.channel_mixing.Dense_1.weight' : torch.from_numpy(npz_arr['MixerBlock_4/channel_mixing/Dense_1/kernel'].T),\n",
    "    'MixerBlock.4.channel_mixing.Dense_1.bias' : torch.from_numpy(npz_arr['MixerBlock_4/channel_mixing/Dense_1/bias']),\n",
    "    \n",
    "    'MixerBlock.5.LayerNorm_0.weight' : torch.from_numpy(npz_arr['MixerBlock_5/LayerNorm_0/scale']),\n",
    "    'MixerBlock.5.LayerNorm_0.bias' : torch.from_numpy(npz_arr['MixerBlock_5/LayerNorm_0/bias']),\n",
    "    'MixerBlock.5.LayerNorm_1.weight' : torch.from_numpy(npz_arr['MixerBlock_5/LayerNorm_1/scale']),\n",
    "    'MixerBlock.5.LayerNorm_1.bias' : torch.from_numpy(npz_arr['MixerBlock_5/LayerNorm_1/bias']),\n",
    "    'MixerBlock.5.token_mixing.Dense_0.weight' : torch.from_numpy(npz_arr['MixerBlock_5/token_mixing/Dense_0/kernel'].T),\n",
    "    'MixerBlock.5.token_mixing.Dense_0.bias' : torch.from_numpy(npz_arr['MixerBlock_5/token_mixing/Dense_0/bias']),\n",
    "    'MixerBlock.5.token_mixing.Dense_1.weight' : torch.from_numpy(npz_arr['MixerBlock_5/token_mixing/Dense_1/kernel'].T),\n",
    "    'MixerBlock.5.token_mixing.Dense_1.bias' : torch.from_numpy(npz_arr['MixerBlock_5/token_mixing/Dense_1/bias']),\n",
    "    'MixerBlock.5.channel_mixing.Dense_0.weight' : torch.from_numpy(npz_arr['MixerBlock_5/channel_mixing/Dense_0/kernel'].T),\n",
    "    'MixerBlock.5.channel_mixing.Dense_0.bias' : torch.from_numpy(npz_arr['MixerBlock_5/channel_mixing/Dense_0/bias']),\n",
    "    'MixerBlock.5.channel_mixing.Dense_1.weight' : torch.from_numpy(npz_arr['MixerBlock_5/channel_mixing/Dense_1/kernel'].T),\n",
    "    'MixerBlock.5.channel_mixing.Dense_1.bias' : torch.from_numpy(npz_arr['MixerBlock_5/channel_mixing/Dense_1/bias']),\n",
    "    \n",
    "    'MixerBlock.6.LayerNorm_0.weight' : torch.from_numpy(npz_arr['MixerBlock_6/LayerNorm_0/scale']),\n",
    "    'MixerBlock.6.LayerNorm_0.bias' : torch.from_numpy(npz_arr['MixerBlock_6/LayerNorm_0/bias']),\n",
    "    'MixerBlock.6.LayerNorm_1.weight' : torch.from_numpy(npz_arr['MixerBlock_6/LayerNorm_1/scale']),\n",
    "    'MixerBlock.6.LayerNorm_1.bias' : torch.from_numpy(npz_arr['MixerBlock_6/LayerNorm_1/bias']),\n",
    "    'MixerBlock.6.token_mixing.Dense_0.weight' : torch.from_numpy(npz_arr['MixerBlock_6/token_mixing/Dense_0/kernel'].T),\n",
    "    'MixerBlock.6.token_mixing.Dense_0.bias' : torch.from_numpy(npz_arr['MixerBlock_6/token_mixing/Dense_0/bias']),\n",
    "    'MixerBlock.6.token_mixing.Dense_1.weight' : torch.from_numpy(npz_arr['MixerBlock_6/token_mixing/Dense_1/kernel'].T),\n",
    "    'MixerBlock.6.token_mixing.Dense_1.bias' : torch.from_numpy(npz_arr['MixerBlock_6/token_mixing/Dense_1/bias']),\n",
    "    'MixerBlock.6.channel_mixing.Dense_0.weight' : torch.from_numpy(npz_arr['MixerBlock_6/channel_mixing/Dense_0/kernel'].T),\n",
    "    'MixerBlock.6.channel_mixing.Dense_0.bias' : torch.from_numpy(npz_arr['MixerBlock_6/channel_mixing/Dense_0/bias']),\n",
    "    'MixerBlock.6.channel_mixing.Dense_1.weight' : torch.from_numpy(npz_arr['MixerBlock_6/channel_mixing/Dense_1/kernel'].T),\n",
    "    'MixerBlock.6.channel_mixing.Dense_1.bias' : torch.from_numpy(npz_arr['MixerBlock_6/channel_mixing/Dense_1/bias']),\n",
    "    \n",
    "    'MixerBlock.7.LayerNorm_0.weight' : torch.from_numpy(npz_arr['MixerBlock_7/LayerNorm_0/scale']),\n",
    "    'MixerBlock.7.LayerNorm_0.bias' : torch.from_numpy(npz_arr['MixerBlock_7/LayerNorm_0/bias']),\n",
    "    'MixerBlock.7.LayerNorm_1.weight' : torch.from_numpy(npz_arr['MixerBlock_7/LayerNorm_1/scale']),\n",
    "    'MixerBlock.7.LayerNorm_1.bias' : torch.from_numpy(npz_arr['MixerBlock_7/LayerNorm_1/bias']),\n",
    "    'MixerBlock.7.token_mixing.Dense_0.weight' : torch.from_numpy(npz_arr['MixerBlock_7/token_mixing/Dense_0/kernel'].T),\n",
    "    'MixerBlock.7.token_mixing.Dense_0.bias' : torch.from_numpy(npz_arr['MixerBlock_7/token_mixing/Dense_0/bias']),\n",
    "    'MixerBlock.7.token_mixing.Dense_1.weight' : torch.from_numpy(npz_arr['MixerBlock_7/token_mixing/Dense_1/kernel'].T),\n",
    "    'MixerBlock.7.token_mixing.Dense_1.bias' : torch.from_numpy(npz_arr['MixerBlock_7/token_mixing/Dense_1/bias']),\n",
    "    'MixerBlock.7.channel_mixing.Dense_0.weight' : torch.from_numpy(npz_arr['MixerBlock_7/channel_mixing/Dense_0/kernel'].T),\n",
    "    'MixerBlock.7.channel_mixing.Dense_0.bias' : torch.from_numpy(npz_arr['MixerBlock_7/channel_mixing/Dense_0/bias']),\n",
    "    'MixerBlock.7.channel_mixing.Dense_1.weight' : torch.from_numpy(npz_arr['MixerBlock_7/channel_mixing/Dense_1/kernel'].T),\n",
    "    'MixerBlock.7.channel_mixing.Dense_1.bias' : torch.from_numpy(npz_arr['MixerBlock_7/channel_mixing/Dense_1/bias']),\n",
    "    \n",
    "    'MixerBlock.8.LayerNorm_0.weight' : torch.from_numpy(npz_arr['MixerBlock_8/LayerNorm_0/scale']),\n",
    "    'MixerBlock.8.LayerNorm_0.bias' : torch.from_numpy(npz_arr['MixerBlock_8/LayerNorm_0/bias']),\n",
    "    'MixerBlock.8.LayerNorm_1.weight' : torch.from_numpy(npz_arr['MixerBlock_8/LayerNorm_1/scale']),\n",
    "    'MixerBlock.8.LayerNorm_1.bias' : torch.from_numpy(npz_arr['MixerBlock_8/LayerNorm_1/bias']),\n",
    "    'MixerBlock.8.token_mixing.Dense_0.weight' : torch.from_numpy(npz_arr['MixerBlock_8/token_mixing/Dense_0/kernel'].T),\n",
    "    'MixerBlock.8.token_mixing.Dense_0.bias' : torch.from_numpy(npz_arr['MixerBlock_8/token_mixing/Dense_0/bias']),\n",
    "    'MixerBlock.8.token_mixing.Dense_1.weight' : torch.from_numpy(npz_arr['MixerBlock_8/token_mixing/Dense_1/kernel'].T),\n",
    "    'MixerBlock.8.token_mixing.Dense_1.bias' : torch.from_numpy(npz_arr['MixerBlock_8/token_mixing/Dense_1/bias']),\n",
    "    'MixerBlock.8.channel_mixing.Dense_0.weight' : torch.from_numpy(npz_arr['MixerBlock_8/channel_mixing/Dense_0/kernel'].T),\n",
    "    'MixerBlock.8.channel_mixing.Dense_0.bias' : torch.from_numpy(npz_arr['MixerBlock_8/channel_mixing/Dense_0/bias']),\n",
    "    'MixerBlock.8.channel_mixing.Dense_1.weight' : torch.from_numpy(npz_arr['MixerBlock_8/channel_mixing/Dense_1/kernel'].T),\n",
    "    'MixerBlock.8.channel_mixing.Dense_1.bias' : torch.from_numpy(npz_arr['MixerBlock_8/channel_mixing/Dense_1/bias']),\n",
    "    \n",
    "    'MixerBlock.9.LayerNorm_0.weight' : torch.from_numpy(npz_arr['MixerBlock_9/LayerNorm_0/scale']),\n",
    "    'MixerBlock.9.LayerNorm_0.bias' : torch.from_numpy(npz_arr['MixerBlock_9/LayerNorm_0/bias']),\n",
    "    'MixerBlock.9.LayerNorm_1.weight' : torch.from_numpy(npz_arr['MixerBlock_9/LayerNorm_1/scale']),\n",
    "    'MixerBlock.9.LayerNorm_1.bias' : torch.from_numpy(npz_arr['MixerBlock_9/LayerNorm_1/bias']),\n",
    "    'MixerBlock.9.token_mixing.Dense_0.weight' : torch.from_numpy(npz_arr['MixerBlock_9/token_mixing/Dense_0/kernel'].T),\n",
    "    'MixerBlock.9.token_mixing.Dense_0.bias' : torch.from_numpy(npz_arr['MixerBlock_9/token_mixing/Dense_0/bias']),\n",
    "    'MixerBlock.9.token_mixing.Dense_1.weight' : torch.from_numpy(npz_arr['MixerBlock_9/token_mixing/Dense_1/kernel'].T),\n",
    "    'MixerBlock.9.token_mixing.Dense_1.bias' : torch.from_numpy(npz_arr['MixerBlock_9/token_mixing/Dense_1/bias']),\n",
    "    'MixerBlock.9.channel_mixing.Dense_0.weight' : torch.from_numpy(npz_arr['MixerBlock_9/channel_mixing/Dense_0/kernel'].T),\n",
    "    'MixerBlock.9.channel_mixing.Dense_0.bias' : torch.from_numpy(npz_arr['MixerBlock_9/channel_mixing/Dense_0/bias']),\n",
    "    'MixerBlock.9.channel_mixing.Dense_1.weight' : torch.from_numpy(npz_arr['MixerBlock_9/channel_mixing/Dense_1/kernel'].T),\n",
    "    'MixerBlock.9.channel_mixing.Dense_1.bias' : torch.from_numpy(npz_arr['MixerBlock_9/channel_mixing/Dense_1/bias']),\n",
    "    \n",
    "    'MixerBlock.10.LayerNorm_0.weight' : torch.from_numpy(npz_arr['MixerBlock_10/LayerNorm_0/scale']),\n",
    "    'MixerBlock.10.LayerNorm_0.bias' : torch.from_numpy(npz_arr['MixerBlock_10/LayerNorm_0/bias']),\n",
    "    'MixerBlock.10.LayerNorm_1.weight' : torch.from_numpy(npz_arr['MixerBlock_10/LayerNorm_1/scale']),\n",
    "    'MixerBlock.10.LayerNorm_1.bias' : torch.from_numpy(npz_arr['MixerBlock_10/LayerNorm_1/bias']),\n",
    "    'MixerBlock.10.token_mixing.Dense_0.weight' : torch.from_numpy(npz_arr['MixerBlock_10/token_mixing/Dense_0/kernel'].T),\n",
    "    'MixerBlock.10.token_mixing.Dense_0.bias' : torch.from_numpy(npz_arr['MixerBlock_10/token_mixing/Dense_0/bias']),\n",
    "    'MixerBlock.10.token_mixing.Dense_1.weight' : torch.from_numpy(npz_arr['MixerBlock_10/token_mixing/Dense_1/kernel'].T),\n",
    "    'MixerBlock.10.token_mixing.Dense_1.bias' : torch.from_numpy(npz_arr['MixerBlock_10/token_mixing/Dense_1/bias']),\n",
    "    'MixerBlock.10.channel_mixing.Dense_0.weight' : torch.from_numpy(npz_arr['MixerBlock_10/channel_mixing/Dense_0/kernel'].T),\n",
    "    'MixerBlock.10.channel_mixing.Dense_0.bias' : torch.from_numpy(npz_arr['MixerBlock_10/channel_mixing/Dense_0/bias']),\n",
    "    'MixerBlock.10.channel_mixing.Dense_1.weight' : torch.from_numpy(npz_arr['MixerBlock_10/channel_mixing/Dense_1/kernel'].T),\n",
    "    'MixerBlock.10.channel_mixing.Dense_1.bias' : torch.from_numpy(npz_arr['MixerBlock_10/channel_mixing/Dense_1/bias']),\n",
    "    \n",
    "    'MixerBlock.11.LayerNorm_0.weight' : torch.from_numpy(npz_arr['MixerBlock_11/LayerNorm_0/scale']),\n",
    "    'MixerBlock.11.LayerNorm_0.bias' : torch.from_numpy(npz_arr['MixerBlock_11/LayerNorm_0/bias']),\n",
    "    'MixerBlock.11.LayerNorm_1.weight' : torch.from_numpy(npz_arr['MixerBlock_11/LayerNorm_1/scale']),\n",
    "    'MixerBlock.11.LayerNorm_1.bias' : torch.from_numpy(npz_arr['MixerBlock_11/LayerNorm_1/bias']),\n",
    "    'MixerBlock.11.token_mixing.Dense_0.weight' : torch.from_numpy(npz_arr['MixerBlock_11/token_mixing/Dense_0/kernel'].T),\n",
    "    'MixerBlock.11.token_mixing.Dense_0.bias' : torch.from_numpy(npz_arr['MixerBlock_11/token_mixing/Dense_0/bias']),\n",
    "    'MixerBlock.11.token_mixing.Dense_1.weight' : torch.from_numpy(npz_arr['MixerBlock_11/token_mixing/Dense_1/kernel'].T),\n",
    "    'MixerBlock.11.token_mixing.Dense_1.bias' : torch.from_numpy(npz_arr['MixerBlock_11/token_mixing/Dense_1/bias']),\n",
    "    'MixerBlock.11.channel_mixing.Dense_0.weight' : torch.from_numpy(npz_arr['MixerBlock_11/channel_mixing/Dense_0/kernel'].T),\n",
    "    'MixerBlock.11.channel_mixing.Dense_0.bias' : torch.from_numpy(npz_arr['MixerBlock_11/channel_mixing/Dense_0/bias']),\n",
    "    'MixerBlock.11.channel_mixing.Dense_1.weight' : torch.from_numpy(npz_arr['MixerBlock_11/channel_mixing/Dense_1/kernel'].T),\n",
    "    'MixerBlock.11.channel_mixing.Dense_1.bias' : torch.from_numpy(npz_arr['MixerBlock_11/channel_mixing/Dense_1/bias']),\n",
    "\n",
    "    'head_norm.weight' : torch.from_numpy(npz_arr['pre_head_layer_norm/scale']),\n",
    "    'head_norm.bias' : torch.from_numpy(npz_arr['pre_head_layer_norm/bias']),\n",
    "\n",
    "    'classifer_head.weight' : torch.rand([5, 768]),\n",
    "    'classifer_head.bias': torch.rand([5])\n",
    "}"
   ],
   "metadata": {
    "collapsed": false,
    "pycharm": {
     "name": "#%%\n"
    }
   }
  },
  {
   "cell_type": "code",
   "execution_count": 12,
   "outputs": [
    {
     "name": "stdout",
     "output_type": "stream",
     "text": [
      "150\n"
     ]
    }
   ],
   "source": [
    "print(len(np_dict))"
   ],
   "metadata": {
    "collapsed": false,
    "pycharm": {
     "name": "#%%\n"
    }
   }
  },
  {
   "cell_type": "code",
   "execution_count": 14,
   "outputs": [
    {
     "name": "stdout",
     "output_type": "stream",
     "text": [
      "dict_keys(['patch_embedding.weight', 'patch_embedding.bias', 'MixerBlock.0.LayerNorm_0.weight', 'MixerBlock.0.LayerNorm_0.bias ', 'MixerBlock.0.LayerNorm_1.weight', 'MixerBlock.0.LayerNorm_1.bias', 'MixerBlock.0.token_mixing.Dense_0.weight', 'MixerBlock.0.token_mixing.Dense_0.bias', 'MixerBlock.0.token_mixing.Dense_1.weight', 'MixerBlock.0.token_mixing.Dense_1.bias', 'MixerBlock.0.channel_mixing.Dense_0.weight', 'MixerBlock.0.channel_mixing.Dense_0.bias', 'MixerBlock.0.channel_mixing.Dense_1.weight', 'MixerBlock.0.channel_mixing.Dense_1.bias', 'MixerBlock.1.LayerNorm_0.weight', 'MixerBlock.1.LayerNorm_0.bias ', 'MixerBlock.1.LayerNorm_1.weight', 'MixerBlock.1.LayerNorm_1.bias', 'MixerBlock.1.token_mixing.Dense_0.weight', 'MixerBlock.1.token_mixing.Dense_0.bias', 'MixerBlock.1.token_mixing.Dense_1.weight', 'MixerBlock.1.token_mixing.Dense_1.bias', 'MixerBlock.1.channel_mixing.Dense_0.weight', 'MixerBlock.1.channel_mixing.Dense_0.bias', 'MixerBlock.1.channel_mixing.Dense_1.weight', 'MixerBlock.1.channel_mixing.Dense_1.bias', 'MixerBlock.2.LayerNorm_0.weight', 'MixerBlock.2.LayerNorm_0.bias ', 'MixerBlock.2.LayerNorm_1.weight', 'MixerBlock.2.LayerNorm_1.bias', 'MixerBlock.2.token_mixing.Dense_0.weight', 'MixerBlock.2.token_mixing.Dense_0.bias', 'MixerBlock.2.token_mixing.Dense_1.weight', 'MixerBlock.2.token_mixing.Dense_1.bias', 'MixerBlock.2.channel_mixing.Dense_0.weight', 'MixerBlock.2.channel_mixing.Dense_0.bias', 'MixerBlock.2.channel_mixing.Dense_1.weight', 'MixerBlock.2.channel_mixing.Dense_1.bias', 'MixerBlock.3.LayerNorm_0.weight', 'MixerBlock.3.LayerNorm_0.bias ', 'MixerBlock.3.LayerNorm_1.weight', 'MixerBlock.3.LayerNorm_1.bias', 'MixerBlock.3.token_mixing.Dense_0.weight', 'MixerBlock.3.token_mixing.Dense_0.bias', 'MixerBlock.3.token_mixing.Dense_1.weight', 'MixerBlock.3.token_mixing.Dense_1.bias', 'MixerBlock.3.channel_mixing.Dense_0.weight', 'MixerBlock.3.channel_mixing.Dense_0.bias', 'MixerBlock.3.channel_mixing.Dense_1.weight', 'MixerBlock.3.channel_mixing.Dense_1.bias', 'MixerBlock.4.LayerNorm_0.weight', 'MixerBlock.4.LayerNorm_0.bias ', 'MixerBlock.4.LayerNorm_1.weight', 'MixerBlock.4.LayerNorm_1.bias', 'MixerBlock.4.token_mixing.Dense_0.weight', 'MixerBlock.4.token_mixing.Dense_0.bias', 'MixerBlock.4.token_mixing.Dense_1.weight', 'MixerBlock.4.token_mixing.Dense_1.bias', 'MixerBlock.4.channel_mixing.Dense_0.weight', 'MixerBlock.4.channel_mixing.Dense_0.bias', 'MixerBlock.4.channel_mixing.Dense_1.weight', 'MixerBlock.4.channel_mixing.Dense_1.bias', 'MixerBlock.5.LayerNorm_0.weight', 'MixerBlock.5.LayerNorm_0.bias ', 'MixerBlock.5.LayerNorm_1.weight', 'MixerBlock.5.LayerNorm_1.bias', 'MixerBlock.5.token_mixing.Dense_0.weight', 'MixerBlock.5.token_mixing.Dense_0.bias', 'MixerBlock.5.token_mixing.Dense_1.weight', 'MixerBlock.5.token_mixing.Dense_1.bias', 'MixerBlock.5.channel_mixing.Dense_0.weight', 'MixerBlock.5.channel_mixing.Dense_0.bias', 'MixerBlock.5.channel_mixing.Dense_1.weight', 'MixerBlock.5.channel_mixing.Dense_1.bias', 'MixerBlock.6.LayerNorm_0.weight', 'MixerBlock.6.LayerNorm_0.bias ', 'MixerBlock.6.LayerNorm_1.weight', 'MixerBlock.6.LayerNorm_1.bias', 'MixerBlock.6.token_mixing.Dense_0.weight', 'MixerBlock.6.token_mixing.Dense_0.bias', 'MixerBlock.6.token_mixing.Dense_1.weight', 'MixerBlock.6.token_mixing.Dense_1.bias', 'MixerBlock.6.channel_mixing.Dense_0.weight', 'MixerBlock.6.channel_mixing.Dense_0.bias', 'MixerBlock.6.channel_mixing.Dense_1.weight', 'MixerBlock.6.channel_mixing.Dense_1.bias', 'MixerBlock.7.LayerNorm_0.weight', 'MixerBlock.7.LayerNorm_0.bias ', 'MixerBlock.7.LayerNorm_1.weight', 'MixerBlock.7.LayerNorm_1.bias', 'MixerBlock.7.token_mixing.Dense_0.weight', 'MixerBlock.7.token_mixing.Dense_0.bias', 'MixerBlock.7.token_mixing.Dense_1.weight', 'MixerBlock.7.token_mixing.Dense_1.bias', 'MixerBlock.7.channel_mixing.Dense_0.weight', 'MixerBlock.7.channel_mixing.Dense_0.bias', 'MixerBlock.7.channel_mixing.Dense_1.weight', 'MixerBlock.7.channel_mixing.Dense_1.bias', 'MixerBlock.8.LayerNorm_0.weight', 'MixerBlock.8.LayerNorm_0.bias ', 'MixerBlock.8.LayerNorm_1.weight', 'MixerBlock.8.LayerNorm_1.bias', 'MixerBlock.8.token_mixing.Dense_0.weight', 'MixerBlock.8.token_mixing.Dense_0.bias', 'MixerBlock.8.token_mixing.Dense_1.weight', 'MixerBlock.8.token_mixing.Dense_1.bias', 'MixerBlock.8.channel_mixing.Dense_0.weight', 'MixerBlock.8.channel_mixing.Dense_0.bias', 'MixerBlock.8.channel_mixing.Dense_1.weight', 'MixerBlock.8.channel_mixing.Dense_1.bias', 'MixerBlock.9.LayerNorm_0.weight', 'MixerBlock.9.LayerNorm_0.bias ', 'MixerBlock.9.LayerNorm_1.weight', 'MixerBlock.9.LayerNorm_1.bias', 'MixerBlock.9.token_mixing.Dense_0.weight', 'MixerBlock.9.token_mixing.Dense_0.bias', 'MixerBlock.9.token_mixing.Dense_1.weight', 'MixerBlock.9.token_mixing.Dense_1.bias', 'MixerBlock.9.channel_mixing.Dense_0.weight', 'MixerBlock.9.channel_mixing.Dense_0.bias', 'MixerBlock.9.channel_mixing.Dense_1.weight', 'MixerBlock.9.channel_mixing.Dense_1.bias', 'MixerBlock.10.LayerNorm_0.weight', 'MixerBlock.10.LayerNorm_0.bias ', 'MixerBlock.10.LayerNorm_1.weight', 'MixerBlock.10.LayerNorm_1.bias', 'MixerBlock.10.token_mixing.Dense_0.weight', 'MixerBlock.10.token_mixing.Dense_0.bias', 'MixerBlock.10.token_mixing.Dense_1.weight', 'MixerBlock.10.token_mixing.Dense_1.bias', 'MixerBlock.10.channel_mixing.Dense_0.weight', 'MixerBlock.10.channel_mixing.Dense_0.bias', 'MixerBlock.10.channel_mixing.Dense_1.weight', 'MixerBlock.10.channel_mixing.Dense_1.bias', 'MixerBlock.11.LayerNorm_0.weight', 'MixerBlock.11.LayerNorm_0.bias ', 'MixerBlock.11.LayerNorm_1.weight', 'MixerBlock.11.LayerNorm_1.bias', 'MixerBlock.11.token_mixing.Dense_0.weight', 'MixerBlock.11.token_mixing.Dense_0.bias', 'MixerBlock.11.token_mixing.Dense_1.weight', 'MixerBlock.11.token_mixing.Dense_1.bias', 'MixerBlock.11.channel_mixing.Dense_0.weight', 'MixerBlock.11.channel_mixing.Dense_0.bias', 'MixerBlock.11.channel_mixing.Dense_1.weight', 'MixerBlock.11.channel_mixing.Dense_1.bias', 'head_norm.weight', 'head_norm.bias', 'classifer_head.weight', 'classifer_head.bias'])\n"
     ]
    }
   ],
   "source": [
    "print(np_dict.keys())"
   ],
   "metadata": {
    "collapsed": false,
    "pycharm": {
     "name": "#%%\n"
    }
   }
  },
  {
   "cell_type": "code",
   "execution_count": 198,
   "outputs": [
    {
     "ename": "RuntimeError",
     "evalue": "Error(s) in loading state_dict for MlpMixer:\n\tsize mismatch for patch_embedding.weight: copying a param with shape torch.Size([768, 3, 16, 16]) from checkpoint, the shape in current model is torch.Size([768, 1, 16, 16]).\n\tsize mismatch for MixerBlock.0.token_mixing.Dense_0.weight: copying a param with shape torch.Size([384, 196]) from checkpoint, the shape in current model is torch.Size([384, 15]).\n\tsize mismatch for MixerBlock.0.token_mixing.Dense_1.weight: copying a param with shape torch.Size([196, 384]) from checkpoint, the shape in current model is torch.Size([15, 384]).\n\tsize mismatch for MixerBlock.0.token_mixing.Dense_1.bias: copying a param with shape torch.Size([196]) from checkpoint, the shape in current model is torch.Size([15]).\n\tsize mismatch for MixerBlock.1.token_mixing.Dense_0.weight: copying a param with shape torch.Size([384, 196]) from checkpoint, the shape in current model is torch.Size([384, 15]).\n\tsize mismatch for MixerBlock.1.token_mixing.Dense_1.weight: copying a param with shape torch.Size([196, 384]) from checkpoint, the shape in current model is torch.Size([15, 384]).\n\tsize mismatch for MixerBlock.1.token_mixing.Dense_1.bias: copying a param with shape torch.Size([196]) from checkpoint, the shape in current model is torch.Size([15]).\n\tsize mismatch for MixerBlock.2.token_mixing.Dense_0.weight: copying a param with shape torch.Size([384, 196]) from checkpoint, the shape in current model is torch.Size([384, 15]).\n\tsize mismatch for MixerBlock.2.token_mixing.Dense_1.weight: copying a param with shape torch.Size([196, 384]) from checkpoint, the shape in current model is torch.Size([15, 384]).\n\tsize mismatch for MixerBlock.2.token_mixing.Dense_1.bias: copying a param with shape torch.Size([196]) from checkpoint, the shape in current model is torch.Size([15]).\n\tsize mismatch for MixerBlock.3.token_mixing.Dense_0.weight: copying a param with shape torch.Size([384, 196]) from checkpoint, the shape in current model is torch.Size([384, 15]).\n\tsize mismatch for MixerBlock.3.token_mixing.Dense_1.weight: copying a param with shape torch.Size([196, 384]) from checkpoint, the shape in current model is torch.Size([15, 384]).\n\tsize mismatch for MixerBlock.3.token_mixing.Dense_1.bias: copying a param with shape torch.Size([196]) from checkpoint, the shape in current model is torch.Size([15]).\n\tsize mismatch for MixerBlock.4.token_mixing.Dense_0.weight: copying a param with shape torch.Size([384, 196]) from checkpoint, the shape in current model is torch.Size([384, 15]).\n\tsize mismatch for MixerBlock.4.token_mixing.Dense_1.weight: copying a param with shape torch.Size([196, 384]) from checkpoint, the shape in current model is torch.Size([15, 384]).\n\tsize mismatch for MixerBlock.4.token_mixing.Dense_1.bias: copying a param with shape torch.Size([196]) from checkpoint, the shape in current model is torch.Size([15]).\n\tsize mismatch for MixerBlock.5.token_mixing.Dense_0.weight: copying a param with shape torch.Size([384, 196]) from checkpoint, the shape in current model is torch.Size([384, 15]).\n\tsize mismatch for MixerBlock.5.token_mixing.Dense_1.weight: copying a param with shape torch.Size([196, 384]) from checkpoint, the shape in current model is torch.Size([15, 384]).\n\tsize mismatch for MixerBlock.5.token_mixing.Dense_1.bias: copying a param with shape torch.Size([196]) from checkpoint, the shape in current model is torch.Size([15]).\n\tsize mismatch for MixerBlock.6.token_mixing.Dense_0.weight: copying a param with shape torch.Size([384, 196]) from checkpoint, the shape in current model is torch.Size([384, 15]).\n\tsize mismatch for MixerBlock.6.token_mixing.Dense_1.weight: copying a param with shape torch.Size([196, 384]) from checkpoint, the shape in current model is torch.Size([15, 384]).\n\tsize mismatch for MixerBlock.6.token_mixing.Dense_1.bias: copying a param with shape torch.Size([196]) from checkpoint, the shape in current model is torch.Size([15]).\n\tsize mismatch for MixerBlock.7.token_mixing.Dense_0.weight: copying a param with shape torch.Size([384, 196]) from checkpoint, the shape in current model is torch.Size([384, 15]).\n\tsize mismatch for MixerBlock.7.token_mixing.Dense_1.weight: copying a param with shape torch.Size([196, 384]) from checkpoint, the shape in current model is torch.Size([15, 384]).\n\tsize mismatch for MixerBlock.7.token_mixing.Dense_1.bias: copying a param with shape torch.Size([196]) from checkpoint, the shape in current model is torch.Size([15]).\n\tsize mismatch for MixerBlock.8.token_mixing.Dense_0.weight: copying a param with shape torch.Size([384, 196]) from checkpoint, the shape in current model is torch.Size([384, 15]).\n\tsize mismatch for MixerBlock.8.token_mixing.Dense_1.weight: copying a param with shape torch.Size([196, 384]) from checkpoint, the shape in current model is torch.Size([15, 384]).\n\tsize mismatch for MixerBlock.8.token_mixing.Dense_1.bias: copying a param with shape torch.Size([196]) from checkpoint, the shape in current model is torch.Size([15]).\n\tsize mismatch for MixerBlock.9.token_mixing.Dense_0.weight: copying a param with shape torch.Size([384, 196]) from checkpoint, the shape in current model is torch.Size([384, 15]).\n\tsize mismatch for MixerBlock.9.token_mixing.Dense_1.weight: copying a param with shape torch.Size([196, 384]) from checkpoint, the shape in current model is torch.Size([15, 384]).\n\tsize mismatch for MixerBlock.9.token_mixing.Dense_1.bias: copying a param with shape torch.Size([196]) from checkpoint, the shape in current model is torch.Size([15]).\n\tsize mismatch for MixerBlock.10.token_mixing.Dense_0.weight: copying a param with shape torch.Size([384, 196]) from checkpoint, the shape in current model is torch.Size([384, 15]).\n\tsize mismatch for MixerBlock.10.token_mixing.Dense_1.weight: copying a param with shape torch.Size([196, 384]) from checkpoint, the shape in current model is torch.Size([15, 384]).\n\tsize mismatch for MixerBlock.10.token_mixing.Dense_1.bias: copying a param with shape torch.Size([196]) from checkpoint, the shape in current model is torch.Size([15]).\n\tsize mismatch for MixerBlock.11.token_mixing.Dense_0.weight: copying a param with shape torch.Size([384, 196]) from checkpoint, the shape in current model is torch.Size([384, 15]).\n\tsize mismatch for MixerBlock.11.token_mixing.Dense_1.weight: copying a param with shape torch.Size([196, 384]) from checkpoint, the shape in current model is torch.Size([15, 384]).\n\tsize mismatch for MixerBlock.11.token_mixing.Dense_1.bias: copying a param with shape torch.Size([196]) from checkpoint, the shape in current model is torch.Size([15]).",
     "output_type": "error",
     "traceback": [
      "\u001B[1;31m---------------------------------------------------------------------------\u001B[0m",
      "\u001B[1;31mRuntimeError\u001B[0m                              Traceback (most recent call last)",
      "Input \u001B[1;32mIn [198]\u001B[0m, in \u001B[0;36m<cell line: 1>\u001B[1;34m()\u001B[0m\n\u001B[1;32m----> 1\u001B[0m \u001B[43mmodel\u001B[49m\u001B[38;5;241;43m.\u001B[39;49m\u001B[43mload_state_dict\u001B[49m\u001B[43m(\u001B[49m\u001B[43mnp_dict\u001B[49m\u001B[43m)\u001B[49m\n",
      "File \u001B[1;32mD:\\Work\\School\\Research Project\\MLPMixer\\lib\\site-packages\\torch\\nn\\modules\\module.py:1497\u001B[0m, in \u001B[0;36mModule.load_state_dict\u001B[1;34m(self, state_dict, strict)\u001B[0m\n\u001B[0;32m   1492\u001B[0m         error_msgs\u001B[38;5;241m.\u001B[39minsert(\n\u001B[0;32m   1493\u001B[0m             \u001B[38;5;241m0\u001B[39m, \u001B[38;5;124m'\u001B[39m\u001B[38;5;124mMissing key(s) in state_dict: \u001B[39m\u001B[38;5;132;01m{}\u001B[39;00m\u001B[38;5;124m. \u001B[39m\u001B[38;5;124m'\u001B[39m\u001B[38;5;241m.\u001B[39mformat(\n\u001B[0;32m   1494\u001B[0m                 \u001B[38;5;124m'\u001B[39m\u001B[38;5;124m, \u001B[39m\u001B[38;5;124m'\u001B[39m\u001B[38;5;241m.\u001B[39mjoin(\u001B[38;5;124m'\u001B[39m\u001B[38;5;124m\"\u001B[39m\u001B[38;5;132;01m{}\u001B[39;00m\u001B[38;5;124m\"\u001B[39m\u001B[38;5;124m'\u001B[39m\u001B[38;5;241m.\u001B[39mformat(k) \u001B[38;5;28;01mfor\u001B[39;00m k \u001B[38;5;129;01min\u001B[39;00m missing_keys)))\n\u001B[0;32m   1496\u001B[0m \u001B[38;5;28;01mif\u001B[39;00m \u001B[38;5;28mlen\u001B[39m(error_msgs) \u001B[38;5;241m>\u001B[39m \u001B[38;5;241m0\u001B[39m:\n\u001B[1;32m-> 1497\u001B[0m     \u001B[38;5;28;01mraise\u001B[39;00m \u001B[38;5;167;01mRuntimeError\u001B[39;00m(\u001B[38;5;124m'\u001B[39m\u001B[38;5;124mError(s) in loading state_dict for \u001B[39m\u001B[38;5;132;01m{}\u001B[39;00m\u001B[38;5;124m:\u001B[39m\u001B[38;5;130;01m\\n\u001B[39;00m\u001B[38;5;130;01m\\t\u001B[39;00m\u001B[38;5;132;01m{}\u001B[39;00m\u001B[38;5;124m'\u001B[39m\u001B[38;5;241m.\u001B[39mformat(\n\u001B[0;32m   1498\u001B[0m                        \u001B[38;5;28mself\u001B[39m\u001B[38;5;241m.\u001B[39m\u001B[38;5;18m__class__\u001B[39m\u001B[38;5;241m.\u001B[39m\u001B[38;5;18m__name__\u001B[39m, \u001B[38;5;124m\"\u001B[39m\u001B[38;5;130;01m\\n\u001B[39;00m\u001B[38;5;130;01m\\t\u001B[39;00m\u001B[38;5;124m\"\u001B[39m\u001B[38;5;241m.\u001B[39mjoin(error_msgs)))\n\u001B[0;32m   1499\u001B[0m \u001B[38;5;28;01mreturn\u001B[39;00m _IncompatibleKeys(missing_keys, unexpected_keys)\n",
      "\u001B[1;31mRuntimeError\u001B[0m: Error(s) in loading state_dict for MlpMixer:\n\tsize mismatch for patch_embedding.weight: copying a param with shape torch.Size([768, 3, 16, 16]) from checkpoint, the shape in current model is torch.Size([768, 1, 16, 16]).\n\tsize mismatch for MixerBlock.0.token_mixing.Dense_0.weight: copying a param with shape torch.Size([384, 196]) from checkpoint, the shape in current model is torch.Size([384, 15]).\n\tsize mismatch for MixerBlock.0.token_mixing.Dense_1.weight: copying a param with shape torch.Size([196, 384]) from checkpoint, the shape in current model is torch.Size([15, 384]).\n\tsize mismatch for MixerBlock.0.token_mixing.Dense_1.bias: copying a param with shape torch.Size([196]) from checkpoint, the shape in current model is torch.Size([15]).\n\tsize mismatch for MixerBlock.1.token_mixing.Dense_0.weight: copying a param with shape torch.Size([384, 196]) from checkpoint, the shape in current model is torch.Size([384, 15]).\n\tsize mismatch for MixerBlock.1.token_mixing.Dense_1.weight: copying a param with shape torch.Size([196, 384]) from checkpoint, the shape in current model is torch.Size([15, 384]).\n\tsize mismatch for MixerBlock.1.token_mixing.Dense_1.bias: copying a param with shape torch.Size([196]) from checkpoint, the shape in current model is torch.Size([15]).\n\tsize mismatch for MixerBlock.2.token_mixing.Dense_0.weight: copying a param with shape torch.Size([384, 196]) from checkpoint, the shape in current model is torch.Size([384, 15]).\n\tsize mismatch for MixerBlock.2.token_mixing.Dense_1.weight: copying a param with shape torch.Size([196, 384]) from checkpoint, the shape in current model is torch.Size([15, 384]).\n\tsize mismatch for MixerBlock.2.token_mixing.Dense_1.bias: copying a param with shape torch.Size([196]) from checkpoint, the shape in current model is torch.Size([15]).\n\tsize mismatch for MixerBlock.3.token_mixing.Dense_0.weight: copying a param with shape torch.Size([384, 196]) from checkpoint, the shape in current model is torch.Size([384, 15]).\n\tsize mismatch for MixerBlock.3.token_mixing.Dense_1.weight: copying a param with shape torch.Size([196, 384]) from checkpoint, the shape in current model is torch.Size([15, 384]).\n\tsize mismatch for MixerBlock.3.token_mixing.Dense_1.bias: copying a param with shape torch.Size([196]) from checkpoint, the shape in current model is torch.Size([15]).\n\tsize mismatch for MixerBlock.4.token_mixing.Dense_0.weight: copying a param with shape torch.Size([384, 196]) from checkpoint, the shape in current model is torch.Size([384, 15]).\n\tsize mismatch for MixerBlock.4.token_mixing.Dense_1.weight: copying a param with shape torch.Size([196, 384]) from checkpoint, the shape in current model is torch.Size([15, 384]).\n\tsize mismatch for MixerBlock.4.token_mixing.Dense_1.bias: copying a param with shape torch.Size([196]) from checkpoint, the shape in current model is torch.Size([15]).\n\tsize mismatch for MixerBlock.5.token_mixing.Dense_0.weight: copying a param with shape torch.Size([384, 196]) from checkpoint, the shape in current model is torch.Size([384, 15]).\n\tsize mismatch for MixerBlock.5.token_mixing.Dense_1.weight: copying a param with shape torch.Size([196, 384]) from checkpoint, the shape in current model is torch.Size([15, 384]).\n\tsize mismatch for MixerBlock.5.token_mixing.Dense_1.bias: copying a param with shape torch.Size([196]) from checkpoint, the shape in current model is torch.Size([15]).\n\tsize mismatch for MixerBlock.6.token_mixing.Dense_0.weight: copying a param with shape torch.Size([384, 196]) from checkpoint, the shape in current model is torch.Size([384, 15]).\n\tsize mismatch for MixerBlock.6.token_mixing.Dense_1.weight: copying a param with shape torch.Size([196, 384]) from checkpoint, the shape in current model is torch.Size([15, 384]).\n\tsize mismatch for MixerBlock.6.token_mixing.Dense_1.bias: copying a param with shape torch.Size([196]) from checkpoint, the shape in current model is torch.Size([15]).\n\tsize mismatch for MixerBlock.7.token_mixing.Dense_0.weight: copying a param with shape torch.Size([384, 196]) from checkpoint, the shape in current model is torch.Size([384, 15]).\n\tsize mismatch for MixerBlock.7.token_mixing.Dense_1.weight: copying a param with shape torch.Size([196, 384]) from checkpoint, the shape in current model is torch.Size([15, 384]).\n\tsize mismatch for MixerBlock.7.token_mixing.Dense_1.bias: copying a param with shape torch.Size([196]) from checkpoint, the shape in current model is torch.Size([15]).\n\tsize mismatch for MixerBlock.8.token_mixing.Dense_0.weight: copying a param with shape torch.Size([384, 196]) from checkpoint, the shape in current model is torch.Size([384, 15]).\n\tsize mismatch for MixerBlock.8.token_mixing.Dense_1.weight: copying a param with shape torch.Size([196, 384]) from checkpoint, the shape in current model is torch.Size([15, 384]).\n\tsize mismatch for MixerBlock.8.token_mixing.Dense_1.bias: copying a param with shape torch.Size([196]) from checkpoint, the shape in current model is torch.Size([15]).\n\tsize mismatch for MixerBlock.9.token_mixing.Dense_0.weight: copying a param with shape torch.Size([384, 196]) from checkpoint, the shape in current model is torch.Size([384, 15]).\n\tsize mismatch for MixerBlock.9.token_mixing.Dense_1.weight: copying a param with shape torch.Size([196, 384]) from checkpoint, the shape in current model is torch.Size([15, 384]).\n\tsize mismatch for MixerBlock.9.token_mixing.Dense_1.bias: copying a param with shape torch.Size([196]) from checkpoint, the shape in current model is torch.Size([15]).\n\tsize mismatch for MixerBlock.10.token_mixing.Dense_0.weight: copying a param with shape torch.Size([384, 196]) from checkpoint, the shape in current model is torch.Size([384, 15]).\n\tsize mismatch for MixerBlock.10.token_mixing.Dense_1.weight: copying a param with shape torch.Size([196, 384]) from checkpoint, the shape in current model is torch.Size([15, 384]).\n\tsize mismatch for MixerBlock.10.token_mixing.Dense_1.bias: copying a param with shape torch.Size([196]) from checkpoint, the shape in current model is torch.Size([15]).\n\tsize mismatch for MixerBlock.11.token_mixing.Dense_0.weight: copying a param with shape torch.Size([384, 196]) from checkpoint, the shape in current model is torch.Size([384, 15]).\n\tsize mismatch for MixerBlock.11.token_mixing.Dense_1.weight: copying a param with shape torch.Size([196, 384]) from checkpoint, the shape in current model is torch.Size([15, 384]).\n\tsize mismatch for MixerBlock.11.token_mixing.Dense_1.bias: copying a param with shape torch.Size([196]) from checkpoint, the shape in current model is torch.Size([15])."
     ]
    }
   ],
   "source": [
    "model.load_state_dict(np_dict)"
   ],
   "metadata": {
    "collapsed": false,
    "pycharm": {
     "name": "#%%\n"
    }
   }
  },
  {
   "cell_type": "code",
   "execution_count": null,
   "outputs": [],
   "source": [],
   "metadata": {
    "collapsed": false,
    "pycharm": {
     "name": "#%%\n"
    }
   }
  },
  {
   "cell_type": "code",
   "execution_count": null,
   "outputs": [],
   "source": [
    "# Print model's state_dict\n",
    "print(\"Model's state_dict:\")\n",
    "for param_tensor in model.state_dict():\n",
    "    print(param_tensor, \"\\t\", model.state_dict()[param_tensor].size())"
   ],
   "metadata": {
    "collapsed": false,
    "pycharm": {
     "name": "#%%\n"
    }
   }
  },
  {
   "cell_type": "code",
   "execution_count": 201,
   "outputs": [
    {
     "name": "stdout",
     "output_type": "stream",
     "text": [
      "Model's state_dict:\n",
      "patch_embedding.weight \t torch.Size([768, 1, 16, 16])\n",
      "patch_embedding.bias \t torch.Size([768])\n",
      "MixerBlock.0.LayerNorm_0.weight \t torch.Size([768])\n",
      "MixerBlock.0.LayerNorm_0.bias \t torch.Size([768])\n",
      "MixerBlock.0.LayerNorm_1.weight \t torch.Size([768])\n",
      "MixerBlock.0.LayerNorm_1.bias \t torch.Size([768])\n",
      "MixerBlock.0.token_mixing.Dense_0.weight \t torch.Size([384, 196])\n",
      "MixerBlock.0.token_mixing.Dense_0.bias \t torch.Size([384])\n",
      "MixerBlock.0.token_mixing.Dense_1.weight \t torch.Size([196, 384])\n",
      "MixerBlock.0.token_mixing.Dense_1.bias \t torch.Size([196])\n",
      "MixerBlock.0.channel_mixing.Dense_0.weight \t torch.Size([3072, 768])\n",
      "MixerBlock.0.channel_mixing.Dense_0.bias \t torch.Size([3072])\n",
      "MixerBlock.0.channel_mixing.Dense_1.weight \t torch.Size([768, 3072])\n",
      "MixerBlock.0.channel_mixing.Dense_1.bias \t torch.Size([768])\n",
      "MixerBlock.1.LayerNorm_0.weight \t torch.Size([768])\n",
      "MixerBlock.1.LayerNorm_0.bias \t torch.Size([768])\n",
      "MixerBlock.1.LayerNorm_1.weight \t torch.Size([768])\n",
      "MixerBlock.1.LayerNorm_1.bias \t torch.Size([768])\n",
      "MixerBlock.1.token_mixing.Dense_0.weight \t torch.Size([384, 196])\n",
      "MixerBlock.1.token_mixing.Dense_0.bias \t torch.Size([384])\n",
      "MixerBlock.1.token_mixing.Dense_1.weight \t torch.Size([196, 384])\n",
      "MixerBlock.1.token_mixing.Dense_1.bias \t torch.Size([196])\n",
      "MixerBlock.1.channel_mixing.Dense_0.weight \t torch.Size([3072, 768])\n",
      "MixerBlock.1.channel_mixing.Dense_0.bias \t torch.Size([3072])\n",
      "MixerBlock.1.channel_mixing.Dense_1.weight \t torch.Size([768, 3072])\n",
      "MixerBlock.1.channel_mixing.Dense_1.bias \t torch.Size([768])\n",
      "MixerBlock.2.LayerNorm_0.weight \t torch.Size([768])\n",
      "MixerBlock.2.LayerNorm_0.bias \t torch.Size([768])\n",
      "MixerBlock.2.LayerNorm_1.weight \t torch.Size([768])\n",
      "MixerBlock.2.LayerNorm_1.bias \t torch.Size([768])\n",
      "MixerBlock.2.token_mixing.Dense_0.weight \t torch.Size([384, 196])\n",
      "MixerBlock.2.token_mixing.Dense_0.bias \t torch.Size([384])\n",
      "MixerBlock.2.token_mixing.Dense_1.weight \t torch.Size([196, 384])\n",
      "MixerBlock.2.token_mixing.Dense_1.bias \t torch.Size([196])\n",
      "MixerBlock.2.channel_mixing.Dense_0.weight \t torch.Size([3072, 768])\n",
      "MixerBlock.2.channel_mixing.Dense_0.bias \t torch.Size([3072])\n",
      "MixerBlock.2.channel_mixing.Dense_1.weight \t torch.Size([768, 3072])\n",
      "MixerBlock.2.channel_mixing.Dense_1.bias \t torch.Size([768])\n",
      "MixerBlock.3.LayerNorm_0.weight \t torch.Size([768])\n",
      "MixerBlock.3.LayerNorm_0.bias \t torch.Size([768])\n",
      "MixerBlock.3.LayerNorm_1.weight \t torch.Size([768])\n",
      "MixerBlock.3.LayerNorm_1.bias \t torch.Size([768])\n",
      "MixerBlock.3.token_mixing.Dense_0.weight \t torch.Size([384, 196])\n",
      "MixerBlock.3.token_mixing.Dense_0.bias \t torch.Size([384])\n",
      "MixerBlock.3.token_mixing.Dense_1.weight \t torch.Size([196, 384])\n",
      "MixerBlock.3.token_mixing.Dense_1.bias \t torch.Size([196])\n",
      "MixerBlock.3.channel_mixing.Dense_0.weight \t torch.Size([3072, 768])\n",
      "MixerBlock.3.channel_mixing.Dense_0.bias \t torch.Size([3072])\n",
      "MixerBlock.3.channel_mixing.Dense_1.weight \t torch.Size([768, 3072])\n",
      "MixerBlock.3.channel_mixing.Dense_1.bias \t torch.Size([768])\n",
      "MixerBlock.4.LayerNorm_0.weight \t torch.Size([768])\n",
      "MixerBlock.4.LayerNorm_0.bias \t torch.Size([768])\n",
      "MixerBlock.4.LayerNorm_1.weight \t torch.Size([768])\n",
      "MixerBlock.4.LayerNorm_1.bias \t torch.Size([768])\n",
      "MixerBlock.4.token_mixing.Dense_0.weight \t torch.Size([384, 196])\n",
      "MixerBlock.4.token_mixing.Dense_0.bias \t torch.Size([384])\n",
      "MixerBlock.4.token_mixing.Dense_1.weight \t torch.Size([196, 384])\n",
      "MixerBlock.4.token_mixing.Dense_1.bias \t torch.Size([196])\n",
      "MixerBlock.4.channel_mixing.Dense_0.weight \t torch.Size([3072, 768])\n",
      "MixerBlock.4.channel_mixing.Dense_0.bias \t torch.Size([3072])\n",
      "MixerBlock.4.channel_mixing.Dense_1.weight \t torch.Size([768, 3072])\n",
      "MixerBlock.4.channel_mixing.Dense_1.bias \t torch.Size([768])\n",
      "MixerBlock.5.LayerNorm_0.weight \t torch.Size([768])\n",
      "MixerBlock.5.LayerNorm_0.bias \t torch.Size([768])\n",
      "MixerBlock.5.LayerNorm_1.weight \t torch.Size([768])\n",
      "MixerBlock.5.LayerNorm_1.bias \t torch.Size([768])\n",
      "MixerBlock.5.token_mixing.Dense_0.weight \t torch.Size([384, 196])\n",
      "MixerBlock.5.token_mixing.Dense_0.bias \t torch.Size([384])\n",
      "MixerBlock.5.token_mixing.Dense_1.weight \t torch.Size([196, 384])\n",
      "MixerBlock.5.token_mixing.Dense_1.bias \t torch.Size([196])\n",
      "MixerBlock.5.channel_mixing.Dense_0.weight \t torch.Size([3072, 768])\n",
      "MixerBlock.5.channel_mixing.Dense_0.bias \t torch.Size([3072])\n",
      "MixerBlock.5.channel_mixing.Dense_1.weight \t torch.Size([768, 3072])\n",
      "MixerBlock.5.channel_mixing.Dense_1.bias \t torch.Size([768])\n",
      "MixerBlock.6.LayerNorm_0.weight \t torch.Size([768])\n",
      "MixerBlock.6.LayerNorm_0.bias \t torch.Size([768])\n",
      "MixerBlock.6.LayerNorm_1.weight \t torch.Size([768])\n",
      "MixerBlock.6.LayerNorm_1.bias \t torch.Size([768])\n",
      "MixerBlock.6.token_mixing.Dense_0.weight \t torch.Size([384, 196])\n",
      "MixerBlock.6.token_mixing.Dense_0.bias \t torch.Size([384])\n",
      "MixerBlock.6.token_mixing.Dense_1.weight \t torch.Size([196, 384])\n",
      "MixerBlock.6.token_mixing.Dense_1.bias \t torch.Size([196])\n",
      "MixerBlock.6.channel_mixing.Dense_0.weight \t torch.Size([3072, 768])\n",
      "MixerBlock.6.channel_mixing.Dense_0.bias \t torch.Size([3072])\n",
      "MixerBlock.6.channel_mixing.Dense_1.weight \t torch.Size([768, 3072])\n",
      "MixerBlock.6.channel_mixing.Dense_1.bias \t torch.Size([768])\n",
      "MixerBlock.7.LayerNorm_0.weight \t torch.Size([768])\n",
      "MixerBlock.7.LayerNorm_0.bias \t torch.Size([768])\n",
      "MixerBlock.7.LayerNorm_1.weight \t torch.Size([768])\n",
      "MixerBlock.7.LayerNorm_1.bias \t torch.Size([768])\n",
      "MixerBlock.7.token_mixing.Dense_0.weight \t torch.Size([384, 196])\n",
      "MixerBlock.7.token_mixing.Dense_0.bias \t torch.Size([384])\n",
      "MixerBlock.7.token_mixing.Dense_1.weight \t torch.Size([196, 384])\n",
      "MixerBlock.7.token_mixing.Dense_1.bias \t torch.Size([196])\n",
      "MixerBlock.7.channel_mixing.Dense_0.weight \t torch.Size([3072, 768])\n",
      "MixerBlock.7.channel_mixing.Dense_0.bias \t torch.Size([3072])\n",
      "MixerBlock.7.channel_mixing.Dense_1.weight \t torch.Size([768, 3072])\n",
      "MixerBlock.7.channel_mixing.Dense_1.bias \t torch.Size([768])\n",
      "MixerBlock.8.LayerNorm_0.weight \t torch.Size([768])\n",
      "MixerBlock.8.LayerNorm_0.bias \t torch.Size([768])\n",
      "MixerBlock.8.LayerNorm_1.weight \t torch.Size([768])\n",
      "MixerBlock.8.LayerNorm_1.bias \t torch.Size([768])\n",
      "MixerBlock.8.token_mixing.Dense_0.weight \t torch.Size([384, 196])\n",
      "MixerBlock.8.token_mixing.Dense_0.bias \t torch.Size([384])\n",
      "MixerBlock.8.token_mixing.Dense_1.weight \t torch.Size([196, 384])\n",
      "MixerBlock.8.token_mixing.Dense_1.bias \t torch.Size([196])\n",
      "MixerBlock.8.channel_mixing.Dense_0.weight \t torch.Size([3072, 768])\n",
      "MixerBlock.8.channel_mixing.Dense_0.bias \t torch.Size([3072])\n",
      "MixerBlock.8.channel_mixing.Dense_1.weight \t torch.Size([768, 3072])\n",
      "MixerBlock.8.channel_mixing.Dense_1.bias \t torch.Size([768])\n",
      "MixerBlock.9.LayerNorm_0.weight \t torch.Size([768])\n",
      "MixerBlock.9.LayerNorm_0.bias \t torch.Size([768])\n",
      "MixerBlock.9.LayerNorm_1.weight \t torch.Size([768])\n",
      "MixerBlock.9.LayerNorm_1.bias \t torch.Size([768])\n",
      "MixerBlock.9.token_mixing.Dense_0.weight \t torch.Size([384, 196])\n",
      "MixerBlock.9.token_mixing.Dense_0.bias \t torch.Size([384])\n",
      "MixerBlock.9.token_mixing.Dense_1.weight \t torch.Size([196, 384])\n",
      "MixerBlock.9.token_mixing.Dense_1.bias \t torch.Size([196])\n",
      "MixerBlock.9.channel_mixing.Dense_0.weight \t torch.Size([3072, 768])\n",
      "MixerBlock.9.channel_mixing.Dense_0.bias \t torch.Size([3072])\n",
      "MixerBlock.9.channel_mixing.Dense_1.weight \t torch.Size([768, 3072])\n",
      "MixerBlock.9.channel_mixing.Dense_1.bias \t torch.Size([768])\n",
      "MixerBlock.10.LayerNorm_0.weight \t torch.Size([768])\n",
      "MixerBlock.10.LayerNorm_0.bias \t torch.Size([768])\n",
      "MixerBlock.10.LayerNorm_1.weight \t torch.Size([768])\n",
      "MixerBlock.10.LayerNorm_1.bias \t torch.Size([768])\n",
      "MixerBlock.10.token_mixing.Dense_0.weight \t torch.Size([384, 196])\n",
      "MixerBlock.10.token_mixing.Dense_0.bias \t torch.Size([384])\n",
      "MixerBlock.10.token_mixing.Dense_1.weight \t torch.Size([196, 384])\n",
      "MixerBlock.10.token_mixing.Dense_1.bias \t torch.Size([196])\n",
      "MixerBlock.10.channel_mixing.Dense_0.weight \t torch.Size([3072, 768])\n",
      "MixerBlock.10.channel_mixing.Dense_0.bias \t torch.Size([3072])\n",
      "MixerBlock.10.channel_mixing.Dense_1.weight \t torch.Size([768, 3072])\n",
      "MixerBlock.10.channel_mixing.Dense_1.bias \t torch.Size([768])\n",
      "MixerBlock.11.LayerNorm_0.weight \t torch.Size([768])\n",
      "MixerBlock.11.LayerNorm_0.bias \t torch.Size([768])\n",
      "MixerBlock.11.LayerNorm_1.weight \t torch.Size([768])\n",
      "MixerBlock.11.LayerNorm_1.bias \t torch.Size([768])\n",
      "MixerBlock.11.token_mixing.Dense_0.weight \t torch.Size([384, 196])\n",
      "MixerBlock.11.token_mixing.Dense_0.bias \t torch.Size([384])\n",
      "MixerBlock.11.token_mixing.Dense_1.weight \t torch.Size([196, 384])\n",
      "MixerBlock.11.token_mixing.Dense_1.bias \t torch.Size([196])\n",
      "MixerBlock.11.channel_mixing.Dense_0.weight \t torch.Size([3072, 768])\n",
      "MixerBlock.11.channel_mixing.Dense_0.bias \t torch.Size([3072])\n",
      "MixerBlock.11.channel_mixing.Dense_1.weight \t torch.Size([768, 3072])\n",
      "MixerBlock.11.channel_mixing.Dense_1.bias \t torch.Size([768])\n",
      "head_norm.weight \t torch.Size([768])\n",
      "head_norm.bias \t torch.Size([768])\n",
      "classifer_head.weight \t torch.Size([5, 768])\n",
      "classifer_head.bias \t torch.Size([5])\n"
     ]
    }
   ],
   "source": [
    "# Print model's state_dict\n",
    "print(\"Model's state_dict:\")\n",
    "for param_tensor in model.state_dict():\n",
    "    print(param_tensor, \"\\t\", model.state_dict()[param_tensor].size())"
   ],
   "metadata": {
    "collapsed": false,
    "pycharm": {
     "name": "#%%\n"
    }
   }
  },
  {
   "cell_type": "code",
   "execution_count": 10,
   "outputs": [
    {
     "name": "stdout",
     "output_type": "stream",
     "text": [
      "patch_embedding.weight\n",
      "patch_embedding.bias\n",
      "MixerBlock.0.LayerNorm_0.weight\n",
      "MixerBlock.0.LayerNorm_0.bias\n",
      "MixerBlock.0.LayerNorm_1.weight\n",
      "MixerBlock.0.LayerNorm_1.bias\n",
      "MixerBlock.0.token_mixing.Dense_0.weight\n",
      "MixerBlock.0.token_mixing.Dense_0.bias\n",
      "MixerBlock.0.token_mixing.Dense_1.weight\n",
      "MixerBlock.0.token_mixing.Dense_1.bias\n",
      "MixerBlock.0.channel_mixing.Dense_0.weight\n",
      "MixerBlock.0.channel_mixing.Dense_0.bias\n",
      "MixerBlock.0.channel_mixing.Dense_1.weight\n",
      "MixerBlock.0.channel_mixing.Dense_1.bias\n",
      "MixerBlock.1.LayerNorm_0.weight\n",
      "MixerBlock.1.LayerNorm_0.bias\n",
      "MixerBlock.1.LayerNorm_1.weight\n",
      "MixerBlock.1.LayerNorm_1.bias\n",
      "MixerBlock.1.token_mixing.Dense_0.weight\n",
      "MixerBlock.1.token_mixing.Dense_0.bias\n",
      "MixerBlock.1.token_mixing.Dense_1.weight\n",
      "MixerBlock.1.token_mixing.Dense_1.bias\n",
      "MixerBlock.1.channel_mixing.Dense_0.weight\n",
      "MixerBlock.1.channel_mixing.Dense_0.bias\n",
      "MixerBlock.1.channel_mixing.Dense_1.weight\n",
      "MixerBlock.1.channel_mixing.Dense_1.bias\n",
      "MixerBlock.2.LayerNorm_0.weight\n",
      "MixerBlock.2.LayerNorm_0.bias\n",
      "MixerBlock.2.LayerNorm_1.weight\n",
      "MixerBlock.2.LayerNorm_1.bias\n",
      "MixerBlock.2.token_mixing.Dense_0.weight\n",
      "MixerBlock.2.token_mixing.Dense_0.bias\n",
      "MixerBlock.2.token_mixing.Dense_1.weight\n",
      "MixerBlock.2.token_mixing.Dense_1.bias\n",
      "MixerBlock.2.channel_mixing.Dense_0.weight\n",
      "MixerBlock.2.channel_mixing.Dense_0.bias\n",
      "MixerBlock.2.channel_mixing.Dense_1.weight\n",
      "MixerBlock.2.channel_mixing.Dense_1.bias\n",
      "MixerBlock.3.LayerNorm_0.weight\n",
      "MixerBlock.3.LayerNorm_0.bias\n",
      "MixerBlock.3.LayerNorm_1.weight\n",
      "MixerBlock.3.LayerNorm_1.bias\n",
      "MixerBlock.3.token_mixing.Dense_0.weight\n",
      "MixerBlock.3.token_mixing.Dense_0.bias\n",
      "MixerBlock.3.token_mixing.Dense_1.weight\n",
      "MixerBlock.3.token_mixing.Dense_1.bias\n",
      "MixerBlock.3.channel_mixing.Dense_0.weight\n",
      "MixerBlock.3.channel_mixing.Dense_0.bias\n",
      "MixerBlock.3.channel_mixing.Dense_1.weight\n",
      "MixerBlock.3.channel_mixing.Dense_1.bias\n",
      "MixerBlock.4.LayerNorm_0.weight\n",
      "MixerBlock.4.LayerNorm_0.bias\n",
      "MixerBlock.4.LayerNorm_1.weight\n",
      "MixerBlock.4.LayerNorm_1.bias\n",
      "MixerBlock.4.token_mixing.Dense_0.weight\n",
      "MixerBlock.4.token_mixing.Dense_0.bias\n",
      "MixerBlock.4.token_mixing.Dense_1.weight\n",
      "MixerBlock.4.token_mixing.Dense_1.bias\n",
      "MixerBlock.4.channel_mixing.Dense_0.weight\n",
      "MixerBlock.4.channel_mixing.Dense_0.bias\n",
      "MixerBlock.4.channel_mixing.Dense_1.weight\n",
      "MixerBlock.4.channel_mixing.Dense_1.bias\n",
      "MixerBlock.5.LayerNorm_0.weight\n",
      "MixerBlock.5.LayerNorm_0.bias\n",
      "MixerBlock.5.LayerNorm_1.weight\n",
      "MixerBlock.5.LayerNorm_1.bias\n",
      "MixerBlock.5.token_mixing.Dense_0.weight\n",
      "MixerBlock.5.token_mixing.Dense_0.bias\n",
      "MixerBlock.5.token_mixing.Dense_1.weight\n",
      "MixerBlock.5.token_mixing.Dense_1.bias\n",
      "MixerBlock.5.channel_mixing.Dense_0.weight\n",
      "MixerBlock.5.channel_mixing.Dense_0.bias\n",
      "MixerBlock.5.channel_mixing.Dense_1.weight\n",
      "MixerBlock.5.channel_mixing.Dense_1.bias\n",
      "MixerBlock.6.LayerNorm_0.weight\n",
      "MixerBlock.6.LayerNorm_0.bias\n",
      "MixerBlock.6.LayerNorm_1.weight\n",
      "MixerBlock.6.LayerNorm_1.bias\n",
      "MixerBlock.6.token_mixing.Dense_0.weight\n",
      "MixerBlock.6.token_mixing.Dense_0.bias\n",
      "MixerBlock.6.token_mixing.Dense_1.weight\n",
      "MixerBlock.6.token_mixing.Dense_1.bias\n",
      "MixerBlock.6.channel_mixing.Dense_0.weight\n",
      "MixerBlock.6.channel_mixing.Dense_0.bias\n",
      "MixerBlock.6.channel_mixing.Dense_1.weight\n",
      "MixerBlock.6.channel_mixing.Dense_1.bias\n",
      "MixerBlock.7.LayerNorm_0.weight\n",
      "MixerBlock.7.LayerNorm_0.bias\n",
      "MixerBlock.7.LayerNorm_1.weight\n",
      "MixerBlock.7.LayerNorm_1.bias\n",
      "MixerBlock.7.token_mixing.Dense_0.weight\n",
      "MixerBlock.7.token_mixing.Dense_0.bias\n",
      "MixerBlock.7.token_mixing.Dense_1.weight\n",
      "MixerBlock.7.token_mixing.Dense_1.bias\n",
      "MixerBlock.7.channel_mixing.Dense_0.weight\n",
      "MixerBlock.7.channel_mixing.Dense_0.bias\n",
      "MixerBlock.7.channel_mixing.Dense_1.weight\n",
      "MixerBlock.7.channel_mixing.Dense_1.bias\n",
      "MixerBlock.8.LayerNorm_0.weight\n",
      "MixerBlock.8.LayerNorm_0.bias\n",
      "MixerBlock.8.LayerNorm_1.weight\n",
      "MixerBlock.8.LayerNorm_1.bias\n",
      "MixerBlock.8.token_mixing.Dense_0.weight\n",
      "MixerBlock.8.token_mixing.Dense_0.bias\n",
      "MixerBlock.8.token_mixing.Dense_1.weight\n",
      "MixerBlock.8.token_mixing.Dense_1.bias\n",
      "MixerBlock.8.channel_mixing.Dense_0.weight\n",
      "MixerBlock.8.channel_mixing.Dense_0.bias\n",
      "MixerBlock.8.channel_mixing.Dense_1.weight\n",
      "MixerBlock.8.channel_mixing.Dense_1.bias\n",
      "MixerBlock.9.LayerNorm_0.weight\n",
      "MixerBlock.9.LayerNorm_0.bias\n",
      "MixerBlock.9.LayerNorm_1.weight\n",
      "MixerBlock.9.LayerNorm_1.bias\n",
      "MixerBlock.9.token_mixing.Dense_0.weight\n",
      "MixerBlock.9.token_mixing.Dense_0.bias\n",
      "MixerBlock.9.token_mixing.Dense_1.weight\n",
      "MixerBlock.9.token_mixing.Dense_1.bias\n",
      "MixerBlock.9.channel_mixing.Dense_0.weight\n",
      "MixerBlock.9.channel_mixing.Dense_0.bias\n",
      "MixerBlock.9.channel_mixing.Dense_1.weight\n",
      "MixerBlock.9.channel_mixing.Dense_1.bias\n",
      "MixerBlock.10.LayerNorm_0.weight\n",
      "MixerBlock.10.LayerNorm_0.bias\n",
      "MixerBlock.10.LayerNorm_1.weight\n",
      "MixerBlock.10.LayerNorm_1.bias\n",
      "MixerBlock.10.token_mixing.Dense_0.weight\n",
      "MixerBlock.10.token_mixing.Dense_0.bias\n",
      "MixerBlock.10.token_mixing.Dense_1.weight\n",
      "MixerBlock.10.token_mixing.Dense_1.bias\n",
      "MixerBlock.10.channel_mixing.Dense_0.weight\n",
      "MixerBlock.10.channel_mixing.Dense_0.bias\n",
      "MixerBlock.10.channel_mixing.Dense_1.weight\n",
      "MixerBlock.10.channel_mixing.Dense_1.bias\n",
      "MixerBlock.11.LayerNorm_0.weight\n",
      "MixerBlock.11.LayerNorm_0.bias\n",
      "MixerBlock.11.LayerNorm_1.weight\n",
      "MixerBlock.11.LayerNorm_1.bias\n",
      "MixerBlock.11.token_mixing.Dense_0.weight\n",
      "MixerBlock.11.token_mixing.Dense_0.bias\n",
      "MixerBlock.11.token_mixing.Dense_1.weight\n",
      "MixerBlock.11.token_mixing.Dense_1.bias\n",
      "MixerBlock.11.channel_mixing.Dense_0.weight\n",
      "MixerBlock.11.channel_mixing.Dense_0.bias\n",
      "MixerBlock.11.channel_mixing.Dense_1.weight\n",
      "MixerBlock.11.channel_mixing.Dense_1.bias\n",
      "head_norm.weight\n",
      "head_norm.bias\n",
      "classifer_head.weight\n",
      "classifer_head.bias\n",
      "150\n"
     ]
    }
   ],
   "source": [
    "par = 0\n",
    "for name, param in model.named_parameters():\n",
    "    if param.requires_grad:\n",
    "        print (name)\n",
    "        par  += 1\n",
    "\n",
    "print(par)"
   ],
   "metadata": {
    "collapsed": false,
    "pycharm": {
     "name": "#%%\n"
    }
   }
  },
  {
   "cell_type": "code",
   "execution_count": null,
   "outputs": [],
   "source": [
    "#this is the number of trang.Dense_1.weight\n",
    "pp=0\n",
    "for p in list(model.parameters()):\n",
    "    nn=1\n",
    "    for s in list(p.size()):\n",
    "        nn = nn*s\n",
    "    pp += nn\n",
    "print(pp)"
   ],
   "metadata": {
    "collapsed": false,
    "pycharm": {
     "name": "#%%\n"
    }
   }
  },
  {
   "cell_type": "code",
   "execution_count": null,
   "outputs": [],
   "source": [],
   "metadata": {
    "collapsed": false,
    "pycharm": {
     "name": "#%%\n"
    }
   }
  },
  {
   "cell_type": "code",
   "execution_count": null,
   "outputs": [],
   "source": [
    "#optimizer = torch.optim.SGD(model.parameters(),lr=args.lr,momentum=args.momentum,nesterov=bool(args.nesterov),weight_decay=args.weight_decay)\n",
    "#optimizer = torch.optim.Adam(model.parameters(),lr=args.lr, betas=(0.9, 0.999), nesterov=bool(args.nesterov),weight_decay=args.weight_decay)\n",
    "criterion = nn.CrossEntropyLoss()"
   ],
   "metadata": {
    "collapsed": false,
    "pycharm": {
     "name": "#%%\n"
    }
   }
  },
  {
   "cell_type": "code",
   "execution_count": null,
   "outputs": [],
   "source": [],
   "metadata": {
    "collapsed": false,
    "pycharm": {
     "name": "#%%\n"
    }
   }
  },
  {
   "cell_type": "code",
   "execution_count": 21,
   "outputs": [
    {
     "name": "stdout",
     "output_type": "stream",
     "text": [
      "torch.Size([42, 3, 16, 16])\n"
     ]
    }
   ],
   "source": [
    "tmp = torch.rand([16, 16, 3, 42])\n",
    "tmp = tmp.transpose(0,3).transpose(1,2)\n",
    "\n",
    "print(tmp.shape)"
   ],
   "metadata": {
    "collapsed": false,
    "pycharm": {
     "name": "#%%\n"
    }
   }
  },
  {
   "cell_type": "code",
   "execution_count": 84,
   "outputs": [
    {
     "name": "stdout",
     "output_type": "stream",
     "text": [
      "(7184, 113, 30) (7184,)\n"
     ]
    }
   ],
   "source": [
    "print(train.data['inputs'].shape, train.data['targets'].shape)"
   ],
   "metadata": {
    "collapsed": false,
    "pycharm": {
     "name": "#%%\n"
    }
   }
  },
  {
   "cell_type": "code",
   "execution_count": 91,
   "outputs": [
    {
     "data": {
      "text/plain": "(113, 30)"
     },
     "execution_count": 91,
     "metadata": {},
     "output_type": "execute_result"
    }
   ],
   "source": [
    "train.data['inputs'][0].shape"
   ],
   "metadata": {
    "collapsed": false,
    "pycharm": {
     "name": "#%%\n"
    }
   }
  },
  {
   "cell_type": "code",
   "execution_count": null,
   "outputs": [],
   "source": [],
   "metadata": {
    "collapsed": false,
    "pycharm": {
     "name": "#%%\n"
    }
   }
  },
  {
   "cell_type": "code",
   "execution_count": 110,
   "outputs": [],
   "source": [
    "from torch.utils.data import DataLoader\n",
    "\n",
    "training_loader = DataLoader(dataset=train,\n",
    "             batch_size=32,\n",
    "             num_workers=0,\n",
    "             shuffle=True,\n",
    "             drop_last=True,\n",
    "             pin_memory=True)"
   ],
   "metadata": {
    "collapsed": false,
    "pycharm": {
     "name": "#%%\n"
    }
   }
  },
  {
   "cell_type": "code",
   "execution_count": 111,
   "outputs": [
    {
     "name": "stdout",
     "output_type": "stream",
     "text": [
      "Input Shape:  torch.Size([32, 113])\n",
      "Test Shape:  torch.Size([32, 1, 1])\n"
     ]
    }
   ],
   "source": [
    "random_sample = next(iter(training_loader))\n",
    "print('Input Shape: ', random_sample[0].shape)\n",
    "print('Test Shape: ', random_sample[1].shape)"
   ],
   "metadata": {
    "collapsed": false,
    "pycharm": {
     "name": "#%%\n"
    }
   }
  },
  {
   "cell_type": "code",
   "execution_count": 44,
   "outputs": [
    {
     "name": "stdout",
     "output_type": "stream",
     "text": [
      "torch.Size([40, 1, 16, 16]) torch.Size([40, 3, 16, 16])\n"
     ]
    }
   ],
   "source": [
    "from torch import nn\n",
    "x_in = torch.tensor(np.random.randn(40, 1, shape_in, shape_in), dtype=torch.float)\n",
    "transpose = False\n",
    "\n",
    "if transpose:\n",
    "    layer = nn.ConvTranspose2d\n",
    "else:\n",
    "    layer = nn.Conv2d\n",
    "layer = layer(\n",
    "        1, 3, (4, 4),\n",
    "        stride=1,\n",
    "        padding=\"same\",\n",
    "        dilation=1\n",
    "    )\n",
    "\n",
    "# Check if layer is valid for given input shape\n",
    "x_out = layer(x_in)\n",
    "\n",
    "# Check for shape of out tensor\n",
    "result = x_out.shape\n",
    "\n",
    "print(x_in.shape, x_out.shape)"
   ],
   "metadata": {
    "collapsed": false,
    "pycharm": {
     "name": "#%%\n"
    }
   }
  },
  {
   "cell_type": "code",
   "execution_count": 51,
   "outputs": [
    {
     "name": "stdout",
     "output_type": "stream",
     "text": [
      "torch.Size([1, 16, 16]) torch.Size([3, 16, 16])\n",
      "tensor([[[-1.0373, -0.9460,  0.4181,  0.6952, -0.1279,  1.5338,  1.3296,\n",
      "           0.6246, -1.5387, -0.4218, -0.1098, -0.4197, -0.6796,  0.6875,\n",
      "          -0.1720,  0.4551],\n",
      "         [-0.0337, -0.3814,  0.2131,  0.0497, -1.0134,  0.4975, -0.6538,\n",
      "          -0.0478,  0.6687,  0.3050, -0.4381, -0.4972, -0.4986, -0.4547,\n",
      "          -0.0052,  0.1793],\n",
      "         [ 0.0740,  2.1812,  2.6347, -0.0856,  0.6954, -0.4891,  1.7219,\n",
      "          -0.6275,  0.2946, -0.7653,  0.0065,  0.5346, -1.3492,  0.1999,\n",
      "          -0.9738, -0.0860],\n",
      "         [-1.6897,  0.7817, -1.5978, -2.2837, -0.1104, -0.5863, -1.1222,\n",
      "           0.7721,  1.0204, -2.2058,  0.1266, -0.4752, -0.0516,  0.3646,\n",
      "           0.3414, -1.2829],\n",
      "         [ 1.0233, -0.0274,  1.7643,  0.0357,  0.1123,  0.5684, -0.9543,\n",
      "          -0.3096,  0.7029, -0.2496,  1.3627,  0.6987, -0.5277, -0.4484,\n",
      "          -0.7010, -1.6616],\n",
      "         [-0.0113,  1.4341, -1.1579, -1.8351, -2.7488, -0.2525, -1.6613,\n",
      "          -0.3905,  0.2384,  0.3630, -1.4005,  1.0870,  0.4604,  0.4244,\n",
      "           0.4221,  0.2292],\n",
      "         [-2.0460,  1.2972,  0.5493, -0.8533, -0.4723,  0.6388, -1.0877,\n",
      "           0.0181, -0.8250,  0.3755,  0.0775,  0.6273,  0.0415,  0.5225,\n",
      "          -1.2333, -0.1059],\n",
      "         [ 0.2740, -1.0835,  2.2996, -0.0659,  2.0842,  1.7939, -0.9507,\n",
      "          -0.4728,  0.5259, -0.1136, -0.2166, -0.3854,  1.3388,  0.4521,\n",
      "           0.5039,  0.0427],\n",
      "         [-1.2182, -0.8058, -0.4096, -0.7453, -1.8354, -1.1081, -1.2833,\n",
      "           0.0561, -0.3859,  0.2766, -0.5932,  0.2771,  0.6189,  0.5985,\n",
      "          -0.2105,  1.3035],\n",
      "         [-1.2496,  0.0294, -0.7874,  0.2237,  0.0744,  0.5296, -0.8117,\n",
      "           0.4285, -0.2068, -1.3217, -0.1829, -0.5669, -1.1786,  0.2846,\n",
      "          -0.9801, -1.2261],\n",
      "         [ 0.8830,  0.8307,  1.3504, -1.0967, -1.9509, -1.2481,  0.4278,\n",
      "           1.3320, -1.0592,  1.2084,  0.2403, -0.6948, -1.3837,  1.7524,\n",
      "           0.0205,  0.7181],\n",
      "         [-1.4622,  0.8385, -0.1339,  1.6043, -0.8663,  0.0370, -1.8423,\n",
      "           0.8401,  2.5930, -0.2127,  0.7062, -0.5241, -1.2889, -0.3421,\n",
      "           0.7464,  1.1018],\n",
      "         [ 0.2801,  0.7172,  1.1917,  0.4925, -1.1263, -0.1156,  0.2070,\n",
      "           0.2422, -0.5251,  0.7515,  0.5084,  0.2140, -0.0577,  0.1921,\n",
      "           0.4863, -0.1971],\n",
      "         [ 0.1665,  0.5095, -1.5161, -0.3830, -0.2579, -0.7015,  1.1054,\n",
      "           0.3473,  0.3465, -0.3791,  0.3447, -1.4263, -0.6669,  0.2951,\n",
      "           0.5759, -0.1779],\n",
      "         [ 0.1923, -1.5473,  0.7865,  1.2322, -0.3258, -0.2226, -0.1978,\n",
      "           1.2136,  1.6920,  0.3957, -0.8945,  1.4712,  0.6546,  0.5040,\n",
      "          -1.0996, -2.1522],\n",
      "         [ 0.4887,  0.9646,  2.0784,  0.3248,  0.9506, -1.2642,  1.9333,\n",
      "           0.7680, -1.2467, -0.1122,  0.1258,  0.0676, -0.3242, -1.5012,\n",
      "           0.0816, -0.4164]]])\n",
      "tensor([[ 1.8294e-01,  5.4759e-01,  2.9748e-01,  6.5593e-01,  1.5831e-01,\n",
      "          4.0140e-01,  5.4789e-01,  7.1221e-01, -5.2692e-01, -4.2151e-01,\n",
      "         -8.9891e-02, -1.1236e-01, -1.6800e-01,  1.3642e-01, -2.8869e-02,\n",
      "          1.2852e-02],\n",
      "        [ 1.2407e+00, -2.4871e-01, -1.0222e+00, -3.4394e-01, -3.5633e-01,\n",
      "         -2.1316e-01, -6.0175e-01,  1.9095e-01,  2.9338e-01,  2.4291e-01,\n",
      "         -4.8686e-01, -2.7928e-01,  9.6101e-02, -3.2561e-01,  2.0857e-01,\n",
      "         -6.2188e-02],\n",
      "        [ 3.2738e-01, -1.5369e-01,  7.7474e-01,  6.6193e-01,  4.1634e-01,\n",
      "         -3.1458e-01,  1.1805e+00, -6.5854e-01, -5.6109e-01,  5.2655e-01,\n",
      "          2.0206e-01,  7.0444e-01, -9.1897e-02, -2.9151e-01, -8.0842e-01,\n",
      "         -2.6899e-02],\n",
      "        [-2.1711e-01, -1.2915e-01, -8.5187e-01, -8.2319e-01, -8.3635e-01,\n",
      "         -6.8821e-01, -5.3079e-01,  2.0118e-01,  5.9081e-01,  4.7458e-02,\n",
      "         -3.0742e-01, -3.8158e-01,  4.3156e-01, -3.5478e-01,  4.7723e-01,\n",
      "          1.3361e-01],\n",
      "        [ 6.5928e-01, -1.1728e+00,  3.5647e-01,  2.5737e-01, -7.2430e-02,\n",
      "          4.6539e-02,  3.8433e-01, -4.2299e-01, -9.6739e-03,  4.2559e-01,\n",
      "          6.9325e-01,  4.5041e-01,  1.0680e-01, -2.8939e-01, -8.3229e-02,\n",
      "         -2.1450e-01],\n",
      "        [ 2.4788e-01,  2.6766e-01, -8.6345e-01,  6.9468e-01, -3.0402e-01,\n",
      "         -4.0867e-02,  6.1696e-02, -2.5343e-01,  4.1770e-02,  5.2944e-01,\n",
      "         -6.2990e-01,  3.7386e-01,  3.5424e-01,  1.5250e-01,  6.5402e-01,\n",
      "          5.0786e-01],\n",
      "        [-4.5118e-01,  2.4612e-01,  5.7604e-01,  7.2824e-01, -5.4181e-01,\n",
      "         -1.0400e+00,  6.6974e-02,  8.1323e-03, -3.8817e-01, -2.4338e-02,\n",
      "          5.9495e-01,  2.8438e-01,  7.3938e-02,  2.6085e-01, -1.1702e-01,\n",
      "          9.2822e-02],\n",
      "        [ 6.4830e-01, -1.1284e+00,  2.8140e-01, -7.5593e-02,  3.0909e-01,\n",
      "          4.6280e-01,  5.3639e-01, -2.2577e-01,  1.5632e-01, -3.7636e-01,\n",
      "          2.2651e-01, -2.5680e-01,  1.7277e-01,  5.6424e-02,  5.1571e-01,\n",
      "         -5.0305e-01],\n",
      "        [ 8.9471e-02,  2.8380e-01, -3.8444e-01,  1.5986e-02, -1.4889e+00,\n",
      "         -6.8192e-01,  4.0535e-01, -3.0952e-01, -2.8116e-01,  4.4490e-01,\n",
      "         -1.6771e-01, -1.7777e-01, -1.0281e-01, -6.3295e-02,  1.5301e-01,\n",
      "          7.3528e-01],\n",
      "        [ 2.3929e-01, -1.5901e-01, -6.8328e-01, -5.0172e-02,  7.5818e-01,\n",
      "          6.9364e-01, -1.9211e-01, -4.0135e-02,  9.5333e-01, -2.9819e-01,\n",
      "         -4.1865e-01,  5.1024e-02, -9.1538e-02, -2.2426e-01,  2.6265e-01,\n",
      "         -4.7019e-01],\n",
      "        [ 1.0523e+00,  4.3931e-01,  8.4556e-01, -6.1065e-01, -6.3313e-01,\n",
      "         -4.7970e-01,  1.2573e+00,  6.0932e-01, -3.9224e-01,  5.3731e-01,\n",
      "         -3.0755e-01,  1.8668e-01,  1.8489e-01,  8.5658e-01,  4.6202e-01,\n",
      "          1.6063e-01],\n",
      "        [-1.0914e-01,  2.2736e-01, -8.2536e-01,  3.8568e-01,  1.9883e-01,\n",
      "          4.4773e-01, -5.1535e-01,  1.6999e-02,  1.3858e+00, -2.8798e-01,\n",
      "         -6.4377e-04,  6.3279e-02, -7.1820e-02, -5.0008e-01,  2.1753e-01,\n",
      "          2.5858e-01],\n",
      "        [-5.2901e-02, -6.5062e-01,  5.2185e-01,  9.1650e-02,  4.7922e-01,\n",
      "          2.9097e-01,  4.0212e-01, -7.6833e-02, -1.7490e-01,  3.6847e-01,\n",
      "         -2.7245e-01,  7.6601e-01,  9.6287e-01, -1.8720e-02, -5.3838e-01,\n",
      "         -4.2279e-01],\n",
      "        [-1.2517e-01,  1.2189e+00, -5.6916e-02,  1.0043e-02,  3.1844e-01,\n",
      "          2.2750e-01,  1.0231e+00,  3.8429e-01, -2.5715e-01, -4.4603e-01,\n",
      "          7.2746e-01, -1.8265e-01, -6.3067e-01, -9.6770e-01, -2.0379e-01,\n",
      "          5.6610e-01],\n",
      "        [ 7.5248e-01, -2.7769e-02,  2.6796e-01,  5.9249e-02,  1.1111e-01,\n",
      "          8.9337e-01, -7.6759e-01, -1.7901e-01,  6.0280e-01,  5.8881e-01,\n",
      "         -2.9920e-01,  3.0070e-01, -5.8651e-02,  1.9153e-01, -1.0493e-01,\n",
      "         -2.5708e-01],\n",
      "        [ 2.9282e-01,  4.5614e-01,  2.1148e-01, -1.0462e-01,  7.4412e-01,\n",
      "         -2.4179e-01,  2.3972e-01,  4.3796e-02, -3.8591e-01,  1.3911e-01,\n",
      "          2.1593e-01, -4.3161e-01,  1.2716e-01, -2.8312e-01,  4.4671e-01,\n",
      "          3.0235e-01]], grad_fn=<SelectBackward0>)\n"
     ]
    }
   ],
   "source": [
    "print(x_in[0].shape, x_out[0].shape)\n",
    "print(x_in[0])\n",
    "print(x_out[0][1])"
   ],
   "metadata": {
    "collapsed": false,
    "pycharm": {
     "name": "#%%\n"
    }
   }
  },
  {
   "cell_type": "code",
   "execution_count": 74,
   "outputs": [
    {
     "ename": "RuntimeError",
     "evalue": "Given groups=1, weight of size [3, 1, 16, 16], expected input[1, 3, 32, 113] to have 1 channels, but got 3 channels instead",
     "output_type": "error",
     "traceback": [
      "\u001B[1;31m---------------------------------------------------------------------------\u001B[0m",
      "\u001B[1;31mRuntimeError\u001B[0m                              Traceback (most recent call last)",
      "Input \u001B[1;32mIn [74]\u001B[0m, in \u001B[0;36m<cell line: 10>\u001B[1;34m()\u001B[0m\n\u001B[0;32m      7\u001B[0m patch_embed \u001B[38;5;241m=\u001B[39m nn\u001B[38;5;241m.\u001B[39mConv2d(\u001B[38;5;241m1\u001B[39m, \u001B[38;5;241m3\u001B[39m, padding\u001B[38;5;241m=\u001B[39m\u001B[38;5;241m1\u001B[39m, kernel_size\u001B[38;5;241m=\u001B[39m(\u001B[38;5;241m16\u001B[39m), stride\u001B[38;5;241m=\u001B[39m(\u001B[38;5;241m16\u001B[39m))\n\u001B[0;32m      9\u001B[0m \u001B[38;5;66;03m# Check if layer is valid for given input shape\u001B[39;00m\n\u001B[1;32m---> 10\u001B[0m x_out \u001B[38;5;241m=\u001B[39m \u001B[43mpatch_embed\u001B[49m\u001B[43m(\u001B[49m\u001B[43mx_in\u001B[49m\u001B[43m)\u001B[49m\n\u001B[0;32m     11\u001B[0m patch \u001B[38;5;241m=\u001B[39m patch\u001B[38;5;241m.\u001B[39mflatten(\u001B[38;5;241m2\u001B[39m)\n\u001B[0;32m     12\u001B[0m patch \u001B[38;5;241m=\u001B[39m patch\u001B[38;5;241m.\u001B[39mtranspose(\u001B[38;5;241m-\u001B[39m\u001B[38;5;241m1\u001B[39m, \u001B[38;5;241m-\u001B[39m\u001B[38;5;241m2\u001B[39m)\n",
      "File \u001B[1;32mD:\\Work\\School\\Research Project\\MLPMixer\\lib\\site-packages\\torch\\nn\\modules\\module.py:1110\u001B[0m, in \u001B[0;36mModule._call_impl\u001B[1;34m(self, *input, **kwargs)\u001B[0m\n\u001B[0;32m   1106\u001B[0m \u001B[38;5;66;03m# If we don't have any hooks, we want to skip the rest of the logic in\u001B[39;00m\n\u001B[0;32m   1107\u001B[0m \u001B[38;5;66;03m# this function, and just call forward.\u001B[39;00m\n\u001B[0;32m   1108\u001B[0m \u001B[38;5;28;01mif\u001B[39;00m \u001B[38;5;129;01mnot\u001B[39;00m (\u001B[38;5;28mself\u001B[39m\u001B[38;5;241m.\u001B[39m_backward_hooks \u001B[38;5;129;01mor\u001B[39;00m \u001B[38;5;28mself\u001B[39m\u001B[38;5;241m.\u001B[39m_forward_hooks \u001B[38;5;129;01mor\u001B[39;00m \u001B[38;5;28mself\u001B[39m\u001B[38;5;241m.\u001B[39m_forward_pre_hooks \u001B[38;5;129;01mor\u001B[39;00m _global_backward_hooks\n\u001B[0;32m   1109\u001B[0m         \u001B[38;5;129;01mor\u001B[39;00m _global_forward_hooks \u001B[38;5;129;01mor\u001B[39;00m _global_forward_pre_hooks):\n\u001B[1;32m-> 1110\u001B[0m     \u001B[38;5;28;01mreturn\u001B[39;00m forward_call(\u001B[38;5;241m*\u001B[39m\u001B[38;5;28minput\u001B[39m, \u001B[38;5;241m*\u001B[39m\u001B[38;5;241m*\u001B[39mkwargs)\n\u001B[0;32m   1111\u001B[0m \u001B[38;5;66;03m# Do not call functions when jit is used\u001B[39;00m\n\u001B[0;32m   1112\u001B[0m full_backward_hooks, non_full_backward_hooks \u001B[38;5;241m=\u001B[39m [], []\n",
      "File \u001B[1;32mD:\\Work\\School\\Research Project\\MLPMixer\\lib\\site-packages\\torch\\nn\\modules\\conv.py:447\u001B[0m, in \u001B[0;36mConv2d.forward\u001B[1;34m(self, input)\u001B[0m\n\u001B[0;32m    446\u001B[0m \u001B[38;5;28;01mdef\u001B[39;00m \u001B[38;5;21mforward\u001B[39m(\u001B[38;5;28mself\u001B[39m, \u001B[38;5;28minput\u001B[39m: Tensor) \u001B[38;5;241m-\u001B[39m\u001B[38;5;241m>\u001B[39m Tensor:\n\u001B[1;32m--> 447\u001B[0m     \u001B[38;5;28;01mreturn\u001B[39;00m \u001B[38;5;28;43mself\u001B[39;49m\u001B[38;5;241;43m.\u001B[39;49m\u001B[43m_conv_forward\u001B[49m\u001B[43m(\u001B[49m\u001B[38;5;28;43minput\u001B[39;49m\u001B[43m,\u001B[49m\u001B[43m \u001B[49m\u001B[38;5;28;43mself\u001B[39;49m\u001B[38;5;241;43m.\u001B[39;49m\u001B[43mweight\u001B[49m\u001B[43m,\u001B[49m\u001B[43m \u001B[49m\u001B[38;5;28;43mself\u001B[39;49m\u001B[38;5;241;43m.\u001B[39;49m\u001B[43mbias\u001B[49m\u001B[43m)\u001B[49m\n",
      "File \u001B[1;32mD:\\Work\\School\\Research Project\\MLPMixer\\lib\\site-packages\\torch\\nn\\modules\\conv.py:443\u001B[0m, in \u001B[0;36mConv2d._conv_forward\u001B[1;34m(self, input, weight, bias)\u001B[0m\n\u001B[0;32m    439\u001B[0m \u001B[38;5;28;01mif\u001B[39;00m \u001B[38;5;28mself\u001B[39m\u001B[38;5;241m.\u001B[39mpadding_mode \u001B[38;5;241m!=\u001B[39m \u001B[38;5;124m'\u001B[39m\u001B[38;5;124mzeros\u001B[39m\u001B[38;5;124m'\u001B[39m:\n\u001B[0;32m    440\u001B[0m     \u001B[38;5;28;01mreturn\u001B[39;00m F\u001B[38;5;241m.\u001B[39mconv2d(F\u001B[38;5;241m.\u001B[39mpad(\u001B[38;5;28minput\u001B[39m, \u001B[38;5;28mself\u001B[39m\u001B[38;5;241m.\u001B[39m_reversed_padding_repeated_twice, mode\u001B[38;5;241m=\u001B[39m\u001B[38;5;28mself\u001B[39m\u001B[38;5;241m.\u001B[39mpadding_mode),\n\u001B[0;32m    441\u001B[0m                     weight, bias, \u001B[38;5;28mself\u001B[39m\u001B[38;5;241m.\u001B[39mstride,\n\u001B[0;32m    442\u001B[0m                     _pair(\u001B[38;5;241m0\u001B[39m), \u001B[38;5;28mself\u001B[39m\u001B[38;5;241m.\u001B[39mdilation, \u001B[38;5;28mself\u001B[39m\u001B[38;5;241m.\u001B[39mgroups)\n\u001B[1;32m--> 443\u001B[0m \u001B[38;5;28;01mreturn\u001B[39;00m \u001B[43mF\u001B[49m\u001B[38;5;241;43m.\u001B[39;49m\u001B[43mconv2d\u001B[49m\u001B[43m(\u001B[49m\u001B[38;5;28;43minput\u001B[39;49m\u001B[43m,\u001B[49m\u001B[43m \u001B[49m\u001B[43mweight\u001B[49m\u001B[43m,\u001B[49m\u001B[43m \u001B[49m\u001B[43mbias\u001B[49m\u001B[43m,\u001B[49m\u001B[43m \u001B[49m\u001B[38;5;28;43mself\u001B[39;49m\u001B[38;5;241;43m.\u001B[39;49m\u001B[43mstride\u001B[49m\u001B[43m,\u001B[49m\n\u001B[0;32m    444\u001B[0m \u001B[43m                \u001B[49m\u001B[38;5;28;43mself\u001B[39;49m\u001B[38;5;241;43m.\u001B[39;49m\u001B[43mpadding\u001B[49m\u001B[43m,\u001B[49m\u001B[43m \u001B[49m\u001B[38;5;28;43mself\u001B[39;49m\u001B[38;5;241;43m.\u001B[39;49m\u001B[43mdilation\u001B[49m\u001B[43m,\u001B[49m\u001B[43m \u001B[49m\u001B[38;5;28;43mself\u001B[39;49m\u001B[38;5;241;43m.\u001B[39;49m\u001B[43mgroups\u001B[49m\u001B[43m)\u001B[49m\n",
      "\u001B[1;31mRuntimeError\u001B[0m: Given groups=1, weight of size [3, 1, 16, 16], expected input[1, 3, 32, 113] to have 1 channels, but got 3 channels instead"
     ]
    }
   ],
   "source": [
    "#splits images into patches\n",
    "import einops\n",
    "from torch import nn\n",
    "x_in = torch.tensor(np.random.randn(3, 32, 113), dtype=torch.float)\n",
    "transpose = False\n",
    "\n",
    "patch_embed = nn.Conv2d(1, 3, padding=1, kernel_size=(16), stride=(16))\n",
    "\n",
    "# Check if layer is valid for given input shape\n",
    "x_out = patch_embed(x_in)\n",
    "patch = patch.flatten(2)\n",
    "patch = patch.transpose(-1, -2)\n",
    "\n",
    "print(x_in.shape, x_out.shape, patch.shape)"
   ],
   "metadata": {
    "collapsed": false,
    "pycharm": {
     "name": "#%%\n"
    }
   }
  },
  {
   "cell_type": "code",
   "execution_count": 67,
   "outputs": [
    {
     "data": {
      "text/plain": "14"
     },
     "execution_count": 67,
     "metadata": {},
     "output_type": "execute_result"
    }
   ],
   "source": [
    "x = (113 * 32) // (16 ** 2)\n",
    "x"
   ],
   "metadata": {
    "collapsed": false,
    "pycharm": {
     "name": "#%%\n"
    }
   }
  },
  {
   "cell_type": "code",
   "execution_count": 211,
   "outputs": [
    {
     "name": "stdout",
     "output_type": "stream",
     "text": [
      "['test_acc', 'train_acc', 'test_loss', 'train_loss', 'test_f1', 'val_loss', 'val_acc', 'val_f1']\n"
     ]
    }
   ],
   "source": [
    "import _pickle as pickle\n",
    "\n",
    "dict = {}\n",
    "with open(r\"../weights/history.txt\", \"rb\") as input_file:\n",
    "   e = pickle.load(input_file)\n",
    "   print(list(e[0].keys()))\n",
    "   dict = e[0]"
   ],
   "metadata": {
    "collapsed": false,
    "pycharm": {
     "name": "#%%\n"
    }
   }
  },
  {
   "cell_type": "code",
   "execution_count": 215,
   "outputs": [
    {
     "name": "stdout",
     "output_type": "stream",
     "text": [
      "400\n",
      "399\n"
     ]
    }
   ],
   "source": [
    "print(len(dict['train_loss']))\n",
    "print(len(range(1, 400)))"
   ],
   "metadata": {
    "collapsed": false,
    "pycharm": {
     "name": "#%%\n"
    }
   }
  },
  {
   "cell_type": "code",
   "execution_count": 216,
   "outputs": [
    {
     "data": {
      "text/plain": "<Figure size 432x288 with 1 Axes>",
      "image/png": "[encoded data removed]"
     },
     "metadata": {
      "needs_background": "light"
     },
     "output_type": "display_data"
    }
   ],
   "source": [
    "epochs = range(0,400)\n",
    "plt.plot(epochs, dict['train_loss'], 'g', label='Training loss')\n",
    "plt.plot(epochs, dict['val_loss'], 'b', label='validation loss')\n",
    "plt.title('Training and Validation loss')\n",
    "plt.xlabel('Epochs')\n",
    "plt.ylabel('Loss')\n",
    "plt.legend()\n",
    "plt.show()"
   ],
   "metadata": {
    "collapsed": false,
    "pycharm": {
     "name": "#%%\n"
    }
   }
  },
  {
   "cell_type": "code",
   "execution_count": 217,
   "outputs": [
    {
     "data": {
      "text/plain": "<Figure size 432x288 with 1 Axes>",
      "image/png": "[encoded data removed]"
     },
     "metadata": {
      "needs_background": "light"
     },
     "output_type": "display_data"
    }
   ],
   "source": [
    "epochs = range(0,400)\n",
    "plt.plot(epochs, dict['train_acc'], 'g', label='Training accuracy')\n",
    "plt.plot(epochs, dict['val_acc'], 'b', label='validation accuracy')\n",
    "plt.title('Training and Validation accuracy')\n",
    "plt.xlabel('Epochs')\n",
    "plt.ylabel('Accuracy')\n",
    "plt.legend()\n",
    "plt.show()"
   ],
   "metadata": {
    "collapsed": false,
    "pycharm": {
     "name": "#%%\n"
    }
   }
  },
  {
   "cell_type": "code",
   "execution_count": 218,
   "outputs": [
    {
     "data": {
      "text/plain": "<Figure size 432x288 with 1 Axes>",
      "image/png": "[encoded data removed]"
     },
     "metadata": {
      "needs_background": "light"
     },
     "output_type": "display_data"
    }
   ],
   "source": [
    "epochs = range(0,400)\n",
    "plt.plot(epochs, dict['test_f1'], 'g', label='Testing f1 score')\n",
    "plt.plot(epochs, dict['val_f1'], 'b', label='Validation f1 score')\n",
    "plt.title('Training and Validation f1 score')\n",
    "plt.xlabel('Epochs')\n",
    "plt.ylabel('f1 score')\n",
    "plt.legend()\n",
    "plt.show()"
   ],
   "metadata": {
    "collapsed": false,
    "pycharm": {
     "name": "#%%\n"
    }
   }
  },
  {
   "cell_type": "code",
   "execution_count": 219,
   "outputs": [
    {
     "ename": "NameError",
     "evalue": "name 'u' is not defined",
     "output_type": "error",
     "traceback": [
      "\u001B[1;31m---------------------------------------------------------------------------\u001B[0m",
      "\u001B[1;31mNameError\u001B[0m                                 Traceback (most recent call last)",
      "Input \u001B[1;32mIn [219]\u001B[0m, in \u001B[0;36m<cell line: 1>\u001B[1;34m()\u001B[0m\n\u001B[1;32m----> 1\u001B[0m \u001B[43mu\u001B[49m[\u001B[38;5;124m'\u001B[39m\u001B[38;5;124mtree\u001B[39m\u001B[38;5;124m'\u001B[39m] \u001B[38;5;241m=\u001B[39m \u001B[38;5;241m4\u001B[39m\n",
      "\u001B[1;31mNameError\u001B[0m: name 'u' is not defined"
     ]
    }
   ],
   "source": [
    "u['tree'] = 4"
   ],
   "metadata": {
    "collapsed": false,
    "pycharm": {
     "name": "#%%\n"
    }
   }
  },
  {
   "cell_type": "code",
   "execution_count": 16,
   "outputs": [
    {
     "name": "stdout",
     "output_type": "stream",
     "text": [
      "[[    0     1     2     3     4     5     6     7     8     9    10    11]\n",
      " [23340 23041 24356 25721 22825 20486 26686 13291 11272 21078 37744   256]]\n",
      "[[    0     1     2     3     4     5     6     7     8     9    10    11]\n",
      " [23340 23041 24356 25721 22825 20486 26686 13291 11272 21078 37744   256]]\n"
     ]
    }
   ],
   "source": [
    "import numpy as np\n",
    "import torch\n",
    "import torchvision.transforms as transforms\n",
    "\n",
    "def get_dataset_info(dataset):\n",
    "    if dataset == 'opportunity':\n",
    "        from data import opportunity\n",
    "        dataset = opportunity.OpportunityDataset\n",
    "        val_id = [[0,1]]\n",
    "        test_id = [[1,3],[1,4],[2,3],[2,4]]\n",
    "        train_id = [[0,0],[0,1],[0,2],[0,3],[0,4],[0,5],\n",
    "                    [1,0],[1,1],[1,2],[1,5],\n",
    "                    [2,0],[2,1],[1,2],[2,5],\n",
    "                    [3,0],[3,1],[3,2],[3,3],[3,4],[3,5]]\n",
    "        kwargs = {'locomotion': True}\n",
    "        if kwargs['locomotion'] == True:\n",
    "            num_classes = 5\n",
    "        else:\n",
    "            num_classes = 18\n",
    "\n",
    "    elif dataset == 'pamap2':\n",
    "        from data import pamap2\n",
    "        dataset = pamap2.PAMAP2Dataset\n",
    "        val_id = [4]\n",
    "        test_id = [5]\n",
    "        train_id = [0, 1, 2, 3, 6, 7]\n",
    "        num_classes = 13\n",
    "        kwargs = {}\n",
    "\n",
    "    elif dataset == 'daphnet':\n",
    "        from data import daphnet\n",
    "        dataset = daphnet.DaphNetDataset\n",
    "        val_id = [8]\n",
    "        test_id = [1]\n",
    "        train_id = [0, 2, 3, 4, 5, 6, 7, 9]\n",
    "        num_classes = 2\n",
    "        kwargs = {}\n",
    "\n",
    "    return {'dataset' : dataset, 'train' : train_id, 'test' : test_id, 'validation' : val_id, 'kwargs': kwargs, 'num_classes': num_classes}\n",
    "\n",
    "def data_transforms_float(x):\n",
    "\treturn torch.from_numpy(x).type(torch.FloatTensor)\n",
    "\n",
    "def data_transforms_long(x):\n",
    "\treturn torch.from_numpy(x).type(torch.LongTensor)\n",
    "\n",
    "dataset_info = get_dataset_info('pamap2')\n",
    "input_transform = transforms.Compose([\n",
    "    transforms.Lambda(data_transforms_float)\n",
    "])\n",
    "target_transform = transforms.Compose([\n",
    "    transforms.Lambda(data_transforms_long)\n",
    "])\n",
    "\n",
    "downsample = 3\n",
    "pretraining = False\n",
    "window_size = 84\n",
    "sliding_window = True\n",
    "step = 3\n",
    "\n",
    "test = dataset_info['dataset'](fileIndex=dataset_info['test'], transform=input_transform, target_transform=target_transform, pretraining=pretraining, **dataset_info['kwargs'])\n",
    "test.generate_data(window_size=window_size, step_size=step, downsample=downsample, slide_window=sliding_window)\n",
    "id2label = test.id2label\n",
    "label2id = test.label2id\n",
    "\n",
    "num_classes = dataset_info['num_classes']"
   ],
   "metadata": {
    "collapsed": false,
    "pycharm": {
     "name": "#%%\n"
    }
   }
  },
  {
   "cell_type": "code",
   "execution_count": 65,
   "outputs": [
    {
     "name": "stdout",
     "output_type": "stream",
     "text": [
      "[[    0     1     2     3     4]\n",
      " [ 8117 12286  9215  8088  1852]]\n",
      "['Other', 'Stand', 'Walk', 'Sit', 'Lie']\n",
      "{0: 0, 1: 1, 2: 2, 4: 3, 5: 4}\n",
      "5\n"
     ]
    }
   ],
   "source": [
    "count = np.array(np.unique(test.data['targets'], return_counts=True))\n",
    "print(count)\n",
    "print(id2label)\n",
    "print(label2id)\n",
    "print(num_classes)"
   ],
   "metadata": {
    "collapsed": false,
    "pycharm": {
     "name": "#%%\n"
    }
   }
  },
  {
   "cell_type": "code",
   "execution_count": 40,
   "outputs": [
    {
     "name": "stdout",
     "output_type": "stream",
     "text": [
      "[13133  1928]\n"
     ]
    }
   ],
   "source": [
    "class_sample_count = np.array(np.unique(test.data['targets'], return_counts=True))[1]\n",
    "print(class_sample_count)"
   ],
   "metadata": {
    "collapsed": false,
    "pycharm": {
     "name": "#%%\n"
    }
   }
  },
  {
   "cell_type": "code",
   "execution_count": 6,
   "outputs": [
    {
     "name": "stdout",
     "output_type": "stream",
     "text": [
      "618\n"
     ]
    }
   ],
   "source": [
    "from torch.utils.data import WeightedRandomSampler, DataLoader\n",
    "\n",
    "class_sample_count = np.array(np.unique(test.data['targets'], return_counts=True))[1]\n",
    "weight = 1. / class_sample_count\n",
    "samples_weight = np.array([weight[t] for t in test.data['targets']])\n",
    "samples_weight = torch.from_numpy(samples_weight)\n",
    "\n",
    "sampler = WeightedRandomSampler(samples_weight.type('torch.DoubleTensor'), len(samples_weight))\n",
    "loader = DataLoader(dataset=test,\n",
    "                    batch_size=64,\n",
    "                    sampler=sampler,\n",
    "                    num_workers=0,\n",
    "                    drop_last=True,\n",
    "                    pin_memory=True)\n",
    "\n",
    "print(len(loader))"
   ],
   "metadata": {
    "collapsed": false,
    "pycharm": {
     "name": "#%%\n"
    }
   }
  },
  {
   "cell_type": "code",
   "execution_count": 64,
   "outputs": [
    {
     "name": "stdout",
     "output_type": "stream",
     "text": [
      "torch.Size([64, 113, 113]) torch.Size([64, 1, 1])\n",
      "tensor([17,  4, 16, 14,  8, 17,  7, 16,  6, 12,  4,  2,  0,  2,  5,  3, 15,  6,\n",
      "         0,  1,  9, 17, 14,  8, 17,  0, 13, 12,  0,  0, 13, 11,  3, 17,  1,  8,\n",
      "         8,  8,  5, 14,  9,  1, 17, 12, 11, 10,  5,  9,  4, 13, 14,  0, 14,  1,\n",
      "         3, 12, 15, 17,  3,  5,  4, 13,  4,  1])\n",
      "[[ 0  1  2  3  4  5  6  7  8  9 10 11 12 13 14 15 16 17]\n",
      " [ 6  5  2  4  5  4  2  1  5  3  1  2  4  4  5  2  2  7]]\n"
     ]
    }
   ],
   "source": [
    "random_sample = next(iter(loader))\n",
    "print(random_sample[0].shape, random_sample[1].shape)\n",
    "print(random_sample[1].flatten())\n",
    "count = np.array(np.unique(random_sample[1].flatten(), return_counts=True))\n",
    "print(count)"
   ],
   "metadata": {
    "collapsed": false,
    "pycharm": {
     "name": "#%%\n"
    }
   }
  },
  {
   "cell_type": "code",
   "execution_count": 45,
   "outputs": [
    {
     "name": "stdout",
     "output_type": "stream",
     "text": [
      "(39546, 113, 113)\n"
     ]
    }
   ],
   "source": [
    "print(test.data['inputs'].shape)"
   ],
   "metadata": {
    "collapsed": false,
    "pycharm": {
     "name": "#%%\n"
    }
   }
  },
  {
   "cell_type": "code",
   "execution_count": 3,
   "outputs": [
    {
     "name": "stdout",
     "output_type": "stream",
     "text": [
      "[0 0 0 0 0 0 0 0 0 0 0 0 0 0 0 0 0 0 0 0 0 0 0 0 0 0 0 0 0 0 0 0 0 0 0 0 0\n",
      " 0 0 0 0 0 0 0 0 0 0 0 0 0 0 0 0 0 0 0 0 0 0 0 0 0 0 0 0 0 0 0 0 0 0 0 0 0\n",
      " 0 0 0 0 0 0 0 0 0 0 0 0 0 0 0 0 0 0 0 0 0 0 0 0 0 0]\n"
     ]
    }
   ],
   "source": [
    "print(test.data['targets'][0:100])"
   ],
   "metadata": {
    "collapsed": false,
    "pycharm": {
     "name": "#%%\n"
    }
   }
  },
  {
   "cell_type": "code",
   "execution_count": null,
   "outputs": [],
   "source": [
    "random_sample = next(iter(training_loader))"
   ],
   "metadata": {
    "collapsed": false,
    "pycharm": {
     "name": "#%%\n"
    }
   }
  },
  {
   "cell_type": "code",
   "execution_count": 11,
   "outputs": [],
   "source": [
    "from models import MLPMixer, train\n",
    "import torch\n",
    "\n",
    "# model = MLPMixer.MlpMixer(image_height=113, image_width=window_size,\n",
    "#                           patch_size=16, token_dim=128, channel_dim=1024,\n",
    "#                           patch_dim=256, num_classes=train.num_classes(),\n",
    "#                           num_blocks=12)\n",
    "\n",
    "\n",
    "if pretraining:\n",
    "    model = MLPMixer.MlpMixer(image_height=224, image_width=224,\n",
    "                          patch_size=16, token_dim=384, channel_dim=3072,\n",
    "                          patch_dim=768, num_classes=num_classes,\n",
    "                          num_blocks=12)\n",
    "else:\n",
    "    model = MLPMixer.MlpMixer(image_height=40, image_width=84,\n",
    "                          patch_size=4, token_dim=256, channel_dim=2048,\n",
    "                          patch_dim=512, num_classes=num_classes,\n",
    "                          num_blocks=10)\n",
    "\n",
    "model = model.cuda()"
   ],
   "metadata": {
    "collapsed": false,
    "pycharm": {
     "name": "#%%\n"
    }
   }
  },
  {
   "cell_type": "code",
   "execution_count": 41,
   "outputs": [],
   "source": [
    "from tqdm import tqdm\n",
    "import itertools\n",
    "import torch\n",
    "import os\n",
    "import numpy as np\n",
    "import torch.nn as nn\n",
    "import matplotlib.pyplot as plt\n",
    "from sklearn.metrics import f1_score, confusion_matrix\n",
    "\n",
    "class AverageMeter(object):\n",
    "    \"\"\"Computes and stores the average and current value\"\"\"\n",
    "    def __init__(self):\n",
    "        self.reset()\n",
    "\n",
    "    def reset(self):\n",
    "        self.val = 0\n",
    "        self.avg = 0\n",
    "        self.sum = 0\n",
    "        self.count = 0\n",
    "\n",
    "    def update(self, val, n=1):\n",
    "        self.val = val\n",
    "        self.sum += val * n\n",
    "        self.count += n\n",
    "        self.avg = self.sum / self.count\n",
    "\n",
    "def validate_batch(model, device, batch, validate_loss, eval_losses, all_preds, all_label):\n",
    "    batch = tuple(t.to(device) for t in batch)\n",
    "    x, y = batch\n",
    "    with torch.no_grad():\n",
    "        starter, ender = torch.cuda.Event(enable_timing=True),   torch.cuda.Event(enable_timing=True)\n",
    "        starter.record()\n",
    "        logits = model(x)\n",
    "        ender.record()\n",
    "        torch.cuda.synchronize()\n",
    "        curr_time = starter.elapsed_time(ender)/1000\n",
    "\n",
    "        eval_loss = validate_loss(logits, y.flatten())\n",
    "        eval_losses.update(eval_loss.item())\n",
    "\n",
    "        preds = torch.argmax(logits, dim=-1)\n",
    "\n",
    "    if len(all_preds) == 0:\n",
    "        all_preds.append(preds.cpu().numpy().reshape(-1))\n",
    "        all_label.append(y.data.cpu().numpy().reshape(-1))\n",
    "    else:\n",
    "        all_preds[0] = np.append(\n",
    "            all_preds[0], preds.cpu().numpy().reshape(-1)\n",
    "        )\n",
    "        all_label[0] = np.append(\n",
    "            all_label[0], y.data.cpu().numpy().reshape(-1)\n",
    "        )\n",
    "\n",
    "    return curr_time\n",
    "\n",
    "def simple_accuracy(preds, labels):\n",
    "    return torch.mean(torch.eq(preds, labels).float(), dtype=torch.float)\n",
    "\n",
    "def plot_confusion_matrix(cm, classes,\n",
    "                          normalize=False,\n",
    "                          title='Confusion matrix',\n",
    "                          cmap=plt.cm.Blues):\n",
    "    if normalize:\n",
    "        cm = cm.astype('float') / cm.sum(axis=1)[:, np.newaxis]\n",
    "        print(\"Normalized confusion matrix\")\n",
    "    else:\n",
    "        print('Confusion matrix, without normalization')\n",
    "\n",
    "    print(cm)\n",
    "\n",
    "    # Calculate chart area size\n",
    "    leftmargin = 0.5 # inches\n",
    "    rightmargin = 0.5 # inches\n",
    "    categorysize = 0.5 # inches\n",
    "    figwidth = leftmargin + rightmargin + (len(classes) * categorysize)\n",
    "\n",
    "    f = plt.figure(figsize=(figwidth, figwidth))\n",
    "\n",
    "    # Create an axes instance and ajust the subplot size\n",
    "    ax = f.add_subplot(111)\n",
    "    ax.set_aspect(1)\n",
    "    f.subplots_adjust(left=leftmargin/figwidth, right=1-rightmargin/figwidth, top=0.94, bottom=0.1)\n",
    "\n",
    "    res = ax.imshow(cm, interpolation='nearest', cmap=cmap)\n",
    "\n",
    "    plt.imshow(cm, interpolation='nearest', cmap=cmap)\n",
    "    plt.title(title)\n",
    "    plt.colorbar()\n",
    "    ax.set_xticks(range(len(classes)))\n",
    "    ax.set_yticks(range(len(classes)))\n",
    "    ax.set_xticklabels(classes, rotation=90, ha='right')\n",
    "    ax.set_yticklabels(classes)\n",
    "\n",
    "    fmt = '.2f' if normalize else 'd'\n",
    "    thresh = cm.max() / 2.\n",
    "    for i, j in itertools.product(range(cm.shape[0]), range(cm.shape[1])):\n",
    "        plt.text(j, i, format(cm[i, j], fmt),\n",
    "                 horizontalalignment=\"center\",\n",
    "                 color=\"white\" if cm[i, j] > thresh else \"black\")\n",
    "    plt.tight_layout()\n",
    "    np.set_printoptions(precision=3)\n",
    "\n",
    "    plt.xlabel('Predicted')\n",
    "    plt.ylabel('Actual')\n",
    "\n",
    "    plt.figure(figsize=(8.0, 5.0)) # in inches!\n",
    "    plt.savefig('confusion_matrix.png', bbox_inches='tight')\n",
    "\n",
    "def validate(test, model):\n",
    "    test_loader = test\n",
    "    process = \"Test\"\n",
    "    current_process = \"Testing\"\n",
    "\n",
    "    #create the evaluation loss class\n",
    "    eval_losses = AverageMeter()\n",
    "\n",
    "    #start evaluating the model on the repsective dataset loader\n",
    "    model.eval()\n",
    "    all_preds, all_label = [], []\n",
    "    epoch_iterator = tqdm(test_loader,\n",
    "                              desc=f\"{current_process}... (loss=X.X)\",\n",
    "                              bar_format=\"{l_bar}{r_bar}\",\n",
    "                              dynamic_ncols=True)\n",
    "\n",
    "    validate_loss = nn.CrossEntropyLoss()\n",
    "    device = torch.device(\"cuda\" if torch.cuda.is_available() else \"cpu\")\n",
    "    total_time = 0\n",
    "    repetitions = 0\n",
    "    for step, batch in enumerate(epoch_iterator):\n",
    "        repetitions += 1\n",
    "        total_time += validate_batch(model, device, batch, validate_loss, eval_losses, all_preds, all_label)\n",
    "        epoch_iterator.set_description(f\"{current_process}... (loss=%2.5f)\" % eval_losses.val)\n",
    "\n",
    "    throughput = (repetitions*64)/total_time\n",
    "\n",
    "    all_preds, all_label = all_preds[0], all_label[0]\n",
    "    microf1 = f1_score(all_label, all_preds.flatten(), average='micro')\n",
    "    macrof1 = f1_score(all_label, all_preds.flatten(), average='macro')\n",
    "    weightedf1 = f1_score(all_label, all_preds.flatten(), average='weighted')\n",
    "    accuracy = simple_accuracy(torch.from_numpy(all_preds), torch.from_numpy(all_label).flatten())\n",
    "\n",
    "    cm = confusion_matrix(all_label, all_preds)\n",
    "    plot_confusion_matrix(cm, classes=id2label, normalize=True)\n",
    "\n",
    "    print(\"Throughput: \", throughput, \"accuracy: \", accuracy, \" micro_f1: \", microf1, \" macro_f1: \", macrof1, \" weighted_f1: \", weightedf1)"
   ],
   "metadata": {
    "collapsed": false,
    "pycharm": {
     "name": "#%%\n"
    }
   }
  },
  {
   "cell_type": "code",
   "execution_count": 42,
   "outputs": [
    {
     "name": "stdout",
     "output_type": "stream",
     "text": [
      "['No freeze', 'freeze']\n"
     ]
    }
   ],
   "source": [
    "print(id2label)"
   ],
   "metadata": {
    "collapsed": false,
    "pycharm": {
     "name": "#%%\n"
    }
   }
  },
  {
   "cell_type": "code",
   "execution_count": 43,
   "outputs": [
    {
     "name": "stdout",
     "output_type": "stream",
     "text": [
      "2\n"
     ]
    }
   ],
   "source": [
    "print(test.num_classes)"
   ],
   "metadata": {
    "collapsed": false,
    "pycharm": {
     "name": "#%%\n"
    }
   }
  },
  {
   "cell_type": "code",
   "execution_count": 58,
   "outputs": [
    {
     "name": "stdout",
     "output_type": "stream",
     "text": [
      "5460246\n"
     ]
    },
    {
     "data": {
      "text/plain": "<All keys matched successfully>"
     },
     "execution_count": 58,
     "metadata": {},
     "output_type": "execute_result"
    }
   ],
   "source": [
    "from models import MLPMixer, train\n",
    "import torch\n",
    "model = MLPMixer.MlpMixer(image_height=9, image_width=99,\n",
    "                          patch_size=9, token_dim=256, channel_dim=512,\n",
    "                          patch_dim=512, num_classes=2,\n",
    "                          num_blocks=10)\n",
    "model = model.cuda()\n",
    "\n",
    "print(sum(p.numel() for p in model.parameters() if p.requires_grad))\n",
    "\n",
    "path = \"../saved/daphnet/daphnet_step3_window99_patch9_downsample2_lr0_01_channeldim512_s42_checkpoint.bin\"\n",
    "arr = torch.load(path)\n",
    "model.load_state_dict(arr)"
   ],
   "metadata": {
    "collapsed": false,
    "pycharm": {
     "name": "#%%\n"
    }
   }
  },
  {
   "cell_type": "code",
   "execution_count": 59,
   "outputs": [
    {
     "name": "stdout",
     "output_type": "stream",
     "text": [
      "{'image_height': 9, 'image_width': 99, 'patch_size': 9, 'token_dim': 256, 'channel_dim': 512, 'patch_dim': 512, 'num_classes': 2, 'num_blocks': 10}\n"
     ]
    }
   ],
   "source": [
    "print(model.kwargs)"
   ],
   "metadata": {
    "collapsed": false,
    "pycharm": {
     "name": "#%%\n"
    }
   }
  },
  {
   "cell_type": "code",
   "execution_count": 56,
   "outputs": [
    {
     "name": "stdout",
     "output_type": "stream",
     "text": [
      "[[    0     1]\n",
      " [13133  1928]]\n"
     ]
    },
    {
     "data": {
      "text/plain": "<Figure size 432x288 with 1 Axes>",
      "image/png": "[encoded data removed]"
     },
     "metadata": {
      "needs_background": "dark"
     },
     "output_type": "display_data"
    }
   ],
   "source": [
    "import matplotlib.pyplot as plt\n",
    "\n",
    "\n",
    "count = np.array(np.unique(test.data['targets'], return_counts=True))\n",
    "print(count)\n",
    "params = {\"ytick.color\" : \"w\",\n",
    "          \"xtick.color\" : \"w\",\n",
    "          \"axes.labelcolor\" : \"w\",\n",
    "          \"axes.edgecolor\" : \"w\"}\n",
    "plt.rcParams.update(params)\n",
    "plt.bar(count[0], count[1])\n",
    "plt.show()"
   ],
   "metadata": {
    "collapsed": false,
    "pycharm": {
     "name": "#%%\n"
    }
   }
  },
  {
   "cell_type": "code",
   "execution_count": 60,
   "outputs": [
    {
     "name": "stderr",
     "output_type": "stream",
     "text": [
      "Testing... (loss=0.00005): 100%|| 235/235 [00:19<00:00, 11.85it/s]\n"
     ]
    },
    {
     "name": "stdout",
     "output_type": "stream",
     "text": [
      "Normalized confusion matrix\n",
      "[[0.95881635 0.04118365]\n",
      " [0.25518672 0.74481328]]\n",
      "Throughput:  804.1479009268191 accuracy:  tensor(0.9314)  micro_f1:  0.9313829787234043  macro_f1:  0.8481151549160287  weighted_f1:  0.9317418917570568\n"
     ]
    },
    {
     "data": {
      "text/plain": "<Figure size 144x144 with 2 Axes>",
      "image/png": "[encoded data removed]"
     },
     "metadata": {
      "needs_background": "dark"
     },
     "output_type": "display_data"
    },
    {
     "data": {
      "text/plain": "<Figure size 576x360 with 0 Axes>"
     },
     "metadata": {},
     "output_type": "display_data"
    }
   ],
   "source": [
    "path = \"../saved/oppo_weighted_adam/oppo_gestures_lr0_01_checkpoint.bin\"\n",
    "from torch.utils.data import DataLoader, SequentialSampler\n",
    "\n",
    "test_sampler = SequentialSampler(test)\n",
    "testing_loader = DataLoader(dataset=test,\n",
    "                            batch_size=64,\n",
    "                            sampler=test_sampler,\n",
    "                            num_workers=0,\n",
    "                            drop_last=True,\n",
    "                            pin_memory=True)\n",
    "\n",
    "validate(testing_loader, model)"
   ],
   "metadata": {
    "collapsed": false,
    "pycharm": {
     "name": "#%%\n"
    }
   }
  },
  {
   "cell_type": "code",
   "execution_count": 8,
   "outputs": [
    {
     "name": "stdout",
     "output_type": "stream",
     "text": [
      "[[   0    1    2    3    4    5    6    7    8    9   10]\n",
      " [ 707  694  735  779  669  614  816  310  241  635 1186]]\n"
     ]
    },
    {
     "data": {
      "text/plain": "<Figure size 432x288 with 1 Axes>",
      "image/png": "[encoded data removed]"
     },
     "metadata": {
      "needs_background": "dark"
     },
     "output_type": "display_data"
    }
   ],
   "source": [
    "import matplotlib.pyplot as plt\n",
    "\n",
    "\n",
    "count = np.array(np.unique(test.data['targets'], return_counts=True))\n",
    "print(count)\n",
    "params = {\"ytick.color\" : \"w\",\n",
    "          \"xtick.color\" : \"w\",\n",
    "          \"axes.labelcolor\" : \"w\",\n",
    "          \"axes.edgecolor\" : \"w\"}\n",
    "plt.rcParams.update(params)\n",
    "plt.bar(count[0], count[1])\n",
    "plt.show()"
   ],
   "metadata": {
    "collapsed": false,
    "pycharm": {
     "name": "#%%\n"
    }
   }
  },
  {
   "cell_type": "code",
   "execution_count": 25,
   "outputs": [
    {
     "name": "stderr",
     "output_type": "stream",
     "text": [
      "Testing... (loss=0.00006): 100%|| 115/115 [00:24<00:00,  4.68it/s]\n"
     ]
    },
    {
     "name": "stdout",
     "output_type": "stream",
     "text": [
      "Normalized confusion matrix\n",
      "[[1.    0.    0.    0.    0.    0.    0.    0.    0.    0.    0.   ]\n",
      " [0.    1.    0.    0.    0.    0.    0.    0.    0.    0.    0.   ]\n",
      " [0.    0.    0.74  0.    0.    0.    0.    0.    0.    0.    0.26 ]\n",
      " [0.    0.    0.    0.983 0.    0.    0.004 0.012 0.001 0.    0.   ]\n",
      " [0.    0.    0.    0.    1.    0.    0.    0.    0.    0.    0.   ]\n",
      " [0.    0.    0.    0.    0.    1.    0.    0.    0.    0.    0.   ]\n",
      " [0.    0.    0.    0.    0.    0.    1.    0.    0.    0.    0.   ]\n",
      " [0.    0.    0.    0.    0.    0.    0.    1.    0.    0.    0.   ]\n",
      " [0.    0.    0.    0.    0.    0.    0.    0.004 0.996 0.    0.   ]\n",
      " [0.    0.008 0.044 0.    0.    0.    0.008 0.022 0.008 0.879 0.031]\n",
      " [0.    0.    0.013 0.    0.    0.003 0.    0.    0.    0.    0.984]]\n",
      "accuracy:  tensor(0.9591)  micro_f1:  0.9591032608695652  macro_f1:  0.9633788302756411  weighted_f1:  0.9582244109812297\n"
     ]
    },
    {
     "data": {
      "text/plain": "<Figure size 540x540 with 2 Axes>",
      "image/png": "[encoded data removed]"
     },
     "metadata": {
      "needs_background": "dark"
     },
     "output_type": "display_data"
    },
    {
     "data": {
      "text/plain": "<Figure size 576x360 with 0 Axes>"
     },
     "metadata": {},
     "output_type": "display_data"
    }
   ],
   "source": [
    "path = \"../saved/pamap2_weighted_adam/pamap2_step10_window84_downsample3_linear_lr0_01_final_checkpoint.bin\"\n",
    "from torch.utils.data import DataLoader, SequentialSampler\n",
    "\n",
    "test_sampler = SequentialSampler(test)\n",
    "testing_loader = DataLoader(dataset=test,\n",
    "                            batch_size=64,\n",
    "                            sampler=test_sampler,\n",
    "                            num_workers=0,\n",
    "                            drop_last=True,\n",
    "                            pin_memory=True)\n",
    "\n",
    "validate(testing_loader, model)"
   ],
   "metadata": {
    "collapsed": false,
    "pycharm": {
     "name": "#%%\n"
    }
   }
  },
  {
   "cell_type": "code",
   "execution_count": null,
   "outputs": [],
   "source": [],
   "metadata": {
    "collapsed": false,
    "pycharm": {
     "name": "#%%\n"
    }
   }
  },
  {
   "cell_type": "code",
   "execution_count": 23,
   "outputs": [
    {
     "name": "stderr",
     "output_type": "stream",
     "text": [
      "Testing... (loss=0.00207): 100%|| 617/617 [02:19<00:00,  4.41it/s] \n"
     ]
    },
    {
     "name": "stdout",
     "output_type": "stream",
     "text": [
      "Normalized confusion matrix\n",
      "[[9.719e-01 6.283e-04 3.291e-04 2.094e-04 1.197e-03 4.308e-03 2.513e-03\n",
      "  3.531e-03 2.513e-03 3.560e-03 5.086e-04 3.890e-04 8.976e-05 5.774e-03\n",
      "  1.316e-03 2.992e-04 5.386e-04 3.890e-04]\n",
      " [5.761e-01 4.045e-01 0.000e+00 1.942e-02 0.000e+00 0.000e+00 0.000e+00\n",
      "  0.000e+00 0.000e+00 0.000e+00 0.000e+00 0.000e+00 0.000e+00 0.000e+00\n",
      "  0.000e+00 0.000e+00 0.000e+00 0.000e+00]\n",
      " [2.343e-01 0.000e+00 6.589e-01 0.000e+00 1.067e-01 0.000e+00 0.000e+00\n",
      "  0.000e+00 0.000e+00 0.000e+00 0.000e+00 0.000e+00 0.000e+00 0.000e+00\n",
      "  0.000e+00 0.000e+00 0.000e+00 0.000e+00]\n",
      " [6.977e-02 3.643e-01 0.000e+00 5.349e-01 3.101e-02 0.000e+00 0.000e+00\n",
      "  0.000e+00 0.000e+00 0.000e+00 0.000e+00 0.000e+00 0.000e+00 0.000e+00\n",
      "  0.000e+00 0.000e+00 0.000e+00 0.000e+00]\n",
      " [4.706e-03 0.000e+00 0.000e+00 0.000e+00 9.953e-01 0.000e+00 0.000e+00\n",
      "  0.000e+00 0.000e+00 0.000e+00 0.000e+00 0.000e+00 0.000e+00 0.000e+00\n",
      "  0.000e+00 0.000e+00 0.000e+00 0.000e+00]\n",
      " [4.493e-01 0.000e+00 0.000e+00 0.000e+00 0.000e+00 3.366e-01 1.361e-02\n",
      "  1.572e-01 0.000e+00 4.332e-02 0.000e+00 0.000e+00 0.000e+00 0.000e+00\n",
      "  0.000e+00 0.000e+00 0.000e+00 0.000e+00]\n",
      " [4.667e-01 7.576e-03 0.000e+00 0.000e+00 0.000e+00 2.576e-02 4.000e-01\n",
      "  4.545e-03 9.091e-02 4.545e-03 0.000e+00 0.000e+00 0.000e+00 0.000e+00\n",
      "  0.000e+00 0.000e+00 0.000e+00 0.000e+00]\n",
      " [3.773e-01 0.000e+00 0.000e+00 0.000e+00 0.000e+00 0.000e+00 0.000e+00\n",
      "  4.598e-01 3.711e-02 0.000e+00 0.000e+00 0.000e+00 0.000e+00 1.258e-01\n",
      "  0.000e+00 0.000e+00 0.000e+00 0.000e+00]\n",
      " [3.228e-01 0.000e+00 0.000e+00 0.000e+00 0.000e+00 0.000e+00 4.612e-02\n",
      "  4.369e-02 4.951e-01 3.883e-02 0.000e+00 0.000e+00 0.000e+00 1.942e-02\n",
      "  3.398e-02 0.000e+00 0.000e+00 0.000e+00]\n",
      " [2.308e-01 0.000e+00 0.000e+00 1.442e-02 0.000e+00 0.000e+00 0.000e+00\n",
      "  0.000e+00 3.077e-01 3.173e-01 1.058e-01 0.000e+00 0.000e+00 0.000e+00\n",
      "  0.000e+00 0.000e+00 0.000e+00 2.404e-02]\n",
      " [4.611e-01 0.000e+00 0.000e+00 0.000e+00 0.000e+00 0.000e+00 0.000e+00\n",
      "  3.627e-02 2.228e-01 2.073e-01 7.254e-02 0.000e+00 0.000e+00 0.000e+00\n",
      "  0.000e+00 0.000e+00 0.000e+00 0.000e+00]\n",
      " [5.174e-01 0.000e+00 0.000e+00 0.000e+00 0.000e+00 0.000e+00 0.000e+00\n",
      "  0.000e+00 0.000e+00 5.233e-02 0.000e+00 4.302e-01 0.000e+00 0.000e+00\n",
      "  0.000e+00 0.000e+00 0.000e+00 0.000e+00]\n",
      " [2.340e-01 0.000e+00 0.000e+00 0.000e+00 0.000e+00 0.000e+00 0.000e+00\n",
      "  0.000e+00 3.191e-01 6.383e-02 8.511e-02 2.128e-02 2.766e-01 0.000e+00\n",
      "  0.000e+00 0.000e+00 0.000e+00 0.000e+00]\n",
      " [2.778e-02 0.000e+00 0.000e+00 0.000e+00 0.000e+00 0.000e+00 0.000e+00\n",
      "  0.000e+00 4.630e-03 0.000e+00 0.000e+00 0.000e+00 0.000e+00 9.676e-01\n",
      "  0.000e+00 0.000e+00 0.000e+00 0.000e+00]\n",
      " [3.117e-01 0.000e+00 0.000e+00 0.000e+00 0.000e+00 0.000e+00 0.000e+00\n",
      "  0.000e+00 0.000e+00 0.000e+00 0.000e+00 0.000e+00 0.000e+00 4.113e-01\n",
      "  2.771e-01 0.000e+00 0.000e+00 0.000e+00]\n",
      " [1.000e+00 0.000e+00 0.000e+00 0.000e+00 0.000e+00 0.000e+00 0.000e+00\n",
      "  0.000e+00 0.000e+00 0.000e+00 0.000e+00 0.000e+00 0.000e+00 0.000e+00\n",
      "  0.000e+00 0.000e+00 0.000e+00 0.000e+00]\n",
      " [4.339e-01 0.000e+00 0.000e+00 0.000e+00 0.000e+00 0.000e+00 0.000e+00\n",
      "  0.000e+00 0.000e+00 0.000e+00 0.000e+00 0.000e+00 0.000e+00 0.000e+00\n",
      "  0.000e+00 0.000e+00 5.661e-01 0.000e+00]\n",
      " [7.152e-01 0.000e+00 0.000e+00 0.000e+00 0.000e+00 0.000e+00 2.049e-03\n",
      "  0.000e+00 0.000e+00 8.197e-03 2.459e-02 0.000e+00 0.000e+00 0.000e+00\n",
      "  0.000e+00 0.000e+00 0.000e+00 2.500e-01]]\n",
      "accuracy:  tensor(0.8913)  micro_f1:  0.8913340761750406  macro_f1:  0.49814513565515955  weighted_f1:  0.8798427967157205\n"
     ]
    },
    {
     "data": {
      "text/plain": "<Figure size 720x720 with 2 Axes>",
      "image/png": "[encoded data removed]"
     },
     "metadata": {
      "needs_background": "light"
     },
     "output_type": "display_data"
    },
    {
     "data": {
      "text/plain": "<Figure size 576x360 with 0 Axes>"
     },
     "metadata": {},
     "output_type": "display_data"
    }
   ],
   "source": [
    "path = \"../saved/oppo_balanced/opportunity_gestures_norm_checkpoint.bin\"\n",
    "from torch.utils.data import DataLoader, SequentialSampler\n",
    "\n",
    "test_sampler = SequentialSampler(test)\n",
    "testing_loader = DataLoader(dataset=test,\n",
    "                            batch_size=64,\n",
    "                            sampler=test_sampler,\n",
    "                            num_workers=0,\n",
    "                            drop_last=True,\n",
    "                            pin_memory=True)\n",
    "\n",
    "validate(testing_loader, model)"
   ],
   "metadata": {
    "collapsed": false,
    "pycharm": {
     "name": "#%%\n"
    }
   }
  },
  {
   "cell_type": "code",
   "execution_count": 10,
   "outputs": [
    {
     "name": "stderr",
     "output_type": "stream",
     "text": [
      "Testing... (loss=1.21269): 100%|| 617/617 [02:20<00:00,  4.38it/s]\n"
     ]
    },
    {
     "name": "stdout",
     "output_type": "stream",
     "text": [
      "Normalized confusion matrix\n",
      "[[0.59150629 0.30255366 0.09289415 0.00397853 0.00906736]\n",
      " [0.02844616 0.76344776 0.17762806 0.03047802 0.        ]\n",
      " [0.01427506 0.11292213 0.87280281 0.         0.        ]\n",
      " [0.01966788 0.         0.00494641 0.97114592 0.00423978]\n",
      " [0.00413508 0.         0.         0.         0.99586492]]\n",
      "accuracy:  tensor(0.7956)  micro_f1:  0.7955834683954619  macro_f1:  0.8266151036930112  weighted_f1:  0.7941520258629297\n"
     ]
    },
    {
     "data": {
      "text/plain": "<Figure size 432x288 with 2 Axes>",
      "image/png": "[encoded data removed]"
     },
     "metadata": {
      "needs_background": "light"
     },
     "output_type": "display_data"
    }
   ],
   "source": [
    "path = \"../saved/oppo_balanced/opportunity_norm_checkpoint.bin\"\n",
    "from torch.utils.data import DataLoader, SequentialSampler\n",
    "\n",
    "test_sampler = SequentialSampler(test)\n",
    "testing_loader = DataLoader(dataset=test,\n",
    "                            batch_size=64,\n",
    "                            shuffle=True,\n",
    "                            #sampler=test_sampler,\n",
    "                            num_workers=0,\n",
    "                            drop_last=True,\n",
    "                            pin_memory=True)\n",
    "\n",
    "validate(testing_loader, model)"
   ],
   "metadata": {
    "collapsed": false,
    "pycharm": {
     "name": "#%%\n"
    }
   }
  },
  {
   "cell_type": "code",
   "execution_count": 45,
   "outputs": [
    {
     "name": "stderr",
     "output_type": "stream",
     "text": [
      "Testing... (loss=0.07888): 100%|| 205/205 [00:45<00:00,  4.47it/s] "
     ]
    },
    {
     "name": "stdout",
     "output_type": "stream",
     "text": [
      "accuracy:  tensor(0.8830)  micro_f1:  0.8830030487804879  macro_f1:  0.48340883700506754  weighted_f1:  0.8736948242766541\n"
     ]
    },
    {
     "name": "stderr",
     "output_type": "stream",
     "text": [
      "\n"
     ]
    }
   ],
   "source": [
    "from torch.utils.data import DataLoader, SequentialSampler\n",
    "\n",
    "test_sampler = SequentialSampler(test)\n",
    "testing_loader = DataLoader(dataset=test,\n",
    "                            batch_size=64,\n",
    "                            sampler=test_sampler,\n",
    "                            num_workers=0,\n",
    "                            drop_last=True,\n",
    "                            pin_memory=True)\n",
    "\n",
    "validate(testing_loader, model)"
   ],
   "metadata": {
    "collapsed": false,
    "pycharm": {
     "name": "#%%\n"
    }
   }
  },
  {
   "cell_type": "code",
   "execution_count": 1,
   "outputs": [
    {
     "name": "stdout",
     "output_type": "stream",
     "text": [
      "[[    0     1     2     3     4     5     6     7     8     9    10    11]\n",
      " [23330 22808 24064 25356 22191 20432 26490 13285 11258 21029 37584   253]]\n",
      "[[    0     1     2     3     4     5     6     7     8     9    10]\n",
      " [21330 20807 22063 23355 20190 18431 24489  9283  7256 19028 35583]]\n"
     ]
    }
   ],
   "source": [
    "import numpy as np\n",
    "import torch\n",
    "import torchvision.transforms as transforms\n",
    "\n",
    "def get_dataset_info(dataset):\n",
    "    if dataset == 'opportunity':\n",
    "        from data import opportunity\n",
    "        dataset = opportunity.OpportunityDataset\n",
    "        val_id = [[0,1]]\n",
    "        test_id = [[1,3],[1,4],[2,3],[2,4]]\n",
    "        train_id = [[0,0],[0,1],[0,2],[0,3],[0,4],[0,5],\n",
    "                    [1,0],[1,1],[1,2],[1,5],\n",
    "                    [2,0],[2,1],[1,2],[2,5],\n",
    "                    [3,0],[3,1],[3,2],[3,3],[3,4],[3,5]]\n",
    "        kwargs = {'locomotion': False}\n",
    "        if kwargs['locomotion'] == True:\n",
    "            num_classes = 5\n",
    "        else:\n",
    "            num_classes = 18\n",
    "\n",
    "    elif dataset == 'pamap2':\n",
    "        from data import pamap2\n",
    "        dataset = pamap2.PAMAP2Dataset\n",
    "        val_id = [4]\n",
    "        test_id = [5]\n",
    "        train_id = [0, 1, 2, 3, 6, 7]\n",
    "        num_classes = 13\n",
    "        kwargs = {}\n",
    "\n",
    "    elif dataset == 'daphnet':\n",
    "        from data import daphnet\n",
    "        dataset = daphnet.DaphNetDataset\n",
    "        val_id = [8]\n",
    "        test_id = [1]\n",
    "        train_id = [0, 2, 3, 4, 5, 6, 7, 9]\n",
    "        num_classes = 2\n",
    "        kwargs = {}\n",
    "\n",
    "    return {'dataset' : dataset, 'train' : train_id, 'test' : test_id, 'validation' : val_id, 'kwargs': kwargs, 'num_classes': num_classes}\n",
    "\n",
    "def data_transforms_float(x):\n",
    "\treturn torch.from_numpy(x).type(torch.FloatTensor)\n",
    "\n",
    "def data_transforms_long(x):\n",
    "\treturn torch.from_numpy(x).type(torch.LongTensor)\n",
    "\n",
    "dataset_info = get_dataset_info('pamap2')\n",
    "input_transform = transforms.Compose([\n",
    "    transforms.Lambda(data_transforms_float)\n",
    "])\n",
    "target_transform = transforms.Compose([\n",
    "    transforms.Lambda(data_transforms_long)\n",
    "])\n",
    "\n",
    "downsample = 3\n",
    "pretraining = False\n",
    "window_size = 84\n",
    "sliding_window = True\n",
    "step = 10\n",
    "\n",
    "test = dataset_info['dataset'](fileIndex=dataset_info['test'], transform=input_transform, target_transform=target_transform, pretraining=pretraining, **dataset_info['kwargs'])\n",
    "test.generate_data(window_size=window_size, step_size=step, downsample=downsample, slide_window=sliding_window)\n",
    "id2label = test.id2label\n",
    "label2id = test.label2id\n",
    "\n",
    "num_classes = dataset_info['num_classes']\n"
   ],
   "metadata": {
    "collapsed": false,
    "pycharm": {
     "name": "#%%\n"
    }
   }
  },
  {
   "cell_type": "code",
   "execution_count": 8,
   "outputs": [
    {
     "name": "stdout",
     "output_type": "stream",
     "text": [
      "['heartrate', 'handTemperature', 'handAcc16_1', 'handAcc16_2', 'handAcc16_3', 'handAcc6_1', 'handAcc6_2', 'handAcc6_3', 'handGyro1', 'handGyro2', 'handGyro3', 'handMagne1', 'handMagne2', 'handMagne3', 'chestTemperature', 'chestAcc16_1', 'chestAcc16_2', 'chestAcc16_3', 'chestAcc6_1', 'chestAcc6_2', 'chestAcc6_3', 'chestGyro1', 'chestGyro2', 'chestGyro3', 'chestMagne1', 'chestMagne2', 'chestMagne3', 'ankleTemperature', 'ankleAcc16_1', 'ankleAcc16_2', 'ankleAcc16_3', 'ankleAcc6_1', 'ankleAcc6_2', 'ankleAcc6_3', 'ankleGyro1', 'ankleGyro2', 'ankleGyro3', 'ankleMagne1', 'ankleMagne2', 'ankleMagne3']\n",
      "40\n"
     ]
    }
   ],
   "source": [
    "print(test.columns)\n",
    "print(len(test.columns))"
   ],
   "metadata": {
    "collapsed": false,
    "pycharm": {
     "name": "#%%\n"
    }
   }
  },
  {
   "cell_type": "code",
   "execution_count": null,
   "outputs": [],
   "source": [],
   "metadata": {
    "collapsed": false,
    "pycharm": {
     "name": "#%%\n"
    }
   }
  },
  {
   "cell_type": "code",
   "execution_count": null,
   "outputs": [],
   "source": [],
   "metadata": {
    "collapsed": false,
    "pycharm": {
     "name": "#%%\n"
    }
   }
  },
  {
   "cell_type": "code",
   "execution_count": 38,
   "outputs": [
    {
     "name": "stdout",
     "output_type": "stream",
     "text": [
      "['Other', 'Open Door 1', 'Open Door 2', 'Close Door 1', 'Close Door 2', 'Open Fridge', 'Close Fridge', 'Open Dishwasher', 'Close Dishwasher', 'Open Drawer 1', 'Close Drawer 1', 'Open Drawer 2', 'Close Drawer 2', 'Open Drawer 3', 'Close Drawer 3', 'Clean Table', 'Drink from Cup', 'Toggle Switch']\n",
      "{0: 0, 406516: 1, 406517: 2, 404516: 3, 404517: 4, 406520: 5, 404520: 6, 406505: 7, 404505: 8, 406519: 9, 404519: 10, 406511: 11, 404511: 12, 406508: 13, 404508: 14, 408512: 15, 407521: 16, 405506: 17}\n",
      "18\n",
      "[[     0      1      2      3      4      5      6      7      8      9\n",
      "      10     11     12     13     14     15     16     17]\n",
      " [176324   4624   4614   4388   4415   5111   4996   3694   3471   2822\n",
      "    2210   2612   2312   3053   2935   5259  16732   3120]]\n"
     ]
    }
   ],
   "source": [
    "print(id2label)\n",
    "print(label2id)\n",
    "print(num_classes)\n",
    "\n",
    "count = np.array(np.unique(test.data['targets'], return_counts=True))\n",
    "print(count)"
   ],
   "metadata": {
    "collapsed": false,
    "pycharm": {
     "name": "#%%\n"
    }
   }
  },
  {
   "cell_type": "code",
   "execution_count": 20,
   "outputs": [
    {
     "name": "stdout",
     "output_type": "stream",
     "text": [
      "(7386, 40, 84)\n"
     ]
    }
   ],
   "source": [
    "print(test.data['inputs'].shape)"
   ],
   "metadata": {
    "collapsed": false,
    "pycharm": {
     "name": "#%%\n"
    }
   }
  },
  {
   "cell_type": "code",
   "execution_count": 19,
   "outputs": [
    {
     "name": "stdout",
     "output_type": "stream",
     "text": [
      "(7386,)\n"
     ]
    }
   ],
   "source": [
    "print(test.data['targets'].shape)"
   ],
   "metadata": {
    "collapsed": false,
    "pycharm": {
     "name": "#%%\n"
    }
   }
  },
  {
   "cell_type": "code",
   "execution_count": 5,
   "outputs": [
    {
     "ename": "AttributeError",
     "evalue": "'numpy.ndarray' object has no attribute 'head'",
     "output_type": "error",
     "traceback": [
      "\u001B[1;31m---------------------------------------------------------------------------\u001B[0m",
      "\u001B[1;31mAttributeError\u001B[0m                            Traceback (most recent call last)",
      "Input \u001B[1;32mIn [5]\u001B[0m, in \u001B[0;36m<cell line: 1>\u001B[1;34m()\u001B[0m\n\u001B[1;32m----> 1\u001B[0m \u001B[43mtest\u001B[49m\u001B[38;5;241;43m.\u001B[39;49m\u001B[43mdata\u001B[49m\u001B[43m[\u001B[49m\u001B[38;5;124;43m'\u001B[39;49m\u001B[38;5;124;43minputs\u001B[39;49m\u001B[38;5;124;43m'\u001B[39;49m\u001B[43m]\u001B[49m\u001B[38;5;241;43m.\u001B[39;49m\u001B[43mhead\u001B[49m()\n",
      "\u001B[1;31mAttributeError\u001B[0m: 'numpy.ndarray' object has no attribute 'head'"
     ]
    }
   ],
   "source": [
    "test.data['inputs'].head()"
   ],
   "metadata": {
    "collapsed": false,
    "pycharm": {
     "name": "#%%\n"
    }
   }
  },
  {
   "cell_type": "code",
   "execution_count": 32,
   "outputs": [
    {
     "name": "stdout",
     "output_type": "stream",
     "text": [
      "[[    0     1     2     3     4     5     6     7     8     9    10    11\n",
      "     12    13    14    15    16    17]\n",
      " [32891   227   380   235   329   925   657   398   320   153   162   167\n",
      "    116   265   243   386  1271   433]]\n"
     ]
    },
    {
     "data": {
      "text/plain": "<Figure size 640x480 with 1 Axes>",
      "image/png": "[encoded data removed]"
     },
     "metadata": {},
     "output_type": "display_data"
    }
   ],
   "source": [
    "import matplotlib.pyplot as plt\n",
    "\n",
    "count = np.array(np.unique(test.data['targets'], return_counts=True))\n",
    "print(count)\n",
    "params = {\"ytick.color\": \"w\",\n",
    "          \"xtick.color\": \"w\",\n",
    "          \"axes.labelcolor\": \"w\",\n",
    "          \"axes.edgecolor\": \"w\"}\n",
    "plt.rcParams.update(params)\n",
    "plt.bar(count[0], count[1])\n",
    "plt.show()"
   ],
   "metadata": {
    "collapsed": false,
    "pycharm": {
     "name": "#%%\n"
    }
   }
  },
  {
   "cell_type": "code",
   "execution_count": 36,
   "outputs": [
    {
     "name": "stdout",
     "output_type": "stream",
     "text": [
      "[[0.000e+00 1.004e-04 1.277e-04 ... 9.999e-01 9.999e-01 1.000e+00]\n",
      " [2.399e+06 2.500e+01 2.600e+01 ... 7.700e+01 2.500e+01 2.208e+03]]\n"
     ]
    },
    {
     "data": {
      "text/plain": "<Figure size 640x480 with 1 Axes>",
      "image/png": "[encoded data removed]"
     },
     "metadata": {},
     "output_type": "display_data"
    }
   ],
   "source": [
    "import matplotlib.pyplot as plt\n",
    "\n",
    "count = np.array(np.unique(test.data['inputs'], return_counts=True))\n",
    "print(count)\n",
    "params = {\"ytick.color\": \"w\",\n",
    "          \"xtick.color\": \"w\",\n",
    "          \"axes.labelcolor\": \"w\",\n",
    "          \"axes.edgecolor\": \"w\"}\n",
    "plt.rcParams.update(params)\n",
    "plt.bar(count[0], count[1])\n",
    "plt.show()"
   ],
   "metadata": {
    "collapsed": false,
    "pycharm": {
     "name": "#%%\n"
    }
   }
  },
  {
   "cell_type": "code",
   "execution_count": 35,
   "outputs": [
    {
     "name": "stdout",
     "output_type": "stream",
     "text": [
      "[[    0     1     2     3     4     5     6     7     8     9    10    11\n",
      "     12    13    14    15    16    17]\n",
      " [32891   227   380   235   329   925   657   398   320   153   162   167\n",
      "    116   265   243   386  1271   433]]\n"
     ]
    },
    {
     "data": {
      "text/plain": "<Figure size 640x480 with 1 Axes>",
      "image/png": "[encoded data removed]"
     },
     "metadata": {},
     "output_type": "display_data"
    }
   ],
   "source": [
    "import matplotlib.pyplot as plt\n",
    "\n",
    "count = np.array(np.unique(test.data['targets'], return_counts=True))\n",
    "print(count)\n",
    "params = {\"ytick.color\": \"w\",\n",
    "          \"xtick.color\": \"w\",\n",
    "          \"axes.labelcolor\": \"w\",\n",
    "          \"axes.edgecolor\": \"w\"}\n",
    "plt.rcParams.update(params)\n",
    "plt.bar(count[0], count[1])\n",
    "plt.show()"
   ],
   "metadata": {
    "collapsed": false,
    "pycharm": {
     "name": "#%%\n"
    }
   }
  },
  {
   "cell_type": "code",
   "execution_count": 63,
   "outputs": [
    {
     "name": "stdout",
     "output_type": "stream",
     "text": [
      "0.901454 0.005758404640175954\n",
      "0.894144 0.00568139630724703\n"
     ]
    }
   ],
   "source": [
    "import numpy as np\n",
    "\n",
    "b = np.array([0.90375,0.89019,0.90641,0.90274,0.90418])\n",
    "\n",
    "t = np.array([0.89388,0.88416,0.89335,0.89982,0.89951])\n",
    "\n",
    "print(b.mean(), b.std())\n",
    "print(t.mean(), t.std())"
   ],
   "metadata": {
    "collapsed": false,
    "pycharm": {
     "name": "#%%\n"
    }
   }
  },
  {
   "cell_type": "code",
   "execution_count": 19,
   "outputs": [
    {
     "name": "stdout",
     "output_type": "stream",
     "text": [
      "['lying', 'sitting', 'standing', 'walking', 'running', 'cycling', 'Nordic walking', 'ascending stairs', 'descending stairs', 'vacuum cleaning', 'ironing', 'rope jumping']\n"
     ]
    },
    {
     "data": {
      "text/plain": "<Figure size 1080x504 with 1 Axes>",
      "image/png": "[encoded data removed]"
     },
     "metadata": {
      "needs_background": "dark"
     },
     "output_type": "display_data"
    }
   ],
   "source": [
    "import matplotlib.pyplot as plt\n",
    "import pandas as pd\n",
    "import numpy as np\n",
    "import matplotlib.pyplot as plt\n",
    "import seaborn as sns\n",
    "\n",
    "data = np.zeros((len(id2label), len(test.data['targets'])))\n",
    "for i, v in enumerate(test.data['targets']):\n",
    "    data[v][i] = 1\n",
    "\n",
    "split = [data[i] for i in range(len(data))]\n",
    "x = [i for i in range(len(test.data['targets']))]\n",
    "# create a horizontal plot\n",
    "fig = plt.figure(figsize=(15,7))\n",
    "colors = sns.color_palette(\"RdBu\", len(id2label))\n",
    "\n",
    "labels = id2label\n",
    "print(id2label)\n",
    "plt.stackplot(x, split, colors=colors, labels=labels)\n",
    "plt.legend(loc = \"upper center\", bbox_to_anchor=(1.1, 0.8), ncol=1)\n",
    "plt.title(\"Activities performed\")\n",
    "plt.show()"
   ],
   "metadata": {
    "collapsed": false,
    "pycharm": {
     "name": "#%%\n"
    }
   }
  },
  {
   "cell_type": "code",
   "execution_count": 21,
   "outputs": [
    {
     "name": "stdout",
     "output_type": "stream",
     "text": [
      "['lying', 'sitting', 'standing', 'walking', 'running', 'cycling', 'Nordic walking', 'ascending stairs', 'descending stairs', 'vacuum cleaning', 'ironing', 'rope jumping']\n"
     ]
    },
    {
     "data": {
      "text/plain": "<Figure size 1080x504 with 1 Axes>",
      "image/png": "[encoded data removed]"
     },
     "metadata": {
      "needs_background": "light"
     },
     "output_type": "display_data"
    }
   ],
   "source": [
    "import matplotlib.pyplot as plt\n",
    "import pandas as pd\n",
    "import numpy as np\n",
    "import matplotlib.pyplot as plt\n",
    "import seaborn as sns\n",
    "\n",
    "data = np.zeros((len(id2label), len(test.data['targets'])))\n",
    "for i, v in enumerate(test.data['targets']):\n",
    "    data[v][i] = 1\n",
    "\n",
    "split = [data[i] for i in range(len(data))]\n",
    "x = [i for i in range(len(test.data['targets']))]\n",
    "# create a horizontal plot\n",
    "fig = plt.figure(figsize=(15,7))\n",
    "colors = sns.color_palette(\"RdBu\", len(id2label))\n",
    "\n",
    "labels = id2label\n",
    "print(id2label)\n",
    "plt.stackplot(x, split, colors=colors, labels=labels)\n",
    "plt.legend(loc = \"upper center\", bbox_to_anchor=(1.1, 0.8), ncol=1)\n",
    "plt.title(\"Activities performed\")\n",
    "plt.show()"
   ],
   "metadata": {
    "collapsed": false,
    "pycharm": {
     "name": "#%%\n"
    }
   }
  },
  {
   "cell_type": "code",
   "execution_count": 20,
   "outputs": [
    {
     "name": "stdout",
     "output_type": "stream",
     "text": [
      "[[   0    1    2    3    4    5    6    7    8    9   10   11]\n",
      " [2580 2560 2706 2858 2537 2276 2965 1478 1251 2342 4194   14]]\n",
      "['lying', 'sitting', 'standing', 'walking', 'running', 'cycling', 'Nordic walking', 'ascending stairs', 'descending stairs', 'vacuum cleaning', 'ironing', 'rope jumping']\n"
     ]
    },
    {
     "data": {
      "text/plain": "<Figure size 720x144 with 1 Axes>",
      "image/png": "[encoded data removed]"
     },
     "metadata": {},
     "output_type": "display_data"
    }
   ],
   "source": [
    "import matplotlib.pyplot as plt\n",
    "import pandas as pd\n",
    "import numpy as np\n",
    "import matplotlib.pyplot as plt\n",
    "import seaborn as sns\n",
    "plt.style.use(\"seaborn\")\n",
    "\n",
    "count = np.array(np.unique(test.data['targets'], return_counts=True))\n",
    "print(count)\n",
    "print(id2label)\n",
    "data = np.zeros((len(id2label), len(test.data['targets'])))\n",
    "for i, v in enumerate(test.data['targets']):\n",
    "    data[v][i] = 1\n",
    "\n",
    "#split = [data[i] for i in range(len(data))]\n",
    "x = np.array(range(len(test.data['targets'])))\n",
    "\n",
    "#x = np.linspace(0, (1/30 * len(test.data['targets'])), num=len(test.data['targets']), endpoint=True, retstep=False, dtype=None, axis=0)\n",
    "\n",
    "fig = plt.figure(figsize=(10,2))\n",
    "colors = sns.color_palette(\"RdBu\", len(id2label))\n",
    "\n",
    "for i in range(len(id2label)):\n",
    "    plt.plot(x, data[i], label=id2label[i])\n",
    "\n",
    "plt.legend(loc = \"upper center\", bbox_to_anchor=(1.1, 0.8), ncol=1)\n",
    "plt.title('Activities')\n",
    "plt.xlabel('Seconds')\n",
    "\n",
    "plt.yticks([])\n",
    "\n",
    "plt.show()\n"
   ],
   "metadata": {
    "collapsed": false,
    "pycharm": {
     "name": "#%%\n"
    }
   }
  },
  {
   "cell_type": "code",
   "execution_count": null,
   "outputs": [],
   "source": [
    "import matplotlib.pyplot as plt\n",
    "import pandas as pd\n",
    "import numpy as np\n",
    "import matplotlib.pyplot as plt\n",
    "import seaborn as sns\n",
    "plt.style.use(\"seaborn\")\n",
    "\n",
    "count = np.array(np.unique(test.data['targets'], return_counts=True))\n",
    "print(count)\n",
    "print(id2label)\n",
    "data = np.zeros((len(id2label), len(test.data['targets'])))\n",
    "for i, v in enumerate(test.data['targets']):\n",
    "    data[v][i] = 1\n",
    "\n",
    "#split = [data[i] for i in range(len(data))]\n",
    "x = np.array(range(len(test.data['targets'])))\n",
    "\n",
    "#x = np.linspace(0, (1/30 * len(test.data['targets'])), num=len(test.data['targets']), endpoint=True, retstep=False, dtype=None, axis=0)\n",
    "\n",
    "fig = plt.figure(figsize=(10,2))\n",
    "colors = sns.color_palette(\"RdBu\", len(id2label))\n",
    "\n",
    "for i in range(len(id2label)):\n",
    "    plt.plot(x, data[i], label=id2label[i])\n",
    "\n",
    "plt.legend(loc = \"upper center\", bbox_to_anchor=(1.1, 0.8), ncol=1)\n",
    "plt.title('Activities')\n",
    "plt.xlabel('Seconds')\n",
    "\n",
    "plt.yticks([])\n",
    "\n",
    "plt.show()\n"
   ],
   "metadata": {
    "collapsed": false,
    "pycharm": {
     "name": "#%%\n"
    }
   }
  },
  {
   "cell_type": "code",
   "execution_count": 2,
   "outputs": [],
   "source": [
    "from tqdm import tqdm\n",
    "import itertools\n",
    "import torch\n",
    "import os\n",
    "import numpy as np\n",
    "import torch.nn as nn\n",
    "import matplotlib.pyplot as plt\n",
    "from sklearn.metrics import f1_score, confusion_matrix\n",
    "import seaborn as sns\n",
    "\n",
    "class AverageMeter(object):\n",
    "    \"\"\"Computes and stores the average and current value\"\"\"\n",
    "    def __init__(self):\n",
    "        self.reset()\n",
    "\n",
    "    def reset(self):\n",
    "        self.val = 0\n",
    "        self.avg = 0\n",
    "        self.sum = 0\n",
    "        self.count = 0\n",
    "\n",
    "    def update(self, val, n=1):\n",
    "        self.val = val\n",
    "        self.sum += val * n\n",
    "        self.count += n\n",
    "        self.avg = self.sum / self.count\n",
    "\n",
    "def validate_batch(model, device, batch, validate_loss, eval_losses, all_preds, all_label, all_prob):\n",
    "    batch = tuple(t.to(device) for t in batch)\n",
    "    x, y = batch\n",
    "    with torch.no_grad():\n",
    "        starter, ender = torch.cuda.Event(enable_timing=True),   torch.cuda.Event(enable_timing=True)\n",
    "        starter.record()\n",
    "        logits = model(x)\n",
    "        ender.record()\n",
    "        torch.cuda.synchronize()\n",
    "        curr_time = starter.elapsed_time(ender)/1000\n",
    "\n",
    "        eval_loss = validate_loss(logits, y.flatten())\n",
    "        eval_losses.update(eval_loss.item())\n",
    "\n",
    "        preds = torch.argmax(logits, dim=-1)\n",
    "\n",
    "    if len(all_preds) == 0:\n",
    "        all_preds.append(preds.cpu().numpy().reshape(-1))\n",
    "        all_label.append(y.data.cpu().numpy().reshape(-1))\n",
    "    else:\n",
    "        all_preds[0] = np.append(\n",
    "            all_preds[0], preds.cpu().numpy().reshape(-1)\n",
    "        )\n",
    "        all_label[0] = np.append(\n",
    "            all_label[0], y.data.cpu().numpy().reshape(-1)\n",
    "        )\n",
    "\n",
    "    return curr_time, logits.data.cpu().numpy()\n",
    "\n",
    "def simple_accuracy(preds, labels):\n",
    "    return torch.mean(torch.eq(preds, labels).float(), dtype=torch.float)\n",
    "\n",
    "def plot_confusion_matrix(cm, classes,\n",
    "                          normalize=False,\n",
    "                          title='Confusion matrix',\n",
    "                          cmap=plt.cm.Blues):\n",
    "    if normalize:\n",
    "        cm = cm.astype('float') / cm.sum(axis=1)[:, np.newaxis]\n",
    "        print(\"Normalized confusion matrix\")\n",
    "    else:\n",
    "        print('Confusion matrix, without normalization')\n",
    "\n",
    "    print(cm)\n",
    "\n",
    "    # ax = sns.heatmap(cm, annot=True, cmap='Blues')\n",
    "    #\n",
    "    # ax.set_title('Confusion Matrix with labels\\n\\n');\n",
    "    # ax.set_xlabel('\\nPredicted Values')\n",
    "    # ax.set_ylabel('Actual Values ');\n",
    "    #\n",
    "    # ax.set_xticks(range(len(classes)))\n",
    "    # ax.set_yticks(range(len(classes)))\n",
    "    # ax.set_xticklabels(classes, rotation=90, ha='right')\n",
    "    # ax.set_yticklabels(classes)\n",
    "    # #ax.xaxis.set_ticklabels(['False','True'])\n",
    "    # #ax.yaxis.set_ticklabels(['False','True'])\n",
    "    #\n",
    "    # ## Display the visualization of the Confusion Matrix.\n",
    "    # plt.show()\n",
    "\n",
    "    # plt.imshow(cm, interpolation='nearest', cmap=cmap)\n",
    "    # plt.title(title)\n",
    "    # plt.colorbar()\n",
    "    # tick_marks = np.arange(len(classes))\n",
    "    # plt.xticks(tick_marks, [value for value in classes], rotation=90)\n",
    "    # plt.yticks(tick_marks, [value for value in classes])\n",
    "\n",
    "    plt.style.use(\"default\")\n",
    "\n",
    "    # Calculate chart area size\n",
    "    leftmargin = 0.75  # inches\n",
    "    rightmargin = 0.75  # inches\n",
    "    categorysize = 0.75  # inches\n",
    "    figwidth = leftmargin + rightmargin + (len(classes) * categorysize)\n",
    "\n",
    "    f = plt.figure(figsize=(figwidth, figwidth))\n",
    "\n",
    "    # Create an axes instance and ajust the subplot size\n",
    "    ax = f.add_subplot(111)\n",
    "    ax.set_aspect(1)\n",
    "    f.subplots_adjust(left=leftmargin / figwidth, right=1 - rightmargin / figwidth, top=0.94, bottom=0.1)\n",
    "\n",
    "    res = ax.imshow(cm, interpolation='nearest', cmap=cmap)\n",
    "\n",
    "    plt.imshow(cm, interpolation='nearest', cmap=cmap)\n",
    "    plt.title(title)\n",
    "    plt.colorbar()\n",
    "    ax.set_xticks(range(len(classes)))\n",
    "    ax.set_yticks(range(len(classes)))\n",
    "    ax.set_xticklabels(classes, rotation=90, ha='right')\n",
    "    ax.set_yticklabels(classes)\n",
    "\n",
    "\n",
    "    fmt = '.2f' if normalize else 'd'\n",
    "    thresh = cm.max() / 2.\n",
    "    for i, j in itertools.product(range(cm.shape[0]), range(cm.shape[1])):\n",
    "        plt.text(j, i, format(cm[i, j], fmt),\n",
    "                 horizontalalignment=\"center\",\n",
    "                 color=\"white\" if cm[i, j] > thresh else \"black\")\n",
    "    plt.tight_layout()\n",
    "    np.set_printoptions(precision=3)\n",
    "\n",
    "    ax.set_xlabel('Predicted', fontsize=11, labelpad=5)\n",
    "    ax.set_ylabel('Actual', fontsize=11, labelpad=5)\n",
    "\n",
    "    ax.title.set_color('black')\n",
    "    ax.xaxis.label.set_color('black')\n",
    "    ax.yaxis.label.set_color('black')\n",
    "    ax.tick_params(colors='black', which='both')\n",
    "\n",
    "    plt.savefig('confusion_matrix.png', bbox_inches='tight')\n",
    "\n",
    "def validate(test, model):\n",
    "    test_loader = test\n",
    "    process = \"Test\"\n",
    "    current_process = \"Testing\"\n",
    "\n",
    "    #create the evaluation loss class\n",
    "    eval_losses = AverageMeter()\n",
    "\n",
    "    #start evaluating the model on the repsective dataset loader\n",
    "    model.eval()\n",
    "    all_preds, all_label = [], []\n",
    "    all_prob = np.empty((0, len(id2label)))\n",
    "    epoch_iterator = tqdm(test_loader,\n",
    "                              desc=f\"{current_process}... (loss=X.X)\",\n",
    "                              bar_format=\"{l_bar}{r_bar}\",\n",
    "                              dynamic_ncols=True)\n",
    "\n",
    "    validate_loss = nn.CrossEntropyLoss()\n",
    "    device = torch.device(\"cuda\" if torch.cuda.is_available() else \"cpu\")\n",
    "    total_time = 0\n",
    "    repetitions = 0\n",
    "    for step, batch in enumerate(epoch_iterator):\n",
    "        repetitions += 1\n",
    "        curr_time, logits = validate_batch(model, device, batch, validate_loss, eval_losses, all_preds, all_label, all_prob)\n",
    "        total_time += curr_time\n",
    "        all_prob = np.vstack((all_prob, logits))\n",
    "        epoch_iterator.set_description(f\"{current_process}... (loss=%2.5f)\" % eval_losses.val)\n",
    "\n",
    "    throughput = (repetitions*64)/total_time\n",
    "\n",
    "    all_preds, all_label = all_preds[0], all_label[0]\n",
    "    microf1 = f1_score(all_label, all_preds.flatten(), average='micro')\n",
    "    macrof1 = f1_score(all_label, all_preds.flatten(), average='macro')\n",
    "    weightedf1 = f1_score(all_label, all_preds.flatten(), average='weighted')\n",
    "    accuracy = simple_accuracy(torch.from_numpy(all_preds), torch.from_numpy(all_label).flatten())\n",
    "\n",
    "    cm = confusion_matrix(all_label, all_preds)\n",
    "    newLabel = id2label.copy()\n",
    "    newLabel.pop()\n",
    "    plot_confusion_matrix(cm, classes=newLabel, normalize=True)\n",
    "\n",
    "    print(\"Throughput: \", throughput, \"accuracy: \", accuracy, \" micro_f1: \", microf1, \" macro_f1: \", macrof1, \" weighted_f1: \", weightedf1)\n",
    "    return all_label, all_preds, all_prob"
   ],
   "metadata": {
    "collapsed": false,
    "pycharm": {
     "name": "#%%\n"
    }
   }
  },
  {
   "cell_type": "code",
   "execution_count": 19,
   "outputs": [
    {
     "name": "stdout",
     "output_type": "stream",
     "text": [
      "23208166\n"
     ]
    },
    {
     "data": {
      "text/plain": "<All keys matched successfully>"
     },
     "execution_count": 19,
     "metadata": {},
     "output_type": "execute_result"
    }
   ],
   "source": [
    "from models import MLPMixer, train\n",
    "import torch\n",
    "model = MLPMixer.MlpMixer(image_height=40, image_width=84,\n",
    "                          patch_size=4, token_dim=512, channel_dim=2048,\n",
    "                          patch_dim=512, num_classes=12,\n",
    "                          num_blocks=10)\n",
    "model = model.cuda()\n",
    "\n",
    "print(sum(p.numel() for p in model.parameters() if p.requires_grad))\n",
    "\n",
    "path = \"../saved/pamap2/pamap2_step10_window84_patch4_downsample3_lr0_01_tokendim512_s42_final_checkpoint.bin\"\n",
    "arr = torch.load(path)\n",
    "model.load_state_dict(arr)"
   ],
   "metadata": {
    "collapsed": false,
    "pycharm": {
     "name": "#%%\n"
    }
   }
  },
  {
   "cell_type": "code",
   "execution_count": null,
   "outputs": [],
   "source": [],
   "metadata": {
    "collapsed": false,
    "pycharm": {
     "name": "#%%\n"
    }
   }
  },
  {
   "cell_type": "code",
   "execution_count": 35,
   "outputs": [],
   "source": [
    "import torch\n",
    "import torchvision\n",
    "import  torchvision.transforms as transforms\n",
    "\n",
    "def saliency(img, model):\n",
    "    #we don't need gradients w.r.t. weights for a trained model\n",
    "    for param in model.parameters():\n",
    "        param.requires_grad = False\n",
    "\n",
    "    #set model in eval mode\n",
    "    model.eval()\n",
    "    #transforms input PIL image to torch.Tensor and normalize\n",
    "\n",
    "\n",
    "    device = torch.device(\"cuda:0\" if torch.cuda.is_available() else \"cpu\")\n",
    "    input = torch.from_numpy(img).float().to(device)\n",
    "\n",
    "    #we want to calculate gradient of higest score w.r.t. input\n",
    "    #so set requires_grad to True for input\n",
    "    input = torch.unsqueeze(input, 0)\n",
    "    input.requires_grad = True\n",
    "    #forward pass to calculate predictions\n",
    "    preds = model(input)\n",
    "    score, indices = torch.max(preds, 1)\n",
    "    #backward pass to get gradients of score predicted class w.r.t. input image\n",
    "    score.backward()\n",
    "    #get max along channel axis\n",
    "    slc = torch.abs(input.grad[0])\n",
    "    #normalize to [0..1]\n",
    "    slc = (slc - slc.min())/(slc.max()-slc.min())\n",
    "\n",
    "    # #plot image and its saleincy map\n",
    "    # plt.figure(figsize=(10, 10))\n",
    "    # plt.subplot(1, 2, 1)\n",
    "    # plt.imshow(np.transpose(input.cpu().detach().numpy(), (1, 2, 0)))\n",
    "    # plt.xticks([])\n",
    "    # plt.yticks([])\n",
    "    # plt.subplot(1, 2, 2)\n",
    "    # plt.imshow(slc.cpu().numpy(), cmap=plt.cm.hot)\n",
    "    # plt.xticks([])\n",
    "    # plt.yticks([])\n",
    "    # plt.show()\n",
    "\n",
    "    return slc.cpu(), torch.argmax(preds, dim=-1)"
   ],
   "metadata": {
    "collapsed": false,
    "pycharm": {
     "name": "#%%\n"
    }
   }
  },
  {
   "cell_type": "code",
   "execution_count": 56,
   "outputs": [
    {
     "name": "stdout",
     "output_type": "stream",
     "text": [
      "(40, 84)\n",
      "['heartrate', 'handTemperature', 'handAcc16_1', 'handAcc16_2', 'handAcc16_3', 'handAcc6_1', 'handAcc6_2', 'handAcc6_3', 'handGyro1', 'handGyro2', 'handGyro3', 'handMagne1', 'handMagne2', 'handMagne3', 'chestTemperature', 'chestAcc16_1', 'chestAcc16_2', 'chestAcc16_3', 'chestAcc6_1', 'chestAcc6_2', 'chestAcc6_3', 'chestGyro1', 'chestGyro2', 'chestGyro3', 'chestMagne1', 'chestMagne2', 'chestMagne3', 'ankleTemperature', 'ankleAcc16_1', 'ankleAcc16_2', 'ankleAcc16_3', 'ankleAcc6_1', 'ankleAcc6_2', 'ankleAcc6_3', 'ankleGyro1', 'ankleGyro2', 'ankleGyro3', 'ankleMagne1', 'ankleMagne2', 'ankleMagne3']\n",
      "['lying', 'sitting', 'standing', 'walking', 'running', 'cycling', 'Nordic walking', 'ascending stairs', 'descending stairs', 'vacuum cleaning', 'ironing', 'rope jumping']\n"
     ]
    }
   ],
   "source": [
    "print(test.data['inputs'][0].shape)\n",
    "print(test.columns)"
   ],
   "metadata": {
    "collapsed": false,
    "pycharm": {
     "name": "#%%\n"
    }
   }
  },
  {
   "cell_type": "code",
   "execution_count": 120,
   "outputs": [
    {
     "name": "stdout",
     "output_type": "stream",
     "text": [
      "label:Vacuum cleaning, prediction:Vacuum cleaning\n"
     ]
    },
    {
     "data": {
      "text/plain": "<Figure size 1080x720 with 2 Axes>",
      "image/png": "[encoded data removed]"
     },
     "metadata": {
      "needs_background": "light"
     },
     "output_type": "display_data"
    },
    {
     "data": {
      "text/plain": "<Figure size 720x360 with 2 Axes>",
      "image/png": "[encoded data removed]"
     },
     "metadata": {
      "needs_background": "light"
     },
     "output_type": "display_data"
    },
    {
     "data": {
      "text/plain": "<Figure size 720x360 with 2 Axes>",
      "image/png": "[encoded data removed]"
     },
     "metadata": {
      "needs_background": "light"
     },
     "output_type": "display_data"
    }
   ],
   "source": [
    "#banger weight maps\n",
    "# running = [6800]\n",
    "# cycling = [6400,]\n",
    "# ascending = [4077, ]\n",
    "# ironing = [3000,]\n",
    "# lying =   [120,]\n",
    "# vaccuum = [3800]\n",
    "\n",
    "id2label = ['Lying', 'Sitting', 'Standing', 'Walking', 'Running', 'Cycling', 'Nordic walking', 'Ascending stairs', 'Descending stairs', 'Vacuum cleaning', 'Ironing', 'Rope jumping']\n",
    "\n",
    "idx = 3800\n",
    "z = test.data['inputs'][idx].copy()\n",
    "slc, out = saliency(z, model)\n",
    "\n",
    "output = f\"label:{id2label[test.data['targets'][idx]]}, prediction:{id2label[out]}\"\n",
    "print(output)\n",
    "\n",
    "import matplotlib.pyplot as plt\n",
    "import seaborn as sns\n",
    "\n",
    "y_cols = ['heartrate', 'handTemperature', 'handAcc16_1', 'handAcc16_2', 'handAcc16_3', 'handAcc6_1', 'handAcc6_2', 'handAcc6_3', 'handGyro1', 'handGyro2', 'handGyro3', 'handMagne1', 'handMagne2', 'handMagne3', 'chestTemperature', 'chestAcc16_1', 'chestAcc16_2', 'chestAcc16_3', 'chestAcc6_1', 'chestAcc6_2', 'chestAcc6_3', 'chestGyro1', 'chestGyro2', 'chestGyro3', 'chestMagne1', 'chestMagne2', 'chestMagne3', 'ankleTemperature', 'ankleAcc16_1', 'ankleAcc16_2', 'ankleAcc16_3', 'ankleAcc6_1', 'ankleAcc6_2', 'ankleAcc6_3', 'ankleGyro1', 'ankleGyro2', 'ankleGyro3', 'ankleMagne1', 'ankleMagne2', 'ankleMagne3']\n",
    "\n",
    "title = f\"{id2label[test.data['targets'][idx]]}\"\n",
    "#ax = sns.heatmap(slc, yticklabels=y_axis_labels).set(title=title)\n",
    "fig, ax = plt.subplots(figsize=(15,10))\n",
    "sns.heatmap(slc, yticklabels=y_cols, ax=ax).set(title=title)\n",
    "plt.show()\n",
    "\n",
    "\n",
    "cols = [5, 6, 7, 18, 19, 20, 31, 32, 33]\n",
    "gcols = [5, 6, 7, 8, 9, 10, 18, 19, 20, 21, 22, 23, 31, 32, 33, 34, 35, 36]\n",
    "\n",
    "# labels for y-axis\n",
    "y_labels = [\"handacc_x\",\"handacc_y\",\"handacc_z\",\"chestacc_x\",\"chestacc_y\",\"chestacc_z\",\"ankleacc_x\",\"ankleacc_y\",\"ankleacc_z\"]\n",
    "y_glabels = [\"handacc_x\",\"handacc_y\",\"handacc_z\",'handgyro_x', 'handgyro_y', 'handgyro_z',\"chestacc_x\",\"chestacc_y\",\"chestacc_z\",'chestGyro_x', 'chestGyro_y', 'chestgyro_z',\"ankleacc_x\",\"ankleacc_y\",\"ankleacc_z\",'anklegyro_x', 'ankleGyro_y', 'ankleGyro_z',]\n",
    "#labels for x-axis\n",
    "title = f\"{id2label[test.data['targets'][idx]]}\"\n",
    "#ax = sns.heatmap(slc, yticklabels=y_axis_labels).set(title=title)\n",
    "fig, ax = plt.subplots(figsize=(10,5))\n",
    "sns.heatmap(slc[cols, :], yticklabels=y_labels, xticklabels=12, ax=ax).set(title=title)\n",
    "plt.xlabel(\"Time step\")\n",
    "plt.show()\n",
    "\n",
    "#labels for x-axis\n",
    "title = f\"{id2label[test.data['targets'][idx]]}\"\n",
    "#ax = sns.heatmap(slc, yticklabels=y_axis_labels).set(title=title)\n",
    "fig, ax = plt.subplots(figsize=(10,5))\n",
    "sns.heatmap(slc[gcols, :], yticklabels=y_glabels, xticklabels=12, ax=ax).set(title=title)\n",
    "plt.show()"
   ],
   "metadata": {
    "collapsed": false,
    "pycharm": {
     "name": "#%%\n"
    }
   }
  },
  {
   "cell_type": "code",
   "execution_count": 345,
   "outputs": [
    {
     "name": "stdout",
     "output_type": "stream",
     "text": [
      "MixerBlock.0.token_mixing.fc.weight\n",
      "MixerBlock.0.token_mixing.fc.bias\n",
      "MixerBlock.0.token_mixing.fc2.weight\n",
      "MixerBlock.0.token_mixing.fc2.bias\n",
      "MixerBlock.1.token_mixing.fc.weight\n",
      "MixerBlock.1.token_mixing.fc.bias\n",
      "MixerBlock.1.token_mixing.fc2.weight\n",
      "MixerBlock.1.token_mixing.fc2.bias\n",
      "MixerBlock.2.token_mixing.fc.weight\n",
      "MixerBlock.2.token_mixing.fc.bias\n",
      "MixerBlock.2.token_mixing.fc2.weight\n",
      "MixerBlock.2.token_mixing.fc2.bias\n",
      "MixerBlock.3.token_mixing.fc.weight\n",
      "MixerBlock.3.token_mixing.fc.bias\n",
      "MixerBlock.3.token_mixing.fc2.weight\n",
      "MixerBlock.3.token_mixing.fc2.bias\n",
      "MixerBlock.4.token_mixing.fc.weight\n",
      "MixerBlock.4.token_mixing.fc.bias\n",
      "MixerBlock.4.token_mixing.fc2.weight\n",
      "MixerBlock.4.token_mixing.fc2.bias\n",
      "MixerBlock.5.token_mixing.fc.weight\n",
      "MixerBlock.5.token_mixing.fc.bias\n",
      "MixerBlock.5.token_mixing.fc2.weight\n",
      "MixerBlock.5.token_mixing.fc2.bias\n",
      "MixerBlock.6.token_mixing.fc.weight\n",
      "MixerBlock.6.token_mixing.fc.bias\n",
      "MixerBlock.6.token_mixing.fc2.weight\n",
      "MixerBlock.6.token_mixing.fc2.bias\n",
      "MixerBlock.7.token_mixing.fc.weight\n",
      "MixerBlock.7.token_mixing.fc.bias\n",
      "MixerBlock.7.token_mixing.fc2.weight\n",
      "MixerBlock.7.token_mixing.fc2.bias\n",
      "MixerBlock.8.token_mixing.fc.weight\n",
      "MixerBlock.8.token_mixing.fc.bias\n",
      "MixerBlock.8.token_mixing.fc2.weight\n",
      "MixerBlock.8.token_mixing.fc2.bias\n",
      "MixerBlock.9.token_mixing.fc.weight\n",
      "MixerBlock.9.token_mixing.fc.bias\n",
      "MixerBlock.9.token_mixing.fc2.weight\n",
      "MixerBlock.9.token_mixing.fc2.bias\n"
     ]
    }
   ],
   "source": [
    "for name, param in model.named_parameters():\n",
    "    if param.requires_grad:\n",
    "        if \"token_mixing\" in name:\n",
    "            print(name)\n"
   ],
   "metadata": {
    "collapsed": false,
    "pycharm": {
     "name": "#%%\n"
    }
   }
  },
  {
   "cell_type": "code",
   "execution_count": null,
   "outputs": [],
   "source": [
    "indices_add = []\n",
    "for i, layer in enumerate(mlp_mixer.layers):\n",
    "    if isinstance(layer, tf.keras.layers.Add):\n",
    "        print(f\"Residual layer found at location: {i}\")\n",
    "        indices_add.append(i)"
   ],
   "metadata": {
    "collapsed": false,
    "pycharm": {
     "name": "#%%\n"
    }
   }
  },
  {
   "cell_type": "code",
   "execution_count": 28,
   "outputs": [
    {
     "name": "stdout",
     "output_type": "stream",
     "text": [
      "['Other', 'Open Door 1', 'Open Door 2', 'Close Door 1', 'Close Door 2', 'Open Fridge', 'Close Fridge', 'Open Dishwasher', 'Close Dishwasher', 'Open Drawer 1', 'Close Drawer 1', 'Open Drawer 2', 'Close Drawer 2', 'Open Drawer 3', 'Close Drawer 3', 'Clean Table', 'Drink from Cup', 'Toggle Switch']\n"
     ]
    }
   ],
   "source": [
    "print(id2label)"
   ],
   "metadata": {
    "collapsed": false,
    "pycharm": {
     "name": "#%%\n"
    }
   }
  },
  {
   "cell_type": "code",
   "execution_count": 17,
   "outputs": [
    {
     "name": "stdout",
     "output_type": "stream",
     "text": [
      "21468834\n"
     ]
    },
    {
     "name": "stderr",
     "output_type": "stream",
     "text": [
      "Testing... (loss=X.X):   0%|| 0/388 [00:00<?, ?it/s]\n"
     ]
    },
    {
     "ename": "RuntimeError",
     "evalue": "mat1 and mat2 shapes cannot be multiplied (32768x21 and 49x256)",
     "output_type": "error",
     "traceback": [
      "\u001B[1;31m---------------------------------------------------------------------------\u001B[0m",
      "\u001B[1;31mRuntimeError\u001B[0m                              Traceback (most recent call last)",
      "Input \u001B[1;32mIn [17]\u001B[0m, in \u001B[0;36m<cell line: 25>\u001B[1;34m()\u001B[0m\n\u001B[0;32m     17\u001B[0m test_sampler \u001B[38;5;241m=\u001B[39m SequentialSampler(test)\n\u001B[0;32m     18\u001B[0m testing_loader \u001B[38;5;241m=\u001B[39m DataLoader(dataset\u001B[38;5;241m=\u001B[39mtest,\n\u001B[0;32m     19\u001B[0m                             batch_size\u001B[38;5;241m=\u001B[39m\u001B[38;5;241m64\u001B[39m,\n\u001B[0;32m     20\u001B[0m                             sampler\u001B[38;5;241m=\u001B[39mtest_sampler,\n\u001B[0;32m     21\u001B[0m                             num_workers\u001B[38;5;241m=\u001B[39m\u001B[38;5;241m0\u001B[39m,\n\u001B[0;32m     22\u001B[0m                             drop_last\u001B[38;5;241m=\u001B[39m\u001B[38;5;28;01mTrue\u001B[39;00m,\n\u001B[0;32m     23\u001B[0m                             pin_memory\u001B[38;5;241m=\u001B[39m\u001B[38;5;28;01mTrue\u001B[39;00m)\n\u001B[1;32m---> 25\u001B[0m label, pred, prob \u001B[38;5;241m=\u001B[39m \u001B[43mvalidate\u001B[49m\u001B[43m(\u001B[49m\u001B[43mtesting_loader\u001B[49m\u001B[43m,\u001B[49m\u001B[43m \u001B[49m\u001B[43mmodel\u001B[49m\u001B[43m)\u001B[49m\n\u001B[0;32m     27\u001B[0m \u001B[38;5;28;01mfrom\u001B[39;00m \u001B[38;5;21;01msklearn\u001B[39;00m\u001B[38;5;21;01m.\u001B[39;00m\u001B[38;5;21;01mmetrics\u001B[39;00m \u001B[38;5;28;01mimport\u001B[39;00m classification_report\n\u001B[0;32m     28\u001B[0m \u001B[38;5;28mprint\u001B[39m(classification_report(label, pred, target_names\u001B[38;5;241m=\u001B[39mid2label))\n",
      "Input \u001B[1;32mIn [16]\u001B[0m, in \u001B[0;36mvalidate\u001B[1;34m(test, model)\u001B[0m\n\u001B[0;32m    161\u001B[0m \u001B[38;5;28;01mfor\u001B[39;00m step, batch \u001B[38;5;129;01min\u001B[39;00m \u001B[38;5;28menumerate\u001B[39m(epoch_iterator):\n\u001B[0;32m    162\u001B[0m     repetitions \u001B[38;5;241m+\u001B[39m\u001B[38;5;241m=\u001B[39m \u001B[38;5;241m1\u001B[39m\n\u001B[1;32m--> 163\u001B[0m     curr_time, logits \u001B[38;5;241m=\u001B[39m \u001B[43mvalidate_batch\u001B[49m\u001B[43m(\u001B[49m\u001B[43mmodel\u001B[49m\u001B[43m,\u001B[49m\u001B[43m \u001B[49m\u001B[43mdevice\u001B[49m\u001B[43m,\u001B[49m\u001B[43m \u001B[49m\u001B[43mbatch\u001B[49m\u001B[43m,\u001B[49m\u001B[43m \u001B[49m\u001B[43mvalidate_loss\u001B[49m\u001B[43m,\u001B[49m\u001B[43m \u001B[49m\u001B[43meval_losses\u001B[49m\u001B[43m,\u001B[49m\u001B[43m \u001B[49m\u001B[43mall_preds\u001B[49m\u001B[43m,\u001B[49m\u001B[43m \u001B[49m\u001B[43mall_label\u001B[49m\u001B[43m,\u001B[49m\u001B[43m \u001B[49m\u001B[43mall_prob\u001B[49m\u001B[43m)\u001B[49m\n\u001B[0;32m    164\u001B[0m     total_time \u001B[38;5;241m+\u001B[39m\u001B[38;5;241m=\u001B[39m curr_time\n\u001B[0;32m    165\u001B[0m     all_prob \u001B[38;5;241m=\u001B[39m np\u001B[38;5;241m.\u001B[39mvstack((all_prob, logits))\n",
      "Input \u001B[1;32mIn [16]\u001B[0m, in \u001B[0;36mvalidate_batch\u001B[1;34m(model, device, batch, validate_loss, eval_losses, all_preds, all_label, all_prob)\u001B[0m\n\u001B[0;32m     32\u001B[0m starter, ender \u001B[38;5;241m=\u001B[39m torch\u001B[38;5;241m.\u001B[39mcuda\u001B[38;5;241m.\u001B[39mEvent(enable_timing\u001B[38;5;241m=\u001B[39m\u001B[38;5;28;01mTrue\u001B[39;00m),   torch\u001B[38;5;241m.\u001B[39mcuda\u001B[38;5;241m.\u001B[39mEvent(enable_timing\u001B[38;5;241m=\u001B[39m\u001B[38;5;28;01mTrue\u001B[39;00m)\n\u001B[0;32m     33\u001B[0m starter\u001B[38;5;241m.\u001B[39mrecord()\n\u001B[1;32m---> 34\u001B[0m logits \u001B[38;5;241m=\u001B[39m \u001B[43mmodel\u001B[49m\u001B[43m(\u001B[49m\u001B[43mx\u001B[49m\u001B[43m)\u001B[49m\n\u001B[0;32m     35\u001B[0m ender\u001B[38;5;241m.\u001B[39mrecord()\n\u001B[0;32m     36\u001B[0m torch\u001B[38;5;241m.\u001B[39mcuda\u001B[38;5;241m.\u001B[39msynchronize()\n",
      "File \u001B[1;32mD:\\Work\\School\\Research Project\\MLPMixer\\lib\\site-packages\\torch\\nn\\modules\\module.py:1110\u001B[0m, in \u001B[0;36mModule._call_impl\u001B[1;34m(self, *input, **kwargs)\u001B[0m\n\u001B[0;32m   1106\u001B[0m \u001B[38;5;66;03m# If we don't have any hooks, we want to skip the rest of the logic in\u001B[39;00m\n\u001B[0;32m   1107\u001B[0m \u001B[38;5;66;03m# this function, and just call forward.\u001B[39;00m\n\u001B[0;32m   1108\u001B[0m \u001B[38;5;28;01mif\u001B[39;00m \u001B[38;5;129;01mnot\u001B[39;00m (\u001B[38;5;28mself\u001B[39m\u001B[38;5;241m.\u001B[39m_backward_hooks \u001B[38;5;129;01mor\u001B[39;00m \u001B[38;5;28mself\u001B[39m\u001B[38;5;241m.\u001B[39m_forward_hooks \u001B[38;5;129;01mor\u001B[39;00m \u001B[38;5;28mself\u001B[39m\u001B[38;5;241m.\u001B[39m_forward_pre_hooks \u001B[38;5;129;01mor\u001B[39;00m _global_backward_hooks\n\u001B[0;32m   1109\u001B[0m         \u001B[38;5;129;01mor\u001B[39;00m _global_forward_hooks \u001B[38;5;129;01mor\u001B[39;00m _global_forward_pre_hooks):\n\u001B[1;32m-> 1110\u001B[0m     \u001B[38;5;28;01mreturn\u001B[39;00m forward_call(\u001B[38;5;241m*\u001B[39m\u001B[38;5;28minput\u001B[39m, \u001B[38;5;241m*\u001B[39m\u001B[38;5;241m*\u001B[39mkwargs)\n\u001B[0;32m   1111\u001B[0m \u001B[38;5;66;03m# Do not call functions when jit is used\u001B[39;00m\n\u001B[0;32m   1112\u001B[0m full_backward_hooks, non_full_backward_hooks \u001B[38;5;241m=\u001B[39m [], []\n",
      "File \u001B[1;32mD:\\Work\\School\\Research Project\\MLPMixer\\pythonProject\\models\\MLPMixer.py:287\u001B[0m, in \u001B[0;36mMlpMixer.forward\u001B[1;34m(self, x)\u001B[0m\n\u001B[0;32m    285\u001B[0m \u001B[38;5;66;03m#run the mixer blocks\u001B[39;00m\n\u001B[0;32m    286\u001B[0m \u001B[38;5;28;01mfor\u001B[39;00m block \u001B[38;5;129;01min\u001B[39;00m \u001B[38;5;28mself\u001B[39m\u001B[38;5;241m.\u001B[39mMixerBlock:\n\u001B[1;32m--> 287\u001B[0m     patch \u001B[38;5;241m=\u001B[39m \u001B[43mblock\u001B[49m\u001B[43m(\u001B[49m\u001B[43mpatch\u001B[49m\u001B[43m)\u001B[49m\n\u001B[0;32m    289\u001B[0m \u001B[38;5;66;03m#apply the head normalization\u001B[39;00m\n\u001B[0;32m    290\u001B[0m out \u001B[38;5;241m=\u001B[39m \u001B[38;5;28mself\u001B[39m\u001B[38;5;241m.\u001B[39mhead_norm(patch)\n",
      "File \u001B[1;32mD:\\Work\\School\\Research Project\\MLPMixer\\lib\\site-packages\\torch\\nn\\modules\\module.py:1110\u001B[0m, in \u001B[0;36mModule._call_impl\u001B[1;34m(self, *input, **kwargs)\u001B[0m\n\u001B[0;32m   1106\u001B[0m \u001B[38;5;66;03m# If we don't have any hooks, we want to skip the rest of the logic in\u001B[39;00m\n\u001B[0;32m   1107\u001B[0m \u001B[38;5;66;03m# this function, and just call forward.\u001B[39;00m\n\u001B[0;32m   1108\u001B[0m \u001B[38;5;28;01mif\u001B[39;00m \u001B[38;5;129;01mnot\u001B[39;00m (\u001B[38;5;28mself\u001B[39m\u001B[38;5;241m.\u001B[39m_backward_hooks \u001B[38;5;129;01mor\u001B[39;00m \u001B[38;5;28mself\u001B[39m\u001B[38;5;241m.\u001B[39m_forward_hooks \u001B[38;5;129;01mor\u001B[39;00m \u001B[38;5;28mself\u001B[39m\u001B[38;5;241m.\u001B[39m_forward_pre_hooks \u001B[38;5;129;01mor\u001B[39;00m _global_backward_hooks\n\u001B[0;32m   1109\u001B[0m         \u001B[38;5;129;01mor\u001B[39;00m _global_forward_hooks \u001B[38;5;129;01mor\u001B[39;00m _global_forward_pre_hooks):\n\u001B[1;32m-> 1110\u001B[0m     \u001B[38;5;28;01mreturn\u001B[39;00m forward_call(\u001B[38;5;241m*\u001B[39m\u001B[38;5;28minput\u001B[39m, \u001B[38;5;241m*\u001B[39m\u001B[38;5;241m*\u001B[39mkwargs)\n\u001B[0;32m   1111\u001B[0m \u001B[38;5;66;03m# Do not call functions when jit is used\u001B[39;00m\n\u001B[0;32m   1112\u001B[0m full_backward_hooks, non_full_backward_hooks \u001B[38;5;241m=\u001B[39m [], []\n",
      "File \u001B[1;32mD:\\Work\\School\\Research Project\\MLPMixer\\pythonProject\\models\\MLPMixer.py:172\u001B[0m, in \u001B[0;36mMixerBlock.forward\u001B[1;34m(self, x)\u001B[0m\n\u001B[0;32m    170\u001B[0m token \u001B[38;5;241m=\u001B[39m \u001B[38;5;28mself\u001B[39m\u001B[38;5;241m.\u001B[39mpre_norm(x)\n\u001B[0;32m    171\u001B[0m token \u001B[38;5;241m=\u001B[39m torch\u001B[38;5;241m.\u001B[39mtranspose(token, \u001B[38;5;241m1\u001B[39m, \u001B[38;5;241m2\u001B[39m)\n\u001B[1;32m--> 172\u001B[0m token \u001B[38;5;241m=\u001B[39m \u001B[38;5;28;43mself\u001B[39;49m\u001B[38;5;241;43m.\u001B[39;49m\u001B[43mtoken_mixing\u001B[49m\u001B[43m(\u001B[49m\u001B[43mtoken\u001B[49m\u001B[43m)\u001B[49m\u001B[38;5;241m.\u001B[39mtranspose(\u001B[38;5;241m2\u001B[39m, \u001B[38;5;241m1\u001B[39m)\n\u001B[0;32m    174\u001B[0m \u001B[38;5;66;03m#skip connections\u001B[39;00m\n\u001B[0;32m    175\u001B[0m conn \u001B[38;5;241m=\u001B[39m x \u001B[38;5;241m+\u001B[39m token\n",
      "File \u001B[1;32mD:\\Work\\School\\Research Project\\MLPMixer\\lib\\site-packages\\torch\\nn\\modules\\module.py:1110\u001B[0m, in \u001B[0;36mModule._call_impl\u001B[1;34m(self, *input, **kwargs)\u001B[0m\n\u001B[0;32m   1106\u001B[0m \u001B[38;5;66;03m# If we don't have any hooks, we want to skip the rest of the logic in\u001B[39;00m\n\u001B[0;32m   1107\u001B[0m \u001B[38;5;66;03m# this function, and just call forward.\u001B[39;00m\n\u001B[0;32m   1108\u001B[0m \u001B[38;5;28;01mif\u001B[39;00m \u001B[38;5;129;01mnot\u001B[39;00m (\u001B[38;5;28mself\u001B[39m\u001B[38;5;241m.\u001B[39m_backward_hooks \u001B[38;5;129;01mor\u001B[39;00m \u001B[38;5;28mself\u001B[39m\u001B[38;5;241m.\u001B[39m_forward_hooks \u001B[38;5;129;01mor\u001B[39;00m \u001B[38;5;28mself\u001B[39m\u001B[38;5;241m.\u001B[39m_forward_pre_hooks \u001B[38;5;129;01mor\u001B[39;00m _global_backward_hooks\n\u001B[0;32m   1109\u001B[0m         \u001B[38;5;129;01mor\u001B[39;00m _global_forward_hooks \u001B[38;5;129;01mor\u001B[39;00m _global_forward_pre_hooks):\n\u001B[1;32m-> 1110\u001B[0m     \u001B[38;5;28;01mreturn\u001B[39;00m forward_call(\u001B[38;5;241m*\u001B[39m\u001B[38;5;28minput\u001B[39m, \u001B[38;5;241m*\u001B[39m\u001B[38;5;241m*\u001B[39mkwargs)\n\u001B[0;32m   1111\u001B[0m \u001B[38;5;66;03m# Do not call functions when jit is used\u001B[39;00m\n\u001B[0;32m   1112\u001B[0m full_backward_hooks, non_full_backward_hooks \u001B[38;5;241m=\u001B[39m [], []\n",
      "File \u001B[1;32mD:\\Work\\School\\Research Project\\MLPMixer\\pythonProject\\models\\MLPMixer.py:52\u001B[0m, in \u001B[0;36mMlpBlock.forward\u001B[1;34m(self, x)\u001B[0m\n\u001B[0;32m     42\u001B[0m \u001B[38;5;28;01mdef\u001B[39;00m \u001B[38;5;21mforward\u001B[39m(\u001B[38;5;28mself\u001B[39m, x):\n\u001B[0;32m     43\u001B[0m     \u001B[38;5;124;03m'''\u001B[39;00m\n\u001B[0;32m     44\u001B[0m \u001B[38;5;124;03m    :param x: torch.Tensor\u001B[39;00m\n\u001B[0;32m     45\u001B[0m \u001B[38;5;124;03m            Shape(num_samples, num_channels, num_patches) or Shape(num_samples, num_patches, num_channels)\u001B[39;00m\n\u001B[1;32m   (...)\u001B[0m\n\u001B[0;32m     49\u001B[0m \u001B[38;5;124;03m            will be the same as the input\u001B[39;00m\n\u001B[0;32m     50\u001B[0m \u001B[38;5;124;03m    '''\u001B[39;00m\n\u001B[1;32m---> 52\u001B[0m     x \u001B[38;5;241m=\u001B[39m \u001B[38;5;28;43mself\u001B[39;49m\u001B[38;5;241;43m.\u001B[39;49m\u001B[43mfc\u001B[49m\u001B[43m(\u001B[49m\u001B[43mx\u001B[49m\u001B[43m)\u001B[49m\n\u001B[0;32m     53\u001B[0m     x \u001B[38;5;241m=\u001B[39m \u001B[38;5;28mself\u001B[39m\u001B[38;5;241m.\u001B[39mact(x)\n\u001B[0;32m     54\u001B[0m     out \u001B[38;5;241m=\u001B[39m \u001B[38;5;28mself\u001B[39m\u001B[38;5;241m.\u001B[39mfc2(x)\n",
      "File \u001B[1;32mD:\\Work\\School\\Research Project\\MLPMixer\\lib\\site-packages\\torch\\nn\\modules\\module.py:1110\u001B[0m, in \u001B[0;36mModule._call_impl\u001B[1;34m(self, *input, **kwargs)\u001B[0m\n\u001B[0;32m   1106\u001B[0m \u001B[38;5;66;03m# If we don't have any hooks, we want to skip the rest of the logic in\u001B[39;00m\n\u001B[0;32m   1107\u001B[0m \u001B[38;5;66;03m# this function, and just call forward.\u001B[39;00m\n\u001B[0;32m   1108\u001B[0m \u001B[38;5;28;01mif\u001B[39;00m \u001B[38;5;129;01mnot\u001B[39;00m (\u001B[38;5;28mself\u001B[39m\u001B[38;5;241m.\u001B[39m_backward_hooks \u001B[38;5;129;01mor\u001B[39;00m \u001B[38;5;28mself\u001B[39m\u001B[38;5;241m.\u001B[39m_forward_hooks \u001B[38;5;129;01mor\u001B[39;00m \u001B[38;5;28mself\u001B[39m\u001B[38;5;241m.\u001B[39m_forward_pre_hooks \u001B[38;5;129;01mor\u001B[39;00m _global_backward_hooks\n\u001B[0;32m   1109\u001B[0m         \u001B[38;5;129;01mor\u001B[39;00m _global_forward_hooks \u001B[38;5;129;01mor\u001B[39;00m _global_forward_pre_hooks):\n\u001B[1;32m-> 1110\u001B[0m     \u001B[38;5;28;01mreturn\u001B[39;00m forward_call(\u001B[38;5;241m*\u001B[39m\u001B[38;5;28minput\u001B[39m, \u001B[38;5;241m*\u001B[39m\u001B[38;5;241m*\u001B[39mkwargs)\n\u001B[0;32m   1111\u001B[0m \u001B[38;5;66;03m# Do not call functions when jit is used\u001B[39;00m\n\u001B[0;32m   1112\u001B[0m full_backward_hooks, non_full_backward_hooks \u001B[38;5;241m=\u001B[39m [], []\n",
      "File \u001B[1;32mD:\\Work\\School\\Research Project\\MLPMixer\\lib\\site-packages\\torch\\nn\\modules\\linear.py:103\u001B[0m, in \u001B[0;36mLinear.forward\u001B[1;34m(self, input)\u001B[0m\n\u001B[0;32m    102\u001B[0m \u001B[38;5;28;01mdef\u001B[39;00m \u001B[38;5;21mforward\u001B[39m(\u001B[38;5;28mself\u001B[39m, \u001B[38;5;28minput\u001B[39m: Tensor) \u001B[38;5;241m-\u001B[39m\u001B[38;5;241m>\u001B[39m Tensor:\n\u001B[1;32m--> 103\u001B[0m     \u001B[38;5;28;01mreturn\u001B[39;00m \u001B[43mF\u001B[49m\u001B[38;5;241;43m.\u001B[39;49m\u001B[43mlinear\u001B[49m\u001B[43m(\u001B[49m\u001B[38;5;28;43minput\u001B[39;49m\u001B[43m,\u001B[49m\u001B[43m \u001B[49m\u001B[38;5;28;43mself\u001B[39;49m\u001B[38;5;241;43m.\u001B[39;49m\u001B[43mweight\u001B[49m\u001B[43m,\u001B[49m\u001B[43m \u001B[49m\u001B[38;5;28;43mself\u001B[39;49m\u001B[38;5;241;43m.\u001B[39;49m\u001B[43mbias\u001B[49m\u001B[43m)\u001B[49m\n",
      "\u001B[1;31mRuntimeError\u001B[0m: mat1 and mat2 shapes cannot be multiplied (32768x21 and 49x256)"
     ]
    }
   ],
   "source": [
    "from models import MLPMixer, train\n",
    "import torch\n",
    "model = MLPMixer.MlpMixer(image_height=77, image_width=77,\n",
    "                          patch_size=11, token_dim=256, channel_dim=2048,\n",
    "                          patch_dim=512, num_classes=18,\n",
    "                          num_blocks=10)\n",
    "model = model.cuda()\n",
    "\n",
    "print(sum(p.numel() for p in model.parameters() if p.requires_grad))\n",
    "\n",
    "path = \"../saved/oppo/oppo_gestures_step3_window77_patch11_downsample3_lr0_01_s42_checkpoint.bin\"\n",
    "arr = torch.load(path)\n",
    "model.load_state_dict(arr)\n",
    "\n",
    "from torch.utils.data import DataLoader, SequentialSampler\n",
    "\n",
    "test_sampler = SequentialSampler(test)\n",
    "testing_loader = DataLoader(dataset=test,\n",
    "                            batch_size=64,\n",
    "                            sampler=test_sampler,\n",
    "                            num_workers=0,\n",
    "                            drop_last=True,\n",
    "                            pin_memory=True)\n",
    "\n",
    "label, pred, prob = validate(testing_loader, model)\n",
    "\n",
    "from sklearn.metrics import classification_report\n",
    "print(classification_report(label, pred, target_names=id2label))"
   ],
   "metadata": {
    "collapsed": false,
    "pycharm": {
     "name": "#%%\n"
    }
   }
  },
  {
   "cell_type": "code",
   "execution_count": 3,
   "outputs": [
    {
     "name": "stdout",
     "output_type": "stream",
     "text": [
      "23208166\n"
     ]
    },
    {
     "name": "stderr",
     "output_type": "stream",
     "text": [
      "Testing... (loss=0.00023): 100%|| 115/115 [00:28<00:00,  4.05it/s]\n"
     ]
    },
    {
     "name": "stdout",
     "output_type": "stream",
     "text": [
      "Normalized confusion matrix\n",
      "[[1.00000000e+00 0.00000000e+00 0.00000000e+00 0.00000000e+00\n",
      "  0.00000000e+00 0.00000000e+00 0.00000000e+00 0.00000000e+00\n",
      "  0.00000000e+00 0.00000000e+00 0.00000000e+00]\n",
      " [0.00000000e+00 1.00000000e+00 0.00000000e+00 0.00000000e+00\n",
      "  0.00000000e+00 0.00000000e+00 0.00000000e+00 0.00000000e+00\n",
      "  0.00000000e+00 0.00000000e+00 0.00000000e+00]\n",
      " [0.00000000e+00 0.00000000e+00 7.57823129e-01 0.00000000e+00\n",
      "  0.00000000e+00 0.00000000e+00 0.00000000e+00 0.00000000e+00\n",
      "  0.00000000e+00 0.00000000e+00 2.42176871e-01]\n",
      " [0.00000000e+00 0.00000000e+00 0.00000000e+00 9.83311938e-01\n",
      "  0.00000000e+00 0.00000000e+00 6.41848524e-03 8.98587933e-03\n",
      "  1.28369705e-03 0.00000000e+00 0.00000000e+00]\n",
      " [0.00000000e+00 0.00000000e+00 0.00000000e+00 0.00000000e+00\n",
      "  1.00000000e+00 0.00000000e+00 0.00000000e+00 0.00000000e+00\n",
      "  0.00000000e+00 0.00000000e+00 0.00000000e+00]\n",
      " [0.00000000e+00 0.00000000e+00 0.00000000e+00 0.00000000e+00\n",
      "  0.00000000e+00 1.00000000e+00 0.00000000e+00 0.00000000e+00\n",
      "  0.00000000e+00 0.00000000e+00 0.00000000e+00]\n",
      " [0.00000000e+00 0.00000000e+00 0.00000000e+00 1.22549020e-03\n",
      "  0.00000000e+00 0.00000000e+00 9.98774510e-01 0.00000000e+00\n",
      "  0.00000000e+00 0.00000000e+00 0.00000000e+00]\n",
      " [0.00000000e+00 0.00000000e+00 0.00000000e+00 0.00000000e+00\n",
      "  0.00000000e+00 0.00000000e+00 0.00000000e+00 9.96774194e-01\n",
      "  3.22580645e-03 0.00000000e+00 0.00000000e+00]\n",
      " [0.00000000e+00 0.00000000e+00 0.00000000e+00 0.00000000e+00\n",
      "  0.00000000e+00 0.00000000e+00 0.00000000e+00 0.00000000e+00\n",
      "  9.87551867e-01 4.14937759e-03 8.29875519e-03]\n",
      " [0.00000000e+00 9.44881890e-03 2.04724409e-02 0.00000000e+00\n",
      "  0.00000000e+00 0.00000000e+00 9.44881890e-03 3.62204724e-02\n",
      "  1.57480315e-03 9.22834646e-01 0.00000000e+00]\n",
      " [0.00000000e+00 0.00000000e+00 1.68634064e-03 1.68634064e-03\n",
      "  0.00000000e+00 5.05902192e-03 0.00000000e+00 0.00000000e+00\n",
      "  0.00000000e+00 8.43170320e-04 9.90725126e-01]]\n",
      "Throughput:  266.70526032834744 accuracy:  tensor(0.9652)  micro_f1:  0.9652173913043478  macro_f1:  0.9680401085246575  weighted_f1:  0.9644078556779021\n"
     ]
    },
    {
     "ename": "ValueError",
     "evalue": "Number of classes, 11, does not match size of target_names, 12. Try specifying the labels parameter",
     "output_type": "error",
     "traceback": [
      "\u001B[1;31m---------------------------------------------------------------------------\u001B[0m",
      "\u001B[1;31mValueError\u001B[0m                                Traceback (most recent call last)",
      "Input \u001B[1;32mIn [3]\u001B[0m, in \u001B[0;36m<cell line: 29>\u001B[1;34m()\u001B[0m\n\u001B[0;32m     27\u001B[0m \u001B[38;5;66;03m#\u001B[39;00m\n\u001B[0;32m     28\u001B[0m \u001B[38;5;28;01mfrom\u001B[39;00m \u001B[38;5;21;01msklearn\u001B[39;00m\u001B[38;5;21;01m.\u001B[39;00m\u001B[38;5;21;01mmetrics\u001B[39;00m \u001B[38;5;28;01mimport\u001B[39;00m classification_report\n\u001B[1;32m---> 29\u001B[0m \u001B[38;5;28mprint\u001B[39m(\u001B[43mclassification_report\u001B[49m\u001B[43m(\u001B[49m\u001B[43mlabel\u001B[49m\u001B[43m,\u001B[49m\u001B[43m \u001B[49m\u001B[43mpred\u001B[49m\u001B[43m,\u001B[49m\u001B[43m \u001B[49m\u001B[43mtarget_names\u001B[49m\u001B[38;5;241;43m=\u001B[39;49m\u001B[43mid2label\u001B[49m\u001B[43m)\u001B[49m)\n",
      "File \u001B[1;32mD:\\Work\\School\\Research Project\\MLPMixer\\lib\\site-packages\\sklearn\\metrics\\_classification.py:2147\u001B[0m, in \u001B[0;36mclassification_report\u001B[1;34m(y_true, y_pred, labels, target_names, sample_weight, digits, output_dict, zero_division)\u001B[0m\n\u001B[0;32m   2141\u001B[0m         warnings\u001B[38;5;241m.\u001B[39mwarn(\n\u001B[0;32m   2142\u001B[0m             \u001B[38;5;124m\"\u001B[39m\u001B[38;5;124mlabels size, \u001B[39m\u001B[38;5;132;01m{0}\u001B[39;00m\u001B[38;5;124m, does not match size of target_names, \u001B[39m\u001B[38;5;132;01m{1}\u001B[39;00m\u001B[38;5;124m\"\u001B[39m\u001B[38;5;241m.\u001B[39mformat(\n\u001B[0;32m   2143\u001B[0m                 \u001B[38;5;28mlen\u001B[39m(labels), \u001B[38;5;28mlen\u001B[39m(target_names)\n\u001B[0;32m   2144\u001B[0m             )\n\u001B[0;32m   2145\u001B[0m         )\n\u001B[0;32m   2146\u001B[0m     \u001B[38;5;28;01melse\u001B[39;00m:\n\u001B[1;32m-> 2147\u001B[0m         \u001B[38;5;28;01mraise\u001B[39;00m \u001B[38;5;167;01mValueError\u001B[39;00m(\n\u001B[0;32m   2148\u001B[0m             \u001B[38;5;124m\"\u001B[39m\u001B[38;5;124mNumber of classes, \u001B[39m\u001B[38;5;132;01m{0}\u001B[39;00m\u001B[38;5;124m, does not match size of \u001B[39m\u001B[38;5;124m\"\u001B[39m\n\u001B[0;32m   2149\u001B[0m             \u001B[38;5;124m\"\u001B[39m\u001B[38;5;124mtarget_names, \u001B[39m\u001B[38;5;132;01m{1}\u001B[39;00m\u001B[38;5;124m. Try specifying the labels \u001B[39m\u001B[38;5;124m\"\u001B[39m\n\u001B[0;32m   2150\u001B[0m             \u001B[38;5;124m\"\u001B[39m\u001B[38;5;124mparameter\u001B[39m\u001B[38;5;124m\"\u001B[39m\u001B[38;5;241m.\u001B[39mformat(\u001B[38;5;28mlen\u001B[39m(labels), \u001B[38;5;28mlen\u001B[39m(target_names))\n\u001B[0;32m   2151\u001B[0m         )\n\u001B[0;32m   2152\u001B[0m \u001B[38;5;28;01mif\u001B[39;00m target_names \u001B[38;5;129;01mis\u001B[39;00m \u001B[38;5;28;01mNone\u001B[39;00m:\n\u001B[0;32m   2153\u001B[0m     target_names \u001B[38;5;241m=\u001B[39m [\u001B[38;5;124m\"\u001B[39m\u001B[38;5;132;01m%s\u001B[39;00m\u001B[38;5;124m\"\u001B[39m \u001B[38;5;241m%\u001B[39m l \u001B[38;5;28;01mfor\u001B[39;00m l \u001B[38;5;129;01min\u001B[39;00m labels]\n",
      "\u001B[1;31mValueError\u001B[0m: Number of classes, 11, does not match size of target_names, 12. Try specifying the labels parameter"
     ]
    },
    {
     "data": {
      "text/plain": "<Figure size 702x702 with 2 Axes>",
      "image/png": "[encoded data removed]"
     },
     "metadata": {
      "needs_background": "light"
     },
     "output_type": "display_data"
    }
   ],
   "source": [
    "from models import MLPMixer, train\n",
    "import torch\n",
    "model = MLPMixer.MlpMixer(image_height=40, image_width=84,\n",
    "                          patch_size=4, token_dim=512, channel_dim=2048,\n",
    "                          patch_dim=512, num_classes=12,\n",
    "                          num_blocks=10)\n",
    "model = model.cuda()\n",
    "\n",
    "print(sum(p.numel() for p in model.parameters() if p.requires_grad))\n",
    "\n",
    "path = \"../saved/pamap2/pamap2_step10_window84_patch4_downsample3_lr0_01_tokendim512_s42_final_checkpoint.bin\"\n",
    "arr = torch.load(path)\n",
    "model.load_state_dict(arr)\n",
    "\n",
    "\n",
    "from torch.utils.data import DataLoader, SequentialSampler\n",
    "\n",
    "test_sampler = SequentialSampler(test)\n",
    "testing_loader = DataLoader(dataset=test,\n",
    "                            batch_size=64,\n",
    "                            sampler=test_sampler,\n",
    "                            num_workers=0,\n",
    "                            drop_last=True,\n",
    "                            pin_memory=True)\n",
    "\n",
    "label, pred, prob = validate(testing_loader, model)\n",
    "#\n",
    "from sklearn.metrics import classification_report\n",
    "print(classification_report(label, pred, target_names=id2label))"
   ],
   "metadata": {
    "collapsed": false,
    "pycharm": {
     "name": "#%%\n"
    }
   }
  },
  {
   "cell_type": "code",
   "execution_count": 29,
   "outputs": [
    {
     "name": "stdout",
     "output_type": "stream",
     "text": [
      "5475636\n"
     ]
    },
    {
     "name": "stderr",
     "output_type": "stream",
     "text": [
      "Testing... (loss=0.03282): 100%|| 235/235 [00:06<00:00, 34.25it/s]\n"
     ]
    },
    {
     "name": "stdout",
     "output_type": "stream",
     "text": [
      "Normalized confusion matrix\n",
      "[[0.963 0.037]\n",
      " [0.259 0.741]]\n",
      "Throughput:  2966.1451331826675 accuracy:  tensor(0.9345)  micro_f1:  0.9345079787234043  macro_f1:  0.8518209927095277  weighted_f1:  0.9345006189560688\n",
      "              precision    recall  f1-score   support\n",
      "\n",
      "   No freeze       0.96      0.96      0.96     13137\n",
      "      freeze       0.74      0.74      0.74      1903\n",
      "\n",
      "    accuracy                           0.93     15040\n",
      "   macro avg       0.85      0.85      0.85     15040\n",
      "weighted avg       0.93      0.93      0.93     15040\n",
      "\n"
     ]
    },
    {
     "data": {
      "text/plain": "<Figure size 300x300 with 2 Axes>",
      "image/png": "[encoded data removed]"
     },
     "metadata": {},
     "output_type": "display_data"
    }
   ],
   "source": [
    "from models import MLPMixer, train\n",
    "import torch\n",
    "model = MLPMixer.MlpMixer(image_height=9, image_width=126,\n",
    "                          patch_size=9, token_dim=256, channel_dim=512,\n",
    "                          patch_dim=512, num_classes=2,\n",
    "                          num_blocks=10)\n",
    "model = model.cuda()\n",
    "\n",
    "\n",
    "print(sum(p.numel() for p in model.parameters() if p.requires_grad))\n",
    "path = \"../saved/daphnet/daphnet_step3_window126_patch9_downsample2_lr0_01_WDe3_s42_checkpoint.bin\"\n",
    "arr = torch.load(path)\n",
    "model.load_state_dict(arr)\n",
    "\n",
    "\n",
    "from torch.utils.data import DataLoader, SequentialSampler\n",
    "\n",
    "test_sampler = SequentialSampler(test)\n",
    "testing_loader = DataLoader(dataset=test,\n",
    "                            batch_size=64,\n",
    "                            sampler=test_sampler,\n",
    "                            num_workers=0,\n",
    "                            drop_last=True,\n",
    "                            pin_memory=True)\n",
    "\n",
    "label, pred, prob = validate(testing_loader, model)\n",
    "#\n",
    "from sklearn.metrics import classification_report\n",
    "print(classification_report(label, pred, target_names=id2label))"
   ],
   "metadata": {
    "collapsed": false,
    "pycharm": {
     "name": "#%%\n"
    }
   }
  },
  {
   "cell_type": "code",
   "execution_count": 13,
   "outputs": [
    {
     "name": "stderr",
     "output_type": "stream",
     "text": [
      "Testing... (loss=0.00005): 100%|| 471/471 [00:12<00:00, 38.35it/s]\n"
     ]
    },
    {
     "name": "stdout",
     "output_type": "stream",
     "text": [
      "Normalized confusion matrix\n",
      "[[0.97948542 0.02051458]\n",
      " [0.86666667 0.13333333]]\n",
      "Throughput:  2997.2124675885575 accuracy:  tensor(0.8709)  micro_f1:  0.870853237791932  macro_f1:  0.5696127129931836  weighted_f1:  0.8372281108119377\n"
     ]
    },
    {
     "data": {
      "text/plain": "<Figure size 576x396 with 2 Axes>",
      "image/png": "[encoded data removed]"
     },
     "metadata": {},
     "output_type": "display_data"
    },
    {
     "data": {
      "text/plain": "<Figure size 576x396 with 2 Axes>",
      "image/png": "[encoded data removed]"
     },
     "metadata": {},
     "output_type": "display_data"
    }
   ],
   "source": [
    "path = \"../saved/daphnet/daphnet_step3_window99_patch9_downsample2_lr0_01_channeldim512_s42_checkpoint.bin\"\n",
    "from torch.utils.data import DataLoader, SequentialSampler\n",
    "\n",
    "test_sampler = SequentialSampler(test)\n",
    "testing_loader = DataLoader(dataset=test,\n",
    "                            batch_size=64,\n",
    "                            sampler=test_sampler,\n",
    "                            num_workers=0,\n",
    "                            drop_last=True,\n",
    "                            pin_memory=True)\n",
    "\n",
    "label, pred, prob = validate(testing_loader, model)"
   ],
   "metadata": {
    "collapsed": false,
    "pycharm": {
     "name": "#%%\n"
    }
   }
  },
  {
   "cell_type": "code",
   "execution_count": 331,
   "outputs": [
    {
     "name": "stdout",
     "output_type": "stream",
     "text": [
      "[0.978 0.022]\n"
     ]
    }
   ],
   "source": [
    "def softmax(a, axis=None):\n",
    "    \"\"\"\n",
    "    Computes exp(a)/sumexp(a); relies on scipy logsumexp implementation.\n",
    "    :param a: ndarray/tensor\n",
    "    :param axis: axis to sum over; default (None) sums over everything\n",
    "    \"\"\"\n",
    "    from scipy.special import logsumexp\n",
    "    lse = logsumexp(a, axis=axis)  # this reduces along axis\n",
    "    if axis is not None:\n",
    "        lse = np.expand_dims(lse, axis)  # restore that axis for subtraction\n",
    "    return np.exp(a - lse)\n",
    "\n",
    "soft_prob = softmax(prob, 1)"
   ],
   "metadata": {
    "collapsed": false,
    "pycharm": {
     "name": "#%%\n"
    }
   }
  },
  {
   "cell_type": "code",
   "execution_count": 337,
   "outputs": [
    {
     "data": {
      "text/plain": "<Figure size 720x144 with 1 Axes>",
      "image/png": "[encoded data removed]"
     },
     "metadata": {},
     "output_type": "display_data"
    }
   ],
   "source": [
    "import matplotlib.pyplot as plt\n",
    "import pandas as pd\n",
    "import numpy as np\n",
    "import matplotlib.pyplot as plt\n",
    "import seaborn as sns\n",
    "plt.style.use(\"seaborn\")\n",
    "\n",
    "sprob_t = soft_prob.transpose()\n",
    "#split = [data[i] for i in range(len(data))]\n",
    "x = np.array(range(sprob_t.shape[1]))\n",
    "\n",
    "fig = plt.figure(figsize=(10,2))\n",
    "colors = sns.color_palette(\"RdBu\", len(id2label))\n",
    "\n",
    "for i in range(len(id2label)):\n",
    "    plt.plot(x, sprob_t[i], label=id2label[i])\n",
    "\n",
    "plt.legend(loc = \"upper center\", bbox_to_anchor=(1.1, 0.8), ncol=1)\n",
    "plt.title('Activities')\n",
    "plt.xlabel('Seconds')\n",
    "\n",
    "plt.yticks([])\n",
    "\n",
    "plt.show()\n"
   ],
   "metadata": {
    "collapsed": false,
    "pycharm": {
     "name": "#%%\n"
    }
   }
  },
  {
   "cell_type": "code",
   "execution_count": 157,
   "outputs": [
    {
     "name": "stdout",
     "output_type": "stream",
     "text": [
      "[1 1 1 1 1 1 1 1 1 1 1 1 1 1 1 1 1 1 1 1 1 1 1 1 2 2 2 2 2 2 1 1 1 1 1 1 1\n",
      " 1 1 1 1 2 2 2 2 2 2 2 2 1 1 1 1 1 1 1 1 1 1 1 1 2 2 2 2 2 2 2 2 2 2 2 2 1\n",
      " 1 1 1 2 2 2 2 2 2 2 2 2 2 2 1 1 1 2 2 2 2 2 2 2 1 1 1 3 3 3 3 3 3 3 3 4 4\n",
      " 4 4 4 4 4 4 4 4 4 4 4 4 4 4 4 4 4 4 4 4 4 4 4 4 4 4 4 4 3 3 3 3 3 1 1 1 2\n",
      " 2 2 2 2 2 2 2 2 0 0 0 0 0 0 0 0 0 0 0 0 0 0 0 0 0 0 0 0 0 0 0 0 0 0 0 0 0\n",
      " 0 0 0 0 0 0 0 0 0 0 0 0 0 0 0]\n",
      "[[ 0  1  2  3  4]\n",
      " [44 60 53 13 30]]\n"
     ]
    }
   ],
   "source": [
    "z = test.data['targets'][5900:6100]\n",
    "print(z)\n",
    "count = np.array(np.unique(z, return_counts=True))\n",
    "print(count)"
   ],
   "metadata": {
    "collapsed": false,
    "pycharm": {
     "name": "#%%\n"
    }
   }
  },
  {
   "cell_type": "code",
   "execution_count": 35,
   "outputs": [
    {
     "data": {
      "text/plain": "<Figure size 576x288 with 1 Axes>",
      "image/png": "[encoded data removed]"
     },
     "metadata": {
      "needs_background": "light"
     },
     "output_type": "display_data"
    }
   ],
   "source": [
    "import matplotlib.pyplot as plt\n",
    "import pandas as pd\n",
    "import numpy as np\n",
    "import matplotlib.pyplot as plt\n",
    "import seaborn as sns\n",
    "\n",
    "#split = [data[i] for i in range(len(data))]\n",
    "x = np.array([22, 33, 44, 55, 66, 77, 88, 99, 110, 143])\n",
    "y = np.array([0.889, 0.899, 0.906, 0.898, 0.906, 0.913, 0.905, 0.889, 0.905, 0.885])\n",
    "#x = np.linspace(0, (1/30 * len(test.data['targets'])), num=len(test.data['targets']), endpoint=True, retstep=False, dtype=None, axis=0)\n",
    "\n",
    "fig, ax = plt.subplots(figsize=(8, 4))\n",
    "\n",
    "ax.set_xlabel('Sliding Window Length', fontsize=11, labelpad=5)\n",
    "ax.set_ylabel('Weighted F1 Score', fontsize=11, labelpad=5)\n",
    "ax.set_title('Opportunity Dataset', fontsize=15, pad=20)\n",
    "\n",
    "ax.title.set_color('black')\n",
    "ax.xaxis.label.set_color('black')\n",
    "ax.yaxis.label.set_color('black')\n",
    "ax.tick_params(colors='black', which='both')\n",
    "\n",
    "plt.plot(x, y)\n",
    "plt.scatter(x, y, s=5)\n",
    "\n",
    "plt.ylim([0, 1])\n",
    "\n",
    "plt.show()"
   ],
   "metadata": {
    "collapsed": false,
    "pycharm": {
     "name": "#%%\n"
    }
   }
  },
  {
   "cell_type": "code",
   "execution_count": 37,
   "outputs": [
    {
     "data": {
      "text/plain": "<Figure size 576x288 with 1 Axes>",
      "image/png": "[encoded data removed]"
     },
     "metadata": {
      "needs_background": "light"
     },
     "output_type": "display_data"
    }
   ],
   "source": [
    "import matplotlib.pyplot as plt\n",
    "import pandas as pd\n",
    "import numpy as np\n",
    "import matplotlib.pyplot as plt\n",
    "import seaborn as sns\n",
    "\n",
    "#split = [data[i] for i in range(len(data))]\n",
    "x = np.array([10, 20, 30, 40, 60, 80, 100, 120, 140])\n",
    "y = np.array([0.862, 0.863, 0.913, 0.925, 0.862, 0.927, 0.873, 0.959, 0.966])\n",
    "#x = np.linspace(0, (1/30 * len(test.data['targets'])), num=len(test.data['targets']), endpoint=True, retstep=False, dtype=None, axis=0)\n",
    "\n",
    "fig, ax = plt.subplots(figsize=(8, 4))\n",
    "\n",
    "ax.set_xlabel('Sliding Window Length', fontsize=11, labelpad=5)\n",
    "ax.set_ylabel('Macro F1 Score', fontsize=11, labelpad=5)\n",
    "ax.set_title('PAMAP2 Dataset', fontsize=15, pad=20)\n",
    "\n",
    "ax.title.set_color('black')\n",
    "ax.xaxis.label.set_color('black')\n",
    "ax.yaxis.label.set_color('black')\n",
    "ax.tick_params(colors='black', which='both')\n",
    "\n",
    "plt.plot(x, y)\n",
    "plt.scatter(x, y, s=5)\n",
    "\n",
    "plt.ylim([0, 1])\n",
    "\n",
    "plt.show()"
   ],
   "metadata": {
    "collapsed": false,
    "pycharm": {
     "name": "#%%\n"
    }
   }
  },
  {
   "cell_type": "code",
   "execution_count": 40,
   "outputs": [
    {
     "data": {
      "text/plain": "<Figure size 576x288 with 1 Axes>",
      "image/png": "[encoded data removed]"
     },
     "metadata": {
      "needs_background": "light"
     },
     "output_type": "display_data"
    }
   ],
   "source": [
    "import matplotlib.pyplot as plt\n",
    "import pandas as pd\n",
    "import numpy as np\n",
    "import matplotlib.pyplot as plt\n",
    "import seaborn as sns\n",
    "\n",
    "#split = [data[i] for i in range(len(data))]\n",
    "x = np.array([18, 27, 36, 45, 54, 63, 72, 81, 99, 108, 126, 135, 144, 153])\n",
    "y = np.array([0.682, 0.728, 0.778, 0.768, 0.768, 0.77, 0.781, 0.797, 0.822, 0.757, 0.851, 0.812, 0.763, 0.796])\n",
    "#x = np.linspace(0, (1/30 * len(test.data['targets'])), num=len(test.data['targets']), endpoint=True, retstep=False, dtype=None, axis=0)\n",
    "\n",
    "fig, ax = plt.subplots(figsize=(8, 4))\n",
    "\n",
    "ax.set_xlabel('Sliding Window Length', fontsize=11, labelpad=5)\n",
    "ax.set_ylabel('Macro F1 Score', fontsize=11, labelpad=5)\n",
    "ax.set_title('Daphnet Dataset', fontsize=15, pad=20)\n",
    "\n",
    "ax.title.set_color('black')\n",
    "ax.xaxis.label.set_color('black')\n",
    "ax.yaxis.label.set_color('black')\n",
    "ax.tick_params(colors='black', which='both')\n",
    "\n",
    "plt.plot(x, y)\n",
    "plt.scatter(x, y, s=5)\n",
    "\n",
    "plt.ylim([0, 1])\n",
    "\n",
    "plt.show()"
   ],
   "metadata": {
    "collapsed": false,
    "pycharm": {
     "name": "#%%\n"
    }
   }
  },
  {
   "cell_type": "code",
   "execution_count": 121,
   "outputs": [
    {
     "name": "stdout",
     "output_type": "stream",
     "text": [
      "0.9127940000000001 0.0024884340457404226\n",
      "0.842342 0.007755352732145707\n",
      "0.9704119999999999 0.0015815359622847812\n"
     ]
    }
   ],
   "source": [
    "#oppo\n",
    "m = np.array([0.91662, 0.91258, 0.90877, 0.913, 0.913])\n",
    "print(m.mean(), m.std())\n",
    "\n",
    "#daphnet\n",
    "m = np.array([0.85182, 0.84889, 0.84257, 0.83845, 0.82998])\n",
    "print(m.mean(), m.std())\n",
    "\n",
    "#PAMAP2\n",
    "m = np.array([0.97030, 0.97238, 0.96949, 0.96803, 0.97186])\n",
    "print(m.mean(), m.std())"
   ],
   "metadata": {
    "collapsed": false,
    "pycharm": {
     "name": "#%%\n"
    }
   }
  },
  {
   "cell_type": "code",
   "execution_count": 4,
   "outputs": [
    {
     "name": "stdout",
     "output_type": "stream",
     "text": [
      "har_embedding.weight\n",
      "har_embedding.bias\n",
      "patch_embedding.weight\n",
      "patch_embedding.bias\n",
      "MixerBlock.0.pre_norm.weight\n",
      "MixerBlock.0.pre_norm.bias\n",
      "MixerBlock.0.post_norm.weight\n",
      "MixerBlock.0.post_norm.bias\n",
      "MixerBlock.0.channel_mixing.fc.weight\n",
      "MixerBlock.0.channel_mixing.fc.bias\n",
      "MixerBlock.0.channel_mixing.fc2.weight\n",
      "MixerBlock.0.channel_mixing.fc2.bias\n",
      "MixerBlock.1.pre_norm.weight\n",
      "MixerBlock.1.pre_norm.bias\n",
      "MixerBlock.1.post_norm.weight\n",
      "MixerBlock.1.post_norm.bias\n",
      "MixerBlock.1.channel_mixing.fc.weight\n",
      "MixerBlock.1.channel_mixing.fc.bias\n",
      "MixerBlock.1.channel_mixing.fc2.weight\n",
      "MixerBlock.1.channel_mixing.fc2.bias\n",
      "MixerBlock.2.pre_norm.weight\n",
      "MixerBlock.2.pre_norm.bias\n",
      "MixerBlock.2.post_norm.weight\n",
      "MixerBlock.2.post_norm.bias\n",
      "MixerBlock.2.channel_mixing.fc.weight\n",
      "MixerBlock.2.channel_mixing.fc.bias\n",
      "MixerBlock.2.channel_mixing.fc2.weight\n",
      "MixerBlock.2.channel_mixing.fc2.bias\n",
      "MixerBlock.3.pre_norm.weight\n",
      "MixerBlock.3.pre_norm.bias\n",
      "MixerBlock.3.post_norm.weight\n",
      "MixerBlock.3.post_norm.bias\n",
      "MixerBlock.3.channel_mixing.fc.weight\n",
      "MixerBlock.3.channel_mixing.fc.bias\n",
      "MixerBlock.3.channel_mixing.fc2.weight\n",
      "MixerBlock.3.channel_mixing.fc2.bias\n",
      "MixerBlock.4.pre_norm.weight\n",
      "MixerBlock.4.pre_norm.bias\n",
      "MixerBlock.4.post_norm.weight\n",
      "MixerBlock.4.post_norm.bias\n",
      "MixerBlock.4.channel_mixing.fc.weight\n",
      "MixerBlock.4.channel_mixing.fc.bias\n",
      "MixerBlock.4.channel_mixing.fc2.weight\n",
      "MixerBlock.4.channel_mixing.fc2.bias\n",
      "head_norm.weight\n",
      "head_norm.bias\n",
      "classifer_head.weight\n",
      "classifer_head.bias\n"
     ]
    }
   ],
   "source": [
    "from models import MLPMixer, train\n",
    "import torch\n",
    "model = MLPMixer.MlpMixer(image_height=9, image_width=126,\n",
    "                          patch_size=9, token_dim=256, channel_dim=512,\n",
    "                          patch_dim=512, num_classes=2,\n",
    "                          num_blocks=5, NoToken=True,\n",
    "                          NoChannel=False, NoRGB=False)\n",
    "model = model.cuda()\n",
    "\n",
    "for name, param in model.named_parameters():\n",
    "    if param.requires_grad:\n",
    "        print (name)"
   ],
   "metadata": {
    "collapsed": false,
    "pycharm": {
     "name": "#%%\n"
    }
   }
  },
  {
   "cell_type": "markdown",
   "source": [],
   "metadata": {
    "collapsed": false,
    "pycharm": {
     "name": "#%% md\n"
    }
   }
  }
 ],
 "metadata": {
  "kernelspec": {
   "display_name": "Python 3",
   "language": "python",
   "name": "python3"
  },
  "language_info": {
   "codemirror_mode": {
    "name": "ipython",
    "version": 2
   },
   "file_extension": ".py",
   "mimetype": "text/x-python",
   "name": "python",
   "nbconvert_exporter": "python",
   "pygments_lexer": "ipython2",
   "version": "2.7.6"
  }
 },
 "nbformat": 4,
 "nbformat_minor": 0
}